{
 "cells": [
  {
   "cell_type": "code",
   "execution_count": 1,
   "metadata": {},
   "outputs": [],
   "source": [
    "import pandas as pd\n",
    "import numpy as np\n",
    "import pickle\n",
    "from matplotlib import pyplot as plt\n",
    "%matplotlib inline\n",
    "import seaborn as sns\n",
    "import random"
   ]
  },
  {
   "cell_type": "code",
   "execution_count": 2,
   "metadata": {},
   "outputs": [
    {
     "name": "stderr",
     "output_type": "stream",
     "text": [
      "C:\\Users\\admin\\Anaconda3\\lib\\site-packages\\IPython\\core\\interactiveshell.py:3049: DtypeWarning: Columns (0,18,48,58,117,128,129,130,133,134,135,138,144,145,146) have mixed types. Specify dtype option on import or set low_memory=False.\n",
      "  interactivity=interactivity, compiler=compiler, result=result)\n"
     ]
    }
   ],
   "source": [
    "data=pd.read_csv(\"D:\\\\pandora\\Cdac Final Project\\Loan\\Loan default.csv\")"
   ]
  },
  {
   "cell_type": "code",
   "execution_count": null,
   "metadata": {},
   "outputs": [],
   "source": []
  },
  {
   "cell_type": "code",
   "execution_count": 3,
   "metadata": {},
   "outputs": [
    {
     "data": {
      "text/html": [
       "<div>\n",
       "<style scoped>\n",
       "    .dataframe tbody tr th:only-of-type {\n",
       "        vertical-align: middle;\n",
       "    }\n",
       "\n",
       "    .dataframe tbody tr th {\n",
       "        vertical-align: top;\n",
       "    }\n",
       "\n",
       "    .dataframe thead th {\n",
       "        text-align: right;\n",
       "    }\n",
       "</style>\n",
       "<table border=\"1\" class=\"dataframe\">\n",
       "  <thead>\n",
       "    <tr style=\"text-align: right;\">\n",
       "      <th></th>\n",
       "      <th>id</th>\n",
       "      <th>member_id</th>\n",
       "      <th>loan_amnt</th>\n",
       "      <th>funded_amnt</th>\n",
       "      <th>funded_amnt_inv</th>\n",
       "      <th>term</th>\n",
       "      <th>int_rate</th>\n",
       "      <th>installment</th>\n",
       "      <th>grade</th>\n",
       "      <th>sub_grade</th>\n",
       "      <th>...</th>\n",
       "      <th>hardship_payoff_balance_amount</th>\n",
       "      <th>hardship_last_payment_amount</th>\n",
       "      <th>disbursement_method</th>\n",
       "      <th>debt_settlement_flag</th>\n",
       "      <th>debt_settlement_flag_date</th>\n",
       "      <th>settlement_status</th>\n",
       "      <th>settlement_date</th>\n",
       "      <th>settlement_amount</th>\n",
       "      <th>settlement_percentage</th>\n",
       "      <th>settlement_term</th>\n",
       "    </tr>\n",
       "  </thead>\n",
       "  <tbody>\n",
       "    <tr>\n",
       "      <th>0</th>\n",
       "      <td>38098114</td>\n",
       "      <td>NaN</td>\n",
       "      <td>15000.0</td>\n",
       "      <td>15000.0</td>\n",
       "      <td>15000.0</td>\n",
       "      <td>60 months</td>\n",
       "      <td>12.39</td>\n",
       "      <td>336.64</td>\n",
       "      <td>C</td>\n",
       "      <td>C1</td>\n",
       "      <td>...</td>\n",
       "      <td>NaN</td>\n",
       "      <td>NaN</td>\n",
       "      <td>Cash</td>\n",
       "      <td>N</td>\n",
       "      <td>NaN</td>\n",
       "      <td>NaN</td>\n",
       "      <td>NaN</td>\n",
       "      <td>NaN</td>\n",
       "      <td>NaN</td>\n",
       "      <td>NaN</td>\n",
       "    </tr>\n",
       "    <tr>\n",
       "      <th>1</th>\n",
       "      <td>36805548</td>\n",
       "      <td>NaN</td>\n",
       "      <td>10400.0</td>\n",
       "      <td>10400.0</td>\n",
       "      <td>10400.0</td>\n",
       "      <td>36 months</td>\n",
       "      <td>6.99</td>\n",
       "      <td>321.08</td>\n",
       "      <td>A</td>\n",
       "      <td>A3</td>\n",
       "      <td>...</td>\n",
       "      <td>NaN</td>\n",
       "      <td>NaN</td>\n",
       "      <td>Cash</td>\n",
       "      <td>N</td>\n",
       "      <td>NaN</td>\n",
       "      <td>NaN</td>\n",
       "      <td>NaN</td>\n",
       "      <td>NaN</td>\n",
       "      <td>NaN</td>\n",
       "      <td>NaN</td>\n",
       "    </tr>\n",
       "    <tr>\n",
       "      <th>2</th>\n",
       "      <td>37842129</td>\n",
       "      <td>NaN</td>\n",
       "      <td>21425.0</td>\n",
       "      <td>21425.0</td>\n",
       "      <td>21425.0</td>\n",
       "      <td>60 months</td>\n",
       "      <td>15.59</td>\n",
       "      <td>516.36</td>\n",
       "      <td>D</td>\n",
       "      <td>D1</td>\n",
       "      <td>...</td>\n",
       "      <td>NaN</td>\n",
       "      <td>NaN</td>\n",
       "      <td>Cash</td>\n",
       "      <td>N</td>\n",
       "      <td>NaN</td>\n",
       "      <td>NaN</td>\n",
       "      <td>NaN</td>\n",
       "      <td>NaN</td>\n",
       "      <td>NaN</td>\n",
       "      <td>NaN</td>\n",
       "    </tr>\n",
       "    <tr>\n",
       "      <th>3</th>\n",
       "      <td>37612354</td>\n",
       "      <td>NaN</td>\n",
       "      <td>12800.0</td>\n",
       "      <td>12800.0</td>\n",
       "      <td>12800.0</td>\n",
       "      <td>60 months</td>\n",
       "      <td>17.14</td>\n",
       "      <td>319.08</td>\n",
       "      <td>D</td>\n",
       "      <td>D4</td>\n",
       "      <td>...</td>\n",
       "      <td>NaN</td>\n",
       "      <td>NaN</td>\n",
       "      <td>Cash</td>\n",
       "      <td>N</td>\n",
       "      <td>NaN</td>\n",
       "      <td>NaN</td>\n",
       "      <td>NaN</td>\n",
       "      <td>NaN</td>\n",
       "      <td>NaN</td>\n",
       "      <td>NaN</td>\n",
       "    </tr>\n",
       "    <tr>\n",
       "      <th>4</th>\n",
       "      <td>37662224</td>\n",
       "      <td>NaN</td>\n",
       "      <td>7650.0</td>\n",
       "      <td>7650.0</td>\n",
       "      <td>7650.0</td>\n",
       "      <td>36 months</td>\n",
       "      <td>13.66</td>\n",
       "      <td>260.20</td>\n",
       "      <td>C</td>\n",
       "      <td>C3</td>\n",
       "      <td>...</td>\n",
       "      <td>NaN</td>\n",
       "      <td>NaN</td>\n",
       "      <td>Cash</td>\n",
       "      <td>N</td>\n",
       "      <td>NaN</td>\n",
       "      <td>NaN</td>\n",
       "      <td>NaN</td>\n",
       "      <td>NaN</td>\n",
       "      <td>NaN</td>\n",
       "      <td>NaN</td>\n",
       "    </tr>\n",
       "    <tr>\n",
       "      <th>5</th>\n",
       "      <td>37822187</td>\n",
       "      <td>NaN</td>\n",
       "      <td>9600.0</td>\n",
       "      <td>9600.0</td>\n",
       "      <td>9600.0</td>\n",
       "      <td>36 months</td>\n",
       "      <td>13.66</td>\n",
       "      <td>326.53</td>\n",
       "      <td>C</td>\n",
       "      <td>C3</td>\n",
       "      <td>...</td>\n",
       "      <td>NaN</td>\n",
       "      <td>NaN</td>\n",
       "      <td>Cash</td>\n",
       "      <td>N</td>\n",
       "      <td>NaN</td>\n",
       "      <td>NaN</td>\n",
       "      <td>NaN</td>\n",
       "      <td>NaN</td>\n",
       "      <td>NaN</td>\n",
       "      <td>NaN</td>\n",
       "    </tr>\n",
       "    <tr>\n",
       "      <th>6</th>\n",
       "      <td>37741884</td>\n",
       "      <td>NaN</td>\n",
       "      <td>2500.0</td>\n",
       "      <td>2500.0</td>\n",
       "      <td>2500.0</td>\n",
       "      <td>36 months</td>\n",
       "      <td>11.99</td>\n",
       "      <td>83.03</td>\n",
       "      <td>B</td>\n",
       "      <td>B5</td>\n",
       "      <td>...</td>\n",
       "      <td>NaN</td>\n",
       "      <td>NaN</td>\n",
       "      <td>Cash</td>\n",
       "      <td>N</td>\n",
       "      <td>NaN</td>\n",
       "      <td>NaN</td>\n",
       "      <td>NaN</td>\n",
       "      <td>NaN</td>\n",
       "      <td>NaN</td>\n",
       "      <td>NaN</td>\n",
       "    </tr>\n",
       "    <tr>\n",
       "      <th>7</th>\n",
       "      <td>37854444</td>\n",
       "      <td>NaN</td>\n",
       "      <td>16000.0</td>\n",
       "      <td>16000.0</td>\n",
       "      <td>16000.0</td>\n",
       "      <td>60 months</td>\n",
       "      <td>11.44</td>\n",
       "      <td>351.40</td>\n",
       "      <td>B</td>\n",
       "      <td>B4</td>\n",
       "      <td>...</td>\n",
       "      <td>NaN</td>\n",
       "      <td>NaN</td>\n",
       "      <td>Cash</td>\n",
       "      <td>N</td>\n",
       "      <td>NaN</td>\n",
       "      <td>NaN</td>\n",
       "      <td>NaN</td>\n",
       "      <td>NaN</td>\n",
       "      <td>NaN</td>\n",
       "      <td>NaN</td>\n",
       "    </tr>\n",
       "    <tr>\n",
       "      <th>8</th>\n",
       "      <td>36804663</td>\n",
       "      <td>NaN</td>\n",
       "      <td>23325.0</td>\n",
       "      <td>23325.0</td>\n",
       "      <td>23325.0</td>\n",
       "      <td>36 months</td>\n",
       "      <td>14.31</td>\n",
       "      <td>800.71</td>\n",
       "      <td>C</td>\n",
       "      <td>C4</td>\n",
       "      <td>...</td>\n",
       "      <td>NaN</td>\n",
       "      <td>NaN</td>\n",
       "      <td>Cash</td>\n",
       "      <td>N</td>\n",
       "      <td>NaN</td>\n",
       "      <td>NaN</td>\n",
       "      <td>NaN</td>\n",
       "      <td>NaN</td>\n",
       "      <td>NaN</td>\n",
       "      <td>NaN</td>\n",
       "    </tr>\n",
       "    <tr>\n",
       "      <th>9</th>\n",
       "      <td>37642222</td>\n",
       "      <td>NaN</td>\n",
       "      <td>5250.0</td>\n",
       "      <td>5250.0</td>\n",
       "      <td>5250.0</td>\n",
       "      <td>36 months</td>\n",
       "      <td>11.44</td>\n",
       "      <td>172.98</td>\n",
       "      <td>B</td>\n",
       "      <td>B4</td>\n",
       "      <td>...</td>\n",
       "      <td>NaN</td>\n",
       "      <td>NaN</td>\n",
       "      <td>Cash</td>\n",
       "      <td>N</td>\n",
       "      <td>NaN</td>\n",
       "      <td>NaN</td>\n",
       "      <td>NaN</td>\n",
       "      <td>NaN</td>\n",
       "      <td>NaN</td>\n",
       "      <td>NaN</td>\n",
       "    </tr>\n",
       "  </tbody>\n",
       "</table>\n",
       "<p>10 rows × 150 columns</p>\n",
       "</div>"
      ],
      "text/plain": [
       "         id  member_id  loan_amnt  funded_amnt  funded_amnt_inv        term  \\\n",
       "0  38098114        NaN    15000.0      15000.0          15000.0   60 months   \n",
       "1  36805548        NaN    10400.0      10400.0          10400.0   36 months   \n",
       "2  37842129        NaN    21425.0      21425.0          21425.0   60 months   \n",
       "3  37612354        NaN    12800.0      12800.0          12800.0   60 months   \n",
       "4  37662224        NaN     7650.0       7650.0           7650.0   36 months   \n",
       "5  37822187        NaN     9600.0       9600.0           9600.0   36 months   \n",
       "6  37741884        NaN     2500.0       2500.0           2500.0   36 months   \n",
       "7  37854444        NaN    16000.0      16000.0          16000.0   60 months   \n",
       "8  36804663        NaN    23325.0      23325.0          23325.0   36 months   \n",
       "9  37642222        NaN     5250.0       5250.0           5250.0   36 months   \n",
       "\n",
       "   int_rate  installment grade sub_grade  ... hardship_payoff_balance_amount  \\\n",
       "0     12.39       336.64     C        C1  ...                            NaN   \n",
       "1      6.99       321.08     A        A3  ...                            NaN   \n",
       "2     15.59       516.36     D        D1  ...                            NaN   \n",
       "3     17.14       319.08     D        D4  ...                            NaN   \n",
       "4     13.66       260.20     C        C3  ...                            NaN   \n",
       "5     13.66       326.53     C        C3  ...                            NaN   \n",
       "6     11.99        83.03     B        B5  ...                            NaN   \n",
       "7     11.44       351.40     B        B4  ...                            NaN   \n",
       "8     14.31       800.71     C        C4  ...                            NaN   \n",
       "9     11.44       172.98     B        B4  ...                            NaN   \n",
       "\n",
       "  hardship_last_payment_amount disbursement_method  debt_settlement_flag  \\\n",
       "0                          NaN                Cash                     N   \n",
       "1                          NaN                Cash                     N   \n",
       "2                          NaN                Cash                     N   \n",
       "3                          NaN                Cash                     N   \n",
       "4                          NaN                Cash                     N   \n",
       "5                          NaN                Cash                     N   \n",
       "6                          NaN                Cash                     N   \n",
       "7                          NaN                Cash                     N   \n",
       "8                          NaN                Cash                     N   \n",
       "9                          NaN                Cash                     N   \n",
       "\n",
       "  debt_settlement_flag_date settlement_status settlement_date  \\\n",
       "0                       NaN               NaN             NaN   \n",
       "1                       NaN               NaN             NaN   \n",
       "2                       NaN               NaN             NaN   \n",
       "3                       NaN               NaN             NaN   \n",
       "4                       NaN               NaN             NaN   \n",
       "5                       NaN               NaN             NaN   \n",
       "6                       NaN               NaN             NaN   \n",
       "7                       NaN               NaN             NaN   \n",
       "8                       NaN               NaN             NaN   \n",
       "9                       NaN               NaN             NaN   \n",
       "\n",
       "  settlement_amount settlement_percentage settlement_term  \n",
       "0               NaN                   NaN             NaN  \n",
       "1               NaN                   NaN             NaN  \n",
       "2               NaN                   NaN             NaN  \n",
       "3               NaN                   NaN             NaN  \n",
       "4               NaN                   NaN             NaN  \n",
       "5               NaN                   NaN             NaN  \n",
       "6               NaN                   NaN             NaN  \n",
       "7               NaN                   NaN             NaN  \n",
       "8               NaN                   NaN             NaN  \n",
       "9               NaN                   NaN             NaN  \n",
       "\n",
       "[10 rows x 150 columns]"
      ]
     },
     "execution_count": 3,
     "metadata": {},
     "output_type": "execute_result"
    }
   ],
   "source": [
    "data.head(10)"
   ]
  },
  {
   "cell_type": "code",
   "execution_count": 4,
   "metadata": {},
   "outputs": [
    {
     "data": {
      "text/html": [
       "<div>\n",
       "<style scoped>\n",
       "    .dataframe tbody tr th:only-of-type {\n",
       "        vertical-align: middle;\n",
       "    }\n",
       "\n",
       "    .dataframe tbody tr th {\n",
       "        vertical-align: top;\n",
       "    }\n",
       "\n",
       "    .dataframe thead th {\n",
       "        text-align: right;\n",
       "    }\n",
       "</style>\n",
       "<table border=\"1\" class=\"dataframe\">\n",
       "  <thead>\n",
       "    <tr style=\"text-align: right;\">\n",
       "      <th></th>\n",
       "      <th>member_id</th>\n",
       "      <th>loan_amnt</th>\n",
       "      <th>funded_amnt</th>\n",
       "      <th>funded_amnt_inv</th>\n",
       "      <th>int_rate</th>\n",
       "      <th>installment</th>\n",
       "      <th>annual_inc</th>\n",
       "      <th>dti</th>\n",
       "      <th>delinq_2yrs</th>\n",
       "      <th>fico_range_low</th>\n",
       "      <th>...</th>\n",
       "      <th>deferral_term</th>\n",
       "      <th>hardship_amount</th>\n",
       "      <th>hardship_length</th>\n",
       "      <th>hardship_dpd</th>\n",
       "      <th>orig_projected_additional_accrued_interest</th>\n",
       "      <th>hardship_payoff_balance_amount</th>\n",
       "      <th>hardship_last_payment_amount</th>\n",
       "      <th>settlement_amount</th>\n",
       "      <th>settlement_percentage</th>\n",
       "      <th>settlement_term</th>\n",
       "    </tr>\n",
       "  </thead>\n",
       "  <tbody>\n",
       "    <tr>\n",
       "      <th>count</th>\n",
       "      <td>0.0</td>\n",
       "      <td>1.646778e+06</td>\n",
       "      <td>1.646778e+06</td>\n",
       "      <td>1.646778e+06</td>\n",
       "      <td>1.646778e+06</td>\n",
       "      <td>1.646778e+06</td>\n",
       "      <td>1.646774e+06</td>\n",
       "      <td>1.646421e+06</td>\n",
       "      <td>1.646749e+06</td>\n",
       "      <td>1.646778e+06</td>\n",
       "      <td>...</td>\n",
       "      <td>5778.0</td>\n",
       "      <td>5778.000000</td>\n",
       "      <td>5778.0</td>\n",
       "      <td>5778.000000</td>\n",
       "      <td>4822.000000</td>\n",
       "      <td>5778.000000</td>\n",
       "      <td>5778.000000</td>\n",
       "      <td>13290.000000</td>\n",
       "      <td>13290.000000</td>\n",
       "      <td>13290.000000</td>\n",
       "    </tr>\n",
       "    <tr>\n",
       "      <th>mean</th>\n",
       "      <td>NaN</td>\n",
       "      <td>1.473331e+04</td>\n",
       "      <td>1.472608e+04</td>\n",
       "      <td>1.470244e+04</td>\n",
       "      <td>1.321857e+01</td>\n",
       "      <td>4.394122e+02</td>\n",
       "      <td>7.730483e+04</td>\n",
       "      <td>1.852473e+01</td>\n",
       "      <td>3.344311e-01</td>\n",
       "      <td>6.957068e+02</td>\n",
       "      <td>...</td>\n",
       "      <td>3.0</td>\n",
       "      <td>151.587664</td>\n",
       "      <td>3.0</td>\n",
       "      <td>11.108688</td>\n",
       "      <td>446.130348</td>\n",
       "      <td>11607.266805</td>\n",
       "      <td>185.757715</td>\n",
       "      <td>5389.960476</td>\n",
       "      <td>48.485745</td>\n",
       "      <td>10.579910</td>\n",
       "    </tr>\n",
       "    <tr>\n",
       "      <th>std</th>\n",
       "      <td>NaN</td>\n",
       "      <td>8.803698e+03</td>\n",
       "      <td>8.800813e+03</td>\n",
       "      <td>8.805917e+03</td>\n",
       "      <td>4.704294e+00</td>\n",
       "      <td>2.592256e+02</td>\n",
       "      <td>1.207276e+05</td>\n",
       "      <td>1.098422e+01</td>\n",
       "      <td>9.048755e-01</td>\n",
       "      <td>3.130254e+01</td>\n",
       "      <td>...</td>\n",
       "      <td>0.0</td>\n",
       "      <td>123.463493</td>\n",
       "      <td>0.0</td>\n",
       "      <td>10.287269</td>\n",
       "      <td>361.855546</td>\n",
       "      <td>7459.800633</td>\n",
       "      <td>199.735241</td>\n",
       "      <td>3831.509446</td>\n",
       "      <td>8.995510</td>\n",
       "      <td>8.853511</td>\n",
       "    </tr>\n",
       "    <tr>\n",
       "      <th>min</th>\n",
       "      <td>NaN</td>\n",
       "      <td>5.000000e+02</td>\n",
       "      <td>5.000000e+02</td>\n",
       "      <td>0.000000e+00</td>\n",
       "      <td>5.320000e+00</td>\n",
       "      <td>4.930000e+00</td>\n",
       "      <td>0.000000e+00</td>\n",
       "      <td>-1.000000e+00</td>\n",
       "      <td>0.000000e+00</td>\n",
       "      <td>6.100000e+02</td>\n",
       "      <td>...</td>\n",
       "      <td>3.0</td>\n",
       "      <td>0.640000</td>\n",
       "      <td>3.0</td>\n",
       "      <td>0.000000</td>\n",
       "      <td>1.920000</td>\n",
       "      <td>55.730000</td>\n",
       "      <td>0.010000</td>\n",
       "      <td>82.960000</td>\n",
       "      <td>0.200000</td>\n",
       "      <td>0.000000</td>\n",
       "    </tr>\n",
       "    <tr>\n",
       "      <th>25%</th>\n",
       "      <td>NaN</td>\n",
       "      <td>8.000000e+03</td>\n",
       "      <td>8.000000e+03</td>\n",
       "      <td>8.000000e+03</td>\n",
       "      <td>9.760000e+00</td>\n",
       "      <td>2.517700e+02</td>\n",
       "      <td>4.600000e+04</td>\n",
       "      <td>1.207000e+01</td>\n",
       "      <td>0.000000e+00</td>\n",
       "      <td>6.700000e+02</td>\n",
       "      <td>...</td>\n",
       "      <td>3.0</td>\n",
       "      <td>58.932500</td>\n",
       "      <td>3.0</td>\n",
       "      <td>0.000000</td>\n",
       "      <td>173.347500</td>\n",
       "      <td>5709.287500</td>\n",
       "      <td>27.100000</td>\n",
       "      <td>2488.140000</td>\n",
       "      <td>45.000000</td>\n",
       "      <td>1.000000</td>\n",
       "    </tr>\n",
       "    <tr>\n",
       "      <th>50%</th>\n",
       "      <td>NaN</td>\n",
       "      <td>1.260000e+04</td>\n",
       "      <td>1.260000e+04</td>\n",
       "      <td>1.250000e+04</td>\n",
       "      <td>1.274000e+01</td>\n",
       "      <td>3.770400e+02</td>\n",
       "      <td>6.500000e+04</td>\n",
       "      <td>1.789000e+01</td>\n",
       "      <td>0.000000e+00</td>\n",
       "      <td>6.900000e+02</td>\n",
       "      <td>...</td>\n",
       "      <td>3.0</td>\n",
       "      <td>118.780000</td>\n",
       "      <td>3.0</td>\n",
       "      <td>11.000000</td>\n",
       "      <td>352.635000</td>\n",
       "      <td>10130.580000</td>\n",
       "      <td>123.360000</td>\n",
       "      <td>4515.055000</td>\n",
       "      <td>45.305000</td>\n",
       "      <td>12.000000</td>\n",
       "    </tr>\n",
       "    <tr>\n",
       "      <th>75%</th>\n",
       "      <td>NaN</td>\n",
       "      <td>2.000000e+04</td>\n",
       "      <td>2.000000e+04</td>\n",
       "      <td>2.000000e+04</td>\n",
       "      <td>1.599000e+01</td>\n",
       "      <td>5.803400e+02</td>\n",
       "      <td>9.200000e+04</td>\n",
       "      <td>2.432000e+01</td>\n",
       "      <td>0.000000e+00</td>\n",
       "      <td>7.100000e+02</td>\n",
       "      <td>...</td>\n",
       "      <td>3.0</td>\n",
       "      <td>207.650000</td>\n",
       "      <td>3.0</td>\n",
       "      <td>20.000000</td>\n",
       "      <td>606.885000</td>\n",
       "      <td>15993.665000</td>\n",
       "      <td>284.692500</td>\n",
       "      <td>7307.060000</td>\n",
       "      <td>50.000000</td>\n",
       "      <td>18.000000</td>\n",
       "    </tr>\n",
       "    <tr>\n",
       "      <th>max</th>\n",
       "      <td>NaN</td>\n",
       "      <td>4.000000e+04</td>\n",
       "      <td>4.000000e+04</td>\n",
       "      <td>4.000000e+04</td>\n",
       "      <td>3.099000e+01</td>\n",
       "      <td>1.719830e+03</td>\n",
       "      <td>1.100000e+08</td>\n",
       "      <td>9.990000e+02</td>\n",
       "      <td>4.200000e+01</td>\n",
       "      <td>8.450000e+02</td>\n",
       "      <td>...</td>\n",
       "      <td>3.0</td>\n",
       "      <td>893.050000</td>\n",
       "      <td>3.0</td>\n",
       "      <td>37.000000</td>\n",
       "      <td>2679.150000</td>\n",
       "      <td>40306.410000</td>\n",
       "      <td>1407.860000</td>\n",
       "      <td>33601.000000</td>\n",
       "      <td>521.350000</td>\n",
       "      <td>181.000000</td>\n",
       "    </tr>\n",
       "  </tbody>\n",
       "</table>\n",
       "<p>8 rows × 113 columns</p>\n",
       "</div>"
      ],
      "text/plain": [
       "       member_id     loan_amnt   funded_amnt  funded_amnt_inv      int_rate  \\\n",
       "count        0.0  1.646778e+06  1.646778e+06     1.646778e+06  1.646778e+06   \n",
       "mean         NaN  1.473331e+04  1.472608e+04     1.470244e+04  1.321857e+01   \n",
       "std          NaN  8.803698e+03  8.800813e+03     8.805917e+03  4.704294e+00   \n",
       "min          NaN  5.000000e+02  5.000000e+02     0.000000e+00  5.320000e+00   \n",
       "25%          NaN  8.000000e+03  8.000000e+03     8.000000e+03  9.760000e+00   \n",
       "50%          NaN  1.260000e+04  1.260000e+04     1.250000e+04  1.274000e+01   \n",
       "75%          NaN  2.000000e+04  2.000000e+04     2.000000e+04  1.599000e+01   \n",
       "max          NaN  4.000000e+04  4.000000e+04     4.000000e+04  3.099000e+01   \n",
       "\n",
       "        installment    annual_inc           dti   delinq_2yrs  fico_range_low  \\\n",
       "count  1.646778e+06  1.646774e+06  1.646421e+06  1.646749e+06    1.646778e+06   \n",
       "mean   4.394122e+02  7.730483e+04  1.852473e+01  3.344311e-01    6.957068e+02   \n",
       "std    2.592256e+02  1.207276e+05  1.098422e+01  9.048755e-01    3.130254e+01   \n",
       "min    4.930000e+00  0.000000e+00 -1.000000e+00  0.000000e+00    6.100000e+02   \n",
       "25%    2.517700e+02  4.600000e+04  1.207000e+01  0.000000e+00    6.700000e+02   \n",
       "50%    3.770400e+02  6.500000e+04  1.789000e+01  0.000000e+00    6.900000e+02   \n",
       "75%    5.803400e+02  9.200000e+04  2.432000e+01  0.000000e+00    7.100000e+02   \n",
       "max    1.719830e+03  1.100000e+08  9.990000e+02  4.200000e+01    8.450000e+02   \n",
       "\n",
       "       ...  deferral_term  hardship_amount  hardship_length  hardship_dpd  \\\n",
       "count  ...         5778.0      5778.000000           5778.0   5778.000000   \n",
       "mean   ...            3.0       151.587664              3.0     11.108688   \n",
       "std    ...            0.0       123.463493              0.0     10.287269   \n",
       "min    ...            3.0         0.640000              3.0      0.000000   \n",
       "25%    ...            3.0        58.932500              3.0      0.000000   \n",
       "50%    ...            3.0       118.780000              3.0     11.000000   \n",
       "75%    ...            3.0       207.650000              3.0     20.000000   \n",
       "max    ...            3.0       893.050000              3.0     37.000000   \n",
       "\n",
       "       orig_projected_additional_accrued_interest  \\\n",
       "count                                 4822.000000   \n",
       "mean                                   446.130348   \n",
       "std                                    361.855546   \n",
       "min                                      1.920000   \n",
       "25%                                    173.347500   \n",
       "50%                                    352.635000   \n",
       "75%                                    606.885000   \n",
       "max                                   2679.150000   \n",
       "\n",
       "       hardship_payoff_balance_amount  hardship_last_payment_amount  \\\n",
       "count                     5778.000000                   5778.000000   \n",
       "mean                     11607.266805                    185.757715   \n",
       "std                       7459.800633                    199.735241   \n",
       "min                         55.730000                      0.010000   \n",
       "25%                       5709.287500                     27.100000   \n",
       "50%                      10130.580000                    123.360000   \n",
       "75%                      15993.665000                    284.692500   \n",
       "max                      40306.410000                   1407.860000   \n",
       "\n",
       "       settlement_amount  settlement_percentage  settlement_term  \n",
       "count       13290.000000           13290.000000     13290.000000  \n",
       "mean         5389.960476              48.485745        10.579910  \n",
       "std          3831.509446               8.995510         8.853511  \n",
       "min            82.960000               0.200000         0.000000  \n",
       "25%          2488.140000              45.000000         1.000000  \n",
       "50%          4515.055000              45.305000        12.000000  \n",
       "75%          7307.060000              50.000000        18.000000  \n",
       "max         33601.000000             521.350000       181.000000  \n",
       "\n",
       "[8 rows x 113 columns]"
      ]
     },
     "execution_count": 4,
     "metadata": {},
     "output_type": "execute_result"
    }
   ],
   "source": [
    "data.describe()"
   ]
  },
  {
   "cell_type": "code",
   "execution_count": 5,
   "metadata": {},
   "outputs": [
    {
     "data": {
      "text/plain": [
       "247020150"
      ]
     },
     "execution_count": 5,
     "metadata": {},
     "output_type": "execute_result"
    }
   ],
   "source": [
    "data.size"
   ]
  },
  {
   "cell_type": "code",
   "execution_count": 6,
   "metadata": {},
   "outputs": [],
   "source": [
    "data.drop(['policy_code'],inplace=True,axis=1)"
   ]
  },
  {
   "cell_type": "code",
   "execution_count": 7,
   "metadata": {},
   "outputs": [
    {
     "name": "stdout",
     "output_type": "stream",
     "text": [
      "Current                                                788950\n",
      "Fully Paid                                             646902\n",
      "Charged Off                                            168084\n",
      "Late (31-120 days)                                      23763\n",
      "In Grace Period                                         10474\n",
      "Late (16-30 days)                                        5786\n",
      "Does not meet the credit policy. Status:Fully Paid       1988\n",
      "Does not meet the credit policy. Status:Charged Off       761\n",
      "Default                                                    70\n",
      "NaN                                                        23\n",
      "Name: loan_status, dtype: int64\n",
      "['Current', 'Fully Paid', 'Charged Off', 'Late (31-120 days)', 'In Grace Period', 'Late (16-30 days)', 'Does not meet the credit policy. Status:Fully Paid', 'Does not meet the credit policy. Status:Charged Off', 'Default', nan] [788950, 646902, 168084, 23763, 10474, 5786, 1988, 761, 70, 23]\n"
     ]
    }
   ],
   "source": [
    "print(data['loan_status'].value_counts(dropna=False))\n",
    "label=list(data['loan_status'].value_counts(dropna=False).index)\n",
    "value=list(data['loan_status'].value_counts(dropna=False))\n",
    "print(label,value)"
   ]
  },
  {
   "cell_type": "code",
   "execution_count": 8,
   "metadata": {},
   "outputs": [],
   "source": [
    "value=[788950, 646902, 168084,23]\n",
    "explode=(0.1,0,0,0)"
   ]
  },
  {
   "cell_type": "code",
   "execution_count": 9,
   "metadata": {},
   "outputs": [
    {
     "data": {
      "image/png": "[encoded data removed]",
      "text/plain": [
       "<Figure size 576x720 with 1 Axes>"
      ]
     },
     "metadata": {},
     "output_type": "display_data"
    }
   ],
   "source": [
    "fig1, ax1 = plt.subplots(figsize=(8,10))\n",
    "\n",
    "ax1.pie(value,explode=explode,labels=['Current','Fully Paid','Charged Off','NAN'],autopct='%1.2f%%',\n",
    "        shadow=True, startangle=60)\n",
    "\n",
    "plt.show()"
   ]
  },
  {
   "cell_type": "code",
   "execution_count": 10,
   "metadata": {},
   "outputs": [
    {
     "data": {
      "text/plain": [
       "Text(0, 0.5, 'feature count')"
      ]
     },
     "execution_count": 10,
     "metadata": {},
     "output_type": "execute_result"
    },
    {
     "data": {
      "image/png": "[encoded data removed]",
      "text/plain": [
       "<Figure size 900x450 with 1 Axes>"
      ]
     },
     "metadata": {
      "needs_background": "light"
     },
     "output_type": "display_data"
    }
   ],
   "source": [
    "missing_fractions = data.isnull().mean().sort_values(ascending=False)\n",
    "plt.figure(figsize=(10,5),dpi=90)\n",
    "missing_fractions.plot.hist(bins=56)\n",
    "plt.title('Histogram of missing values in features')\n",
    "plt.xlabel('Fraction of data missing')\n",
    "plt.ylabel('feature count')"
   ]
  },
  {
   "cell_type": "code",
   "execution_count": 11,
   "metadata": {},
   "outputs": [
    {
     "name": "stdout",
     "output_type": "stream",
     "text": [
      "['member_id', 'orig_projected_additional_accrued_interest', 'hardship_last_payment_amount', 'hardship_payoff_balance_amount', 'hardship_end_date', 'payment_plan_start_date', 'hardship_length', 'hardship_dpd', 'hardship_loan_status', 'hardship_start_date', 'hardship_amount', 'deferral_term', 'hardship_status', 'hardship_reason', 'hardship_type', 'sec_app_mths_since_last_major_derog', 'settlement_percentage', 'settlement_term', 'settlement_status', 'settlement_date', 'settlement_amount', 'debt_settlement_flag_date', 'sec_app_revol_util', 'sec_app_earliest_cr_line', 'sec_app_mort_acc', 'revol_bal_joint', 'sec_app_fico_range_low', 'sec_app_fico_range_high', 'sec_app_inq_last_6mths', 'sec_app_open_act_il', 'sec_app_open_acc', 'sec_app_num_rev_accts', 'sec_app_chargeoff_within_12_mths', 'sec_app_collections_12_mths_ex_med', 'dti_joint', 'annual_inc_joint', 'verification_status_joint', 'desc', 'mths_since_last_record', 'mths_since_recent_bc_dlq', 'mths_since_last_major_derog', 'mths_since_recent_revol_delinq', 'il_util', 'mths_since_rcnt_il', 'all_util', 'open_acc_6m', 'inq_last_12m', 'total_cu_tl', 'open_rv_24m', 'open_rv_12m', 'inq_fi', 'open_act_il', 'open_il_12m', 'open_il_24m', 'max_bal_bc', 'total_bal_il']\n"
     ]
    }
   ],
   "source": [
    "drop_list = list(missing_fractions[missing_fractions > 0.5].index)\n",
    "print(drop_list)"
   ]
  },
  {
   "cell_type": "code",
   "execution_count": 12,
   "metadata": {},
   "outputs": [
    {
     "data": {
      "text/plain": [
       "56"
      ]
     },
     "execution_count": 12,
     "metadata": {},
     "output_type": "execute_result"
    }
   ],
   "source": [
    "len(drop_list)"
   ]
  },
  {
   "cell_type": "code",
   "execution_count": 13,
   "metadata": {},
   "outputs": [],
   "source": [
    "\n",
    "data1 = data.drop(drop_list,axis=1)\n",
    "\n"
   ]
  },
  {
   "cell_type": "code",
   "execution_count": 14,
   "metadata": {},
   "outputs": [
    {
     "data": {
      "text/html": [
       "<div>\n",
       "<style scoped>\n",
       "    .dataframe tbody tr th:only-of-type {\n",
       "        vertical-align: middle;\n",
       "    }\n",
       "\n",
       "    .dataframe tbody tr th {\n",
       "        vertical-align: top;\n",
       "    }\n",
       "\n",
       "    .dataframe thead th {\n",
       "        text-align: right;\n",
       "    }\n",
       "</style>\n",
       "<table border=\"1\" class=\"dataframe\">\n",
       "  <thead>\n",
       "    <tr style=\"text-align: right;\">\n",
       "      <th></th>\n",
       "      <th>id</th>\n",
       "      <th>loan_amnt</th>\n",
       "      <th>funded_amnt</th>\n",
       "      <th>funded_amnt_inv</th>\n",
       "      <th>term</th>\n",
       "      <th>int_rate</th>\n",
       "      <th>installment</th>\n",
       "      <th>grade</th>\n",
       "      <th>sub_grade</th>\n",
       "      <th>emp_title</th>\n",
       "      <th>...</th>\n",
       "      <th>percent_bc_gt_75</th>\n",
       "      <th>pub_rec_bankruptcies</th>\n",
       "      <th>tax_liens</th>\n",
       "      <th>tot_hi_cred_lim</th>\n",
       "      <th>total_bal_ex_mort</th>\n",
       "      <th>total_bc_limit</th>\n",
       "      <th>total_il_high_credit_limit</th>\n",
       "      <th>hardship_flag</th>\n",
       "      <th>disbursement_method</th>\n",
       "      <th>debt_settlement_flag</th>\n",
       "    </tr>\n",
       "  </thead>\n",
       "  <tbody>\n",
       "    <tr>\n",
       "      <th>0</th>\n",
       "      <td>38098114</td>\n",
       "      <td>15000.0</td>\n",
       "      <td>15000.0</td>\n",
       "      <td>15000.0</td>\n",
       "      <td>60 months</td>\n",
       "      <td>12.39</td>\n",
       "      <td>336.64</td>\n",
       "      <td>C</td>\n",
       "      <td>C1</td>\n",
       "      <td>MANAGEMENT</td>\n",
       "      <td>...</td>\n",
       "      <td>0.0</td>\n",
       "      <td>0.0</td>\n",
       "      <td>0.0</td>\n",
       "      <td>196500.0</td>\n",
       "      <td>149140.0</td>\n",
       "      <td>10000.0</td>\n",
       "      <td>12000.0</td>\n",
       "      <td>N</td>\n",
       "      <td>Cash</td>\n",
       "      <td>N</td>\n",
       "    </tr>\n",
       "    <tr>\n",
       "      <th>1</th>\n",
       "      <td>36805548</td>\n",
       "      <td>10400.0</td>\n",
       "      <td>10400.0</td>\n",
       "      <td>10400.0</td>\n",
       "      <td>36 months</td>\n",
       "      <td>6.99</td>\n",
       "      <td>321.08</td>\n",
       "      <td>A</td>\n",
       "      <td>A3</td>\n",
       "      <td>Truck Driver Delivery Personel</td>\n",
       "      <td>...</td>\n",
       "      <td>14.3</td>\n",
       "      <td>0.0</td>\n",
       "      <td>0.0</td>\n",
       "      <td>179407.0</td>\n",
       "      <td>15030.0</td>\n",
       "      <td>13000.0</td>\n",
       "      <td>11325.0</td>\n",
       "      <td>N</td>\n",
       "      <td>Cash</td>\n",
       "      <td>N</td>\n",
       "    </tr>\n",
       "    <tr>\n",
       "      <th>2</th>\n",
       "      <td>37842129</td>\n",
       "      <td>21425.0</td>\n",
       "      <td>21425.0</td>\n",
       "      <td>21425.0</td>\n",
       "      <td>60 months</td>\n",
       "      <td>15.59</td>\n",
       "      <td>516.36</td>\n",
       "      <td>D</td>\n",
       "      <td>D1</td>\n",
       "      <td>Programming Analysis Supervisor</td>\n",
       "      <td>...</td>\n",
       "      <td>100.0</td>\n",
       "      <td>0.0</td>\n",
       "      <td>0.0</td>\n",
       "      <td>57073.0</td>\n",
       "      <td>42315.0</td>\n",
       "      <td>15000.0</td>\n",
       "      <td>35573.0</td>\n",
       "      <td>N</td>\n",
       "      <td>Cash</td>\n",
       "      <td>N</td>\n",
       "    </tr>\n",
       "    <tr>\n",
       "      <th>3</th>\n",
       "      <td>37612354</td>\n",
       "      <td>12800.0</td>\n",
       "      <td>12800.0</td>\n",
       "      <td>12800.0</td>\n",
       "      <td>60 months</td>\n",
       "      <td>17.14</td>\n",
       "      <td>319.08</td>\n",
       "      <td>D</td>\n",
       "      <td>D4</td>\n",
       "      <td>Senior Sales Professional</td>\n",
       "      <td>...</td>\n",
       "      <td>100.0</td>\n",
       "      <td>0.0</td>\n",
       "      <td>0.0</td>\n",
       "      <td>368700.0</td>\n",
       "      <td>18007.0</td>\n",
       "      <td>4400.0</td>\n",
       "      <td>18000.0</td>\n",
       "      <td>N</td>\n",
       "      <td>Cash</td>\n",
       "      <td>N</td>\n",
       "    </tr>\n",
       "    <tr>\n",
       "      <th>4</th>\n",
       "      <td>37662224</td>\n",
       "      <td>7650.0</td>\n",
       "      <td>7650.0</td>\n",
       "      <td>7650.0</td>\n",
       "      <td>36 months</td>\n",
       "      <td>13.66</td>\n",
       "      <td>260.20</td>\n",
       "      <td>C</td>\n",
       "      <td>C3</td>\n",
       "      <td>Technical Specialist</td>\n",
       "      <td>...</td>\n",
       "      <td>100.0</td>\n",
       "      <td>0.0</td>\n",
       "      <td>0.0</td>\n",
       "      <td>82331.0</td>\n",
       "      <td>64426.0</td>\n",
       "      <td>4900.0</td>\n",
       "      <td>64031.0</td>\n",
       "      <td>N</td>\n",
       "      <td>Cash</td>\n",
       "      <td>N</td>\n",
       "    </tr>\n",
       "  </tbody>\n",
       "</table>\n",
       "<p>5 rows × 93 columns</p>\n",
       "</div>"
      ],
      "text/plain": [
       "         id  loan_amnt  funded_amnt  funded_amnt_inv        term  int_rate  \\\n",
       "0  38098114    15000.0      15000.0          15000.0   60 months     12.39   \n",
       "1  36805548    10400.0      10400.0          10400.0   36 months      6.99   \n",
       "2  37842129    21425.0      21425.0          21425.0   60 months     15.59   \n",
       "3  37612354    12800.0      12800.0          12800.0   60 months     17.14   \n",
       "4  37662224     7650.0       7650.0           7650.0   36 months     13.66   \n",
       "\n",
       "   installment grade sub_grade                        emp_title  ...  \\\n",
       "0       336.64     C        C1                       MANAGEMENT  ...   \n",
       "1       321.08     A        A3   Truck Driver Delivery Personel  ...   \n",
       "2       516.36     D        D1  Programming Analysis Supervisor  ...   \n",
       "3       319.08     D        D4        Senior Sales Professional  ...   \n",
       "4       260.20     C        C3             Technical Specialist  ...   \n",
       "\n",
       "  percent_bc_gt_75 pub_rec_bankruptcies  tax_liens tot_hi_cred_lim  \\\n",
       "0              0.0                  0.0        0.0        196500.0   \n",
       "1             14.3                  0.0        0.0        179407.0   \n",
       "2            100.0                  0.0        0.0         57073.0   \n",
       "3            100.0                  0.0        0.0        368700.0   \n",
       "4            100.0                  0.0        0.0         82331.0   \n",
       "\n",
       "  total_bal_ex_mort total_bc_limit total_il_high_credit_limit hardship_flag  \\\n",
       "0          149140.0        10000.0                    12000.0             N   \n",
       "1           15030.0        13000.0                    11325.0             N   \n",
       "2           42315.0        15000.0                    35573.0             N   \n",
       "3           18007.0         4400.0                    18000.0             N   \n",
       "4           64426.0         4900.0                    64031.0             N   \n",
       "\n",
       "  disbursement_method debt_settlement_flag  \n",
       "0                Cash                    N  \n",
       "1                Cash                    N  \n",
       "2                Cash                    N  \n",
       "3                Cash                    N  \n",
       "4                Cash                    N  \n",
       "\n",
       "[5 rows x 93 columns]"
      ]
     },
     "execution_count": 14,
     "metadata": {},
     "output_type": "execute_result"
    }
   ],
   "source": [
    "data1.head()"
   ]
  },
  {
   "cell_type": "code",
   "execution_count": 15,
   "metadata": {},
   "outputs": [
    {
     "data": {
      "text/plain": [
       "1646801"
      ]
     },
     "execution_count": 15,
     "metadata": {},
     "output_type": "execute_result"
    }
   ],
   "source": [
    "len(data1)"
   ]
  },
  {
   "cell_type": "code",
   "execution_count": 16,
   "metadata": {},
   "outputs": [
    {
     "data": {
      "text/plain": [
       "(1646801, 93)"
      ]
     },
     "execution_count": 16,
     "metadata": {},
     "output_type": "execute_result"
    }
   ],
   "source": [
    "data1.shape"
   ]
  },
  {
   "cell_type": "code",
   "execution_count": 17,
   "metadata": {},
   "outputs": [],
   "source": [
    "cor=data1.corr()"
   ]
  },
  {
   "cell_type": "code",
   "execution_count": 18,
   "metadata": {},
   "outputs": [],
   "source": [
    "#cor.iloc[:,:]>0.9\n",
    "#cor"
   ]
  },
  {
   "cell_type": "code",
   "execution_count": 19,
   "metadata": {},
   "outputs": [
    {
     "data": {
      "text/plain": [
       "(['loan_amnt',\n",
       "  'term',\n",
       "  'int_rate',\n",
       "  'installment',\n",
       "  'sub_grade',\n",
       "  'emp_length',\n",
       "  'home_ownership',\n",
       "  'annual_inc',\n",
       "  'loan_status',\n",
       "  'purpose',\n",
       "  'addr_state',\n",
       "  'dti',\n",
       "  'open_acc',\n",
       "  'pub_rec',\n",
       "  'total_acc',\n",
       "  'application_type',\n",
       "  'mort_acc',\n",
       "  'pub_rec_bankruptcies',\n",
       "  'fico_score'],)"
      ]
     },
     "execution_count": 19,
     "metadata": {},
     "output_type": "execute_result"
    }
   ],
   "source": [
    "#from sklearn.decomposition import PCA\n",
    "['loan_amnt', 'term', 'int_rate', 'installment', 'sub_grade',\n",
    "       'emp_length', 'home_ownership', 'annual_inc', 'loan_status', 'purpose',\n",
    "       'addr_state', 'dti', 'open_acc', 'pub_rec', 'total_acc',\n",
    "       'application_type', 'mort_acc', 'pub_rec_bankruptcies', 'fico_score'],"
   ]
  },
  {
   "cell_type": "code",
   "execution_count": 20,
   "metadata": {},
   "outputs": [],
   "source": [
    "#print(PCA())"
   ]
  },
  {
   "cell_type": "code",
   "execution_count": 21,
   "metadata": {},
   "outputs": [
    {
     "data": {
      "text/plain": [
       "<matplotlib.axes._subplots.AxesSubplot at 0x1bdcb957358>"
      ]
     },
     "execution_count": 21,
     "metadata": {},
     "output_type": "execute_result"
    },
    {
     "data": {
      "image/png": "[encoded data removed]",
      "text/plain": [
       "<Figure size 1440x1440 with 2 Axes>"
      ]
     },
     "metadata": {
      "needs_background": "light"
     },
     "output_type": "display_data"
    }
   ],
   "source": [
    "f,ax=plt.subplots(figsize=(20,20))\n",
    "sns.heatmap(cor,ax=ax,linewidth=0.1)"
   ]
  },
  {
   "cell_type": "code",
   "execution_count": 22,
   "metadata": {},
   "outputs": [],
   "source": [
    "x=data1['id'].head(10)\n",
    "y=data1['loan_amnt'].head(10)\n"
   ]
  },
  {
   "cell_type": "code",
   "execution_count": 23,
   "metadata": {},
   "outputs": [],
   "source": [
    "y1=data1['funded_amnt'].head(10)\n",
    "y2=data1['funded_amnt_inv'].head(10)"
   ]
  },
  {
   "cell_type": "code",
   "execution_count": 24,
   "metadata": {},
   "outputs": [
    {
     "name": "stderr",
     "output_type": "stream",
     "text": [
      "C:\\Users\\admin\\Anaconda3\\lib\\site-packages\\matplotlib\\cbook\\__init__.py:1725: UserWarning: Saw kwargs ['c', 'color'] which are all aliases for 'color'.  Kept value from 'color'\n",
      "  seen=seen, canon=canonical, used=seen[-1]))\n",
      "C:\\Users\\admin\\Anaconda3\\lib\\site-packages\\matplotlib\\cbook\\__init__.py:1725: UserWarning: Saw kwargs ['c', 'color'] which are all aliases for 'color'.  Kept value from 'color'\n",
      "  seen=seen, canon=canonical, used=seen[-1]))\n",
      "C:\\Users\\admin\\Anaconda3\\lib\\site-packages\\matplotlib\\cbook\\__init__.py:1725: UserWarning: Saw kwargs ['c', 'color'] which are all aliases for 'color'.  Kept value from 'color'\n",
      "  seen=seen, canon=canonical, used=seen[-1]))\n",
      "C:\\Users\\admin\\Anaconda3\\lib\\site-packages\\matplotlib\\cbook\\__init__.py:1725: UserWarning: Saw kwargs ['c', 'color'] which are all aliases for 'color'.  Kept value from 'color'\n",
      "  seen=seen, canon=canonical, used=seen[-1]))\n",
      "C:\\Users\\admin\\Anaconda3\\lib\\site-packages\\matplotlib\\cbook\\__init__.py:1725: UserWarning: Saw kwargs ['c', 'color'] which are all aliases for 'color'.  Kept value from 'color'\n",
      "  seen=seen, canon=canonical, used=seen[-1]))\n",
      "C:\\Users\\admin\\Anaconda3\\lib\\site-packages\\matplotlib\\cbook\\__init__.py:1725: UserWarning: Saw kwargs ['c', 'color'] which are all aliases for 'color'.  Kept value from 'color'\n",
      "  seen=seen, canon=canonical, used=seen[-1]))\n"
     ]
    },
    {
     "data": {
      "text/plain": [
       "<matplotlib.axes._subplots.AxesSubplot at 0x1bdcbb194e0>"
      ]
     },
     "execution_count": 24,
     "metadata": {},
     "output_type": "execute_result"
    },
    {
     "data": {
      "image/png": "[encoded data removed]",
      "text/plain": [
       "<Figure size 720x864 with 1 Axes>"
      ]
     },
     "metadata": {
      "needs_background": "light"
     },
     "output_type": "display_data"
    }
   ],
   "source": [
    "#plt.plot( data1['loan_amnt'].index, 'loan_amnt', data=data1, marker='o', markerfacecolor='blue', markersize=12, color='skyblue', linewidth=4)\n",
    "#plt.plot( data1['loan_amnt'], marker='o', color='olive', linewidth=0.5)\n",
    "plt.figure(figsize=(10,12))\n",
    "sns.lineplot(x, y, data=data1,c='black',linewidth=30)\n",
    "sns.lineplot(x, y1, data=data1,c='pink',linewidth=15)\n",
    "sns.lineplot(x, y2, data=data1,c='blue',linewidth=5)\n"
   ]
  },
  {
   "cell_type": "markdown",
   "metadata": {},
   "source": [
    "So from above plot we are getting that funded_amnt and funded_amnt_inv are highly correlated with loan_amnt. Hence we are droping the feature funded_amnt and funded_amnt_inv."
   ]
  },
  {
   "cell_type": "code",
   "execution_count": 25,
   "metadata": {},
   "outputs": [],
   "source": [
    "data1_x1=data1\n"
   ]
  },
  {
   "cell_type": "code",
   "execution_count": 26,
   "metadata": {},
   "outputs": [],
   "source": [
    "data1.drop('funded_amnt',axis=1,inplace=True)"
   ]
  },
  {
   "cell_type": "code",
   "execution_count": 27,
   "metadata": {},
   "outputs": [
    {
     "name": "stdout",
     "output_type": "stream",
     "text": [
      "0     6.0\n",
      "1    17.0\n",
      "2    10.0\n",
      "3     8.0\n",
      "4    11.0\n",
      "5    12.0\n",
      "6     9.0\n",
      "7     7.0\n",
      "8    14.0\n",
      "9     8.0\n",
      "Name: open_acc, dtype: float64\n"
     ]
    }
   ],
   "source": [
    "#x3=data['id'].head(20)\n",
    "y3=data['open_acc'].head(10)\n",
    "print(y3)"
   ]
  },
  {
   "cell_type": "code",
   "execution_count": 28,
   "metadata": {},
   "outputs": [
    {
     "name": "stdout",
     "output_type": "stream",
     "text": [
      "0     6.0\n",
      "1    17.0\n",
      "2    10.0\n",
      "3     8.0\n",
      "4    11.0\n",
      "5    12.0\n",
      "6     9.0\n",
      "7     7.0\n",
      "8    14.0\n",
      "9     8.0\n",
      "Name: num_sats, dtype: float64\n"
     ]
    }
   ],
   "source": [
    "y4=data['num_sats'].head(10)\n",
    "print(y4)"
   ]
  },
  {
   "cell_type": "code",
   "execution_count": 29,
   "metadata": {},
   "outputs": [
    {
     "data": {
      "image/png": "[encoded data removed]",
      "text/plain": [
       "<Figure size 432x288 with 1 Axes>"
      ]
     },
     "metadata": {
      "needs_background": "light"
     },
     "output_type": "display_data"
    }
   ],
   "source": [
    " #ax.bar(x, y3, data=data1)\n",
    " #ax.barplot(x, y4, data=data1)\n",
    "fig, ax = plt.subplots()\n",
    "bar_width = 0.35\n",
    "ax.bar(y3.index,y3,bar_width,color='blue')\n",
    "ax.bar(y4.index+bar_width,y4,bar_width,color='red')\n",
    "plt.show()"
   ]
  },
  {
   "cell_type": "code",
   "execution_count": 30,
   "metadata": {},
   "outputs": [
    {
     "data": {
      "text/plain": [
       "Current                                                788950\n",
       "Fully Paid                                             646902\n",
       "Charged Off                                            168084\n",
       "Late (31-120 days)                                      23763\n",
       "In Grace Period                                         10474\n",
       "Late (16-30 days)                                        5786\n",
       "Does not meet the credit policy. Status:Fully Paid       1988\n",
       "Does not meet the credit policy. Status:Charged Off       761\n",
       "Default                                                    70\n",
       "NaN                                                        23\n",
       "Name: loan_status, dtype: int64"
      ]
     },
     "execution_count": 30,
     "metadata": {},
     "output_type": "execute_result"
    }
   ],
   "source": [
    "data1['loan_status'].value_counts(dropna=False)"
   ]
  },
  {
   "cell_type": "code",
   "execution_count": 31,
   "metadata": {},
   "outputs": [
    {
     "data": {
      "text/plain": [
       "array(['Fully Paid', 'Charged Off', 'Current', 'Late (31-120 days)',\n",
       "       'Late (16-30 days)', 'In Grace Period', 'Default', nan,\n",
       "       'Does not meet the credit policy. Status:Fully Paid',\n",
       "       'Does not meet the credit policy. Status:Charged Off'],\n",
       "      dtype=object)"
      ]
     },
     "execution_count": 31,
     "metadata": {},
     "output_type": "execute_result"
    }
   ],
   "source": [
    "data['loan_status'].unique()"
   ]
  },
  {
   "cell_type": "code",
   "execution_count": 32,
   "metadata": {},
   "outputs": [],
   "source": [
    "Feature_list = ['id','annual_inc','emp_title','emp_length','home_ownership','addr_state','zip_code','dti','fico_range_low','fico_range_high','earliest_cr_line',\"open_acc\",'total_acc','revol_bal','revol_util','inq_last_6mths','delinq_amnt','delinq_2yrs','mths_since_last_delinq','pub_rec','mths_since_last_record','mths_since_last_major_derog','application_type','loan_amnt','loan_status','int_rate','grade','sub_grade','installment','purpose','title','term','verification_status','issue_d','inital_list_status','mort_acc','pub_rec_bankruptcies']"
   ]
  },
  {
   "cell_type": "code",
   "execution_count": 33,
   "metadata": {},
   "outputs": [
    {
     "data": {
      "text/plain": [
       "37"
      ]
     },
     "execution_count": 33,
     "metadata": {},
     "output_type": "execute_result"
    }
   ],
   "source": [
    "len(Feature_list)"
   ]
  },
  {
   "cell_type": "code",
   "execution_count": 34,
   "metadata": {},
   "outputs": [],
   "source": [
    "data1_x=data1"
   ]
  },
  {
   "cell_type": "code",
   "execution_count": 35,
   "metadata": {},
   "outputs": [
    {
     "data": {
      "text/plain": [
       "['id',\n",
       " 'loan_amnt',\n",
       " 'funded_amnt_inv',\n",
       " 'term',\n",
       " 'int_rate',\n",
       " 'installment',\n",
       " 'grade',\n",
       " 'sub_grade',\n",
       " 'emp_title',\n",
       " 'emp_length',\n",
       " 'home_ownership',\n",
       " 'annual_inc',\n",
       " 'verification_status',\n",
       " 'issue_d',\n",
       " 'loan_status',\n",
       " 'pymnt_plan',\n",
       " 'purpose',\n",
       " 'title',\n",
       " 'zip_code',\n",
       " 'addr_state',\n",
       " 'dti',\n",
       " 'delinq_2yrs',\n",
       " 'earliest_cr_line',\n",
       " 'fico_range_low',\n",
       " 'fico_range_high',\n",
       " 'inq_last_6mths',\n",
       " 'mths_since_last_delinq',\n",
       " 'open_acc',\n",
       " 'pub_rec',\n",
       " 'revol_bal',\n",
       " 'revol_util',\n",
       " 'total_acc',\n",
       " 'initial_list_status',\n",
       " 'out_prncp',\n",
       " 'out_prncp_inv',\n",
       " 'total_pymnt',\n",
       " 'total_pymnt_inv',\n",
       " 'total_rec_prncp',\n",
       " 'total_rec_int',\n",
       " 'total_rec_late_fee',\n",
       " 'recoveries',\n",
       " 'collection_recovery_fee',\n",
       " 'last_pymnt_d',\n",
       " 'last_pymnt_amnt',\n",
       " 'next_pymnt_d',\n",
       " 'last_credit_pull_d',\n",
       " 'last_fico_range_high',\n",
       " 'last_fico_range_low',\n",
       " 'collections_12_mths_ex_med',\n",
       " 'application_type',\n",
       " 'acc_now_delinq',\n",
       " 'tot_coll_amt',\n",
       " 'tot_cur_bal',\n",
       " 'total_rev_hi_lim',\n",
       " 'acc_open_past_24mths',\n",
       " 'avg_cur_bal',\n",
       " 'bc_open_to_buy',\n",
       " 'bc_util',\n",
       " 'chargeoff_within_12_mths',\n",
       " 'delinq_amnt',\n",
       " 'mo_sin_old_il_acct',\n",
       " 'mo_sin_old_rev_tl_op',\n",
       " 'mo_sin_rcnt_rev_tl_op',\n",
       " 'mo_sin_rcnt_tl',\n",
       " 'mort_acc',\n",
       " 'mths_since_recent_bc',\n",
       " 'mths_since_recent_inq',\n",
       " 'num_accts_ever_120_pd',\n",
       " 'num_actv_bc_tl',\n",
       " 'num_actv_rev_tl',\n",
       " 'num_bc_sats',\n",
       " 'num_bc_tl',\n",
       " 'num_il_tl',\n",
       " 'num_op_rev_tl',\n",
       " 'num_rev_accts',\n",
       " 'num_rev_tl_bal_gt_0',\n",
       " 'num_sats',\n",
       " 'num_tl_120dpd_2m',\n",
       " 'num_tl_30dpd',\n",
       " 'num_tl_90g_dpd_24m',\n",
       " 'num_tl_op_past_12m',\n",
       " 'pct_tl_nvr_dlq',\n",
       " 'percent_bc_gt_75',\n",
       " 'pub_rec_bankruptcies',\n",
       " 'tax_liens',\n",
       " 'tot_hi_cred_lim',\n",
       " 'total_bal_ex_mort',\n",
       " 'total_bc_limit',\n",
       " 'total_il_high_credit_limit',\n",
       " 'hardship_flag',\n",
       " 'disbursement_method',\n",
       " 'debt_settlement_flag']"
      ]
     },
     "execution_count": 35,
     "metadata": {},
     "output_type": "execute_result"
    }
   ],
   "source": [
    "full_list = list(data1.columns)\n",
    "full_list"
   ]
  },
  {
   "cell_type": "code",
   "execution_count": 36,
   "metadata": {},
   "outputs": [],
   "source": [
    "for x in Feature_list:\n",
    "    for y in full_list:\n",
    "        if y == x:\n",
    "            full_list.remove(y)"
   ]
  },
  {
   "cell_type": "code",
   "execution_count": 37,
   "metadata": {},
   "outputs": [
    {
     "name": "stdout",
     "output_type": "stream",
     "text": [
      "Index(['id', 'loan_amnt', 'term', 'int_rate', 'installment', 'grade',\n",
      "       'sub_grade', 'emp_title', 'emp_length', 'home_ownership', 'annual_inc',\n",
      "       'verification_status', 'issue_d', 'loan_status', 'purpose', 'title',\n",
      "       'zip_code', 'addr_state', 'dti', 'delinq_2yrs', 'earliest_cr_line',\n",
      "       'fico_range_low', 'fico_range_high', 'inq_last_6mths',\n",
      "       'mths_since_last_delinq', 'open_acc', 'pub_rec', 'revol_bal',\n",
      "       'revol_util', 'total_acc', 'application_type', 'delinq_amnt',\n",
      "       'mort_acc', 'pub_rec_bankruptcies'],\n",
      "      dtype='object')\n"
     ]
    }
   ],
   "source": [
    "data1.drop(labels=full_list,axis=1,inplace=True)\n",
    "print(data1.columns)\n"
   ]
  },
  {
   "cell_type": "code",
   "execution_count": 38,
   "metadata": {},
   "outputs": [
    {
     "data": {
      "text/plain": [
       "(1646801, 34)"
      ]
     },
     "execution_count": 38,
     "metadata": {},
     "output_type": "execute_result"
    }
   ],
   "source": [
    "data1.shape"
   ]
  },
  {
   "cell_type": "code",
   "execution_count": 39,
   "metadata": {},
   "outputs": [],
   "source": [
    "data1 = data1.loc[data1['loan_status'].isin(['Fully Paid','Charged Off'])]"
   ]
  },
  {
   "cell_type": "code",
   "execution_count": 40,
   "metadata": {},
   "outputs": [
    {
     "data": {
      "text/plain": [
       "Fully Paid     646902\n",
       "Charged Off    168084\n",
       "Name: loan_status, dtype: int64"
      ]
     },
     "execution_count": 40,
     "metadata": {},
     "output_type": "execute_result"
    }
   ],
   "source": [
    "data1['loan_status'].value_counts(dropna=False)"
   ]
  },
  {
   "cell_type": "code",
   "execution_count": 41,
   "metadata": {},
   "outputs": [
    {
     "data": {
      "text/plain": [
       "(814986, 34)"
      ]
     },
     "execution_count": 41,
     "metadata": {},
     "output_type": "execute_result"
    }
   ],
   "source": [
    "data1.shape"
   ]
  },
  {
   "cell_type": "code",
   "execution_count": 42,
   "metadata": {},
   "outputs": [
    {
     "data": {
      "text/plain": [
       "0           Fully Paid\n",
       "1          Charged Off\n",
       "2           Fully Paid\n",
       "4          Charged Off\n",
       "5           Fully Paid\n",
       "6           Fully Paid\n",
       "7           Fully Paid\n",
       "8          Charged Off\n",
       "9           Fully Paid\n",
       "10         Charged Off\n",
       "11         Charged Off\n",
       "12          Fully Paid\n",
       "14          Fully Paid\n",
       "15          Fully Paid\n",
       "16          Fully Paid\n",
       "17          Fully Paid\n",
       "18          Fully Paid\n",
       "22          Fully Paid\n",
       "23          Fully Paid\n",
       "24          Fully Paid\n",
       "25          Fully Paid\n",
       "26          Fully Paid\n",
       "27         Charged Off\n",
       "28          Fully Paid\n",
       "29          Fully Paid\n",
       "31         Charged Off\n",
       "32          Fully Paid\n",
       "33          Fully Paid\n",
       "34          Fully Paid\n",
       "36          Fully Paid\n",
       "              ...     \n",
       "1646718    Charged Off\n",
       "1646721    Charged Off\n",
       "1646722    Charged Off\n",
       "1646723     Fully Paid\n",
       "1646724     Fully Paid\n",
       "1646726     Fully Paid\n",
       "1646728     Fully Paid\n",
       "1646732     Fully Paid\n",
       "1646737    Charged Off\n",
       "1646739     Fully Paid\n",
       "1646740     Fully Paid\n",
       "1646744     Fully Paid\n",
       "1646749    Charged Off\n",
       "1646750     Fully Paid\n",
       "1646753    Charged Off\n",
       "1646756     Fully Paid\n",
       "1646757     Fully Paid\n",
       "1646758    Charged Off\n",
       "1646759     Fully Paid\n",
       "1646760    Charged Off\n",
       "1646762     Fully Paid\n",
       "1646764     Fully Paid\n",
       "1646771     Fully Paid\n",
       "1646780    Charged Off\n",
       "1646781     Fully Paid\n",
       "1646785    Charged Off\n",
       "1646789    Charged Off\n",
       "1646790     Fully Paid\n",
       "1646791    Charged Off\n",
       "1646792     Fully Paid\n",
       "Name: loan_status, Length: 814986, dtype: object"
      ]
     },
     "execution_count": 42,
     "metadata": {},
     "output_type": "execute_result"
    }
   ],
   "source": [
    "data1['loan_status']"
   ]
  },
  {
   "cell_type": "code",
   "execution_count": 43,
   "metadata": {},
   "outputs": [
    {
     "data": {
      "text/plain": [
       "Fully Paid     0.793758\n",
       "Charged Off    0.206242\n",
       "Name: loan_status, dtype: float64"
      ]
     },
     "execution_count": 43,
     "metadata": {},
     "output_type": "execute_result"
    }
   ],
   "source": [
    "data1['loan_status'].value_counts(dropna=True,normalize=True)"
   ]
  },
  {
   "cell_type": "code",
   "execution_count": 44,
   "metadata": {},
   "outputs": [
    {
     "data": {
      "text/plain": [
       "<matplotlib.axes._subplots.AxesSubplot at 0x1bdcd477320>"
      ]
     },
     "execution_count": 44,
     "metadata": {},
     "output_type": "execute_result"
    },
    {
     "data": {
      "image/png": "[encoded data removed]",
      "text/plain": [
       "<Figure size 432x288 with 1 Axes>"
      ]
     },
     "metadata": {
      "needs_background": "light"
     },
     "output_type": "display_data"
    }
   ],
   "source": [
    "data1['loan_status'].value_counts().plot(kind='bar',color=['pink','maroon'])\n"
   ]
  },
  {
   "cell_type": "code",
   "execution_count": 45,
   "metadata": {},
   "outputs": [
    {
     "data": {
      "text/plain": [
       "<matplotlib.axes._subplots.AxesSubplot at 0x1bdcb978390>"
      ]
     },
     "execution_count": 45,
     "metadata": {},
     "output_type": "execute_result"
    },
    {
     "data": {
      "image/png": "[encoded data removed]",
      "text/plain": [
       "<Figure size 432x288 with 1 Axes>"
      ]
     },
     "metadata": {
      "needs_background": "light"
     },
     "output_type": "display_data"
    }
   ],
   "source": [
    "data1['term'].value_counts(normalize=True).plot(kind='bar',color=['pink','maroon'],stacked=True)\n"
   ]
  },
  {
   "cell_type": "markdown",
   "metadata": {},
   "source": [
    "# Exploratory Data Analysis"
   ]
  },
  {
   "cell_type": "markdown",
   "metadata": {},
   "source": [
    "# Id"
   ]
  },
  {
   "cell_type": "code",
   "execution_count": 46,
   "metadata": {},
   "outputs": [
    {
     "data": {
      "text/plain": [
       "0    38098114\n",
       "1    36805548\n",
       "2    37842129\n",
       "4    37662224\n",
       "5    37822187\n",
       "Name: id, dtype: object"
      ]
     },
     "execution_count": 46,
     "metadata": {},
     "output_type": "execute_result"
    }
   ],
   "source": [
    "data1['id'].head(5)"
   ]
  },
  {
   "cell_type": "code",
   "execution_count": 47,
   "metadata": {},
   "outputs": [
    {
     "data": {
      "text/plain": [
       "count       814986\n",
       "unique      814986\n",
       "top       14680062\n",
       "freq             1\n",
       "Name: id, dtype: int64"
      ]
     },
     "execution_count": 47,
     "metadata": {},
     "output_type": "execute_result"
    }
   ],
   "source": [
    "data1['id'].describe()"
   ]
  },
  {
   "cell_type": "code",
   "execution_count": 48,
   "metadata": {},
   "outputs": [],
   "source": [
    "# Since all values are unique we drop the feature"
   ]
  },
  {
   "cell_type": "code",
   "execution_count": 49,
   "metadata": {},
   "outputs": [
    {
     "name": "stderr",
     "output_type": "stream",
     "text": [
      "C:\\Users\\admin\\Anaconda3\\lib\\site-packages\\pandas\\core\\frame.py:3940: SettingWithCopyWarning: \n",
      "A value is trying to be set on a copy of a slice from a DataFrame\n",
      "\n",
      "See the caveats in the documentation: http://pandas.pydata.org/pandas-docs/stable/indexing.html#indexing-view-versus-copy\n",
      "  errors=errors)\n"
     ]
    }
   ],
   "source": [
    "data1.drop(['id'],inplace=True,axis=1)"
   ]
  },
  {
   "cell_type": "markdown",
   "metadata": {},
   "source": [
    "# Loan Amount"
   ]
  },
  {
   "cell_type": "code",
   "execution_count": 50,
   "metadata": {},
   "outputs": [
    {
     "data": {
      "text/plain": [
       "count    814986.000000\n",
       "mean      14315.458210\n",
       "std        8499.799241\n",
       "min         500.000000\n",
       "25%        8000.000000\n",
       "50%       12000.000000\n",
       "75%       20000.000000\n",
       "max       40000.000000\n",
       "Name: loan_amnt, dtype: float64"
      ]
     },
     "execution_count": 50,
     "metadata": {},
     "output_type": "execute_result"
    }
   ],
   "source": [
    "data1['loan_amnt'].describe()"
   ]
  },
  {
   "cell_type": "code",
   "execution_count": 51,
   "metadata": {},
   "outputs": [
    {
     "name": "stdout",
     "output_type": "stream",
     "text": [
      "500.0\n",
      "40000.0\n",
      "12000.0\n"
     ]
    },
    {
     "data": {
      "text/plain": [
       "<matplotlib.axes._subplots.AxesSubplot at 0x1bdcd460e10>"
      ]
     },
     "execution_count": 51,
     "metadata": {},
     "output_type": "execute_result"
    },
    {
     "data": {
      "image/png": "[encoded data removed]",
      "text/plain": [
       "<Figure size 432x288 with 1 Axes>"
      ]
     },
     "metadata": {
      "needs_background": "light"
     },
     "output_type": "display_data"
    }
   ],
   "source": [
    "print(data1['loan_amnt'].min())\n",
    "print(data1['loan_amnt'].max())\n",
    "print(data1['loan_amnt'].median())\n",
    "sns.boxplot(x=data1['loan_amnt'],color='red')\n",
    "\n"
   ]
  },
  {
   "cell_type": "markdown",
   "metadata": {},
   "source": [
    "# Debt-to-Income(dti)"
   ]
  },
  {
   "cell_type": "code",
   "execution_count": 52,
   "metadata": {},
   "outputs": [
    {
     "data": {
      "text/plain": [
       "Text(0.5, 1.0, 'Debt-to-income Ratio')"
      ]
     },
     "execution_count": 52,
     "metadata": {},
     "output_type": "execute_result"
    },
    {
     "data": {
      "image/png": "[encoded data removed]",
      "text/plain": [
       "<Figure size 720x270 with 1 Axes>"
      ]
     },
     "metadata": {
      "needs_background": "light"
     },
     "output_type": "display_data"
    }
   ],
   "source": [
    "plt.figure(figsize=(8,3), dpi=90)\n",
    "sns.distplot(data1.loc[data1['dti'].notnull() & (data1['dti']<50), 'dti'], kde=False)\n",
    "plt.xlabel('Debt-to-income Ratio')\n",
    "plt.ylabel('Count')\n",
    "plt.title('Debt-to-income Ratio')"
   ]
  },
  {
   "cell_type": "markdown",
   "metadata": {},
   "source": [
    "# term"
   ]
  },
  {
   "cell_type": "code",
   "execution_count": 53,
   "metadata": {},
   "outputs": [
    {
     "data": {
      "text/plain": [
       " 36 months    0.75886\n",
       " 60 months    0.24114\n",
       "Name: term, dtype: float64"
      ]
     },
     "execution_count": 53,
     "metadata": {},
     "output_type": "execute_result"
    }
   ],
   "source": [
    "data1['term'].value_counts(dropna=True,normalize=True)"
   ]
  },
  {
   "cell_type": "code",
   "execution_count": 54,
   "metadata": {},
   "outputs": [
    {
     "data": {
      "text/plain": [
       "term\n",
       " 36 months    0.165710\n",
       " 60 months    0.333793\n",
       "Name: loan_status, dtype: float64"
      ]
     },
     "execution_count": 54,
     "metadata": {},
     "output_type": "execute_result"
    }
   ],
   "source": [
    "data1.groupby('term')['loan_status'].value_counts(dropna=True,normalize=True).loc[:,'Charged Off']"
   ]
  },
  {
   "cell_type": "code",
   "execution_count": 55,
   "metadata": {},
   "outputs": [
    {
     "data": {
      "text/plain": [
       "dtype('O')"
      ]
     },
     "execution_count": 55,
     "metadata": {},
     "output_type": "execute_result"
    }
   ],
   "source": [
    "data1['term'].astype(str)\n",
    "data1['term'].dtype"
   ]
  },
  {
   "cell_type": "code",
   "execution_count": 56,
   "metadata": {
    "scrolled": true
   },
   "outputs": [
    {
     "name": "stderr",
     "output_type": "stream",
     "text": [
      "C:\\Users\\admin\\Anaconda3\\lib\\site-packages\\ipykernel_launcher.py:1: SettingWithCopyWarning: \n",
      "A value is trying to be set on a copy of a slice from a DataFrame.\n",
      "Try using .loc[row_indexer,col_indexer] = value instead\n",
      "\n",
      "See the caveats in the documentation: http://pandas.pydata.org/pandas-docs/stable/indexing.html#indexing-view-versus-copy\n",
      "  \"\"\"Entry point for launching an IPython kernel.\n"
     ]
    }
   ],
   "source": [
    "data1['term']=data1.term.str.split(\" \").str[1]\n"
   ]
  },
  {
   "cell_type": "code",
   "execution_count": 57,
   "metadata": {},
   "outputs": [
    {
     "data": {
      "text/plain": [
       "0    60\n",
       "1    36\n",
       "2    60\n",
       "4    36\n",
       "5    36\n",
       "Name: term, dtype: object"
      ]
     },
     "execution_count": 57,
     "metadata": {},
     "output_type": "execute_result"
    }
   ],
   "source": [
    "data1['term'].head()"
   ]
  },
  {
   "cell_type": "code",
   "execution_count": 58,
   "metadata": {},
   "outputs": [
    {
     "name": "stdout",
     "output_type": "stream",
     "text": [
      "36    618460\n",
      "60    196526\n",
      "Name: term, dtype: int64\n"
     ]
    },
    {
     "data": {
      "text/plain": [
       "Index(['36', '60'], dtype='object')"
      ]
     },
     "execution_count": 58,
     "metadata": {},
     "output_type": "execute_result"
    }
   ],
   "source": [
    "data2=data1.groupby('term')\n",
    "term_x=data1['term'].value_counts()\n",
    "print(term_x)\n",
    "term_x.index"
   ]
  },
  {
   "cell_type": "code",
   "execution_count": 59,
   "metadata": {},
   "outputs": [
    {
     "name": "stdout",
     "output_type": "stream",
     "text": [
      "term\n",
      "36    102485\n",
      "60     65599\n",
      "Name: loan_status, dtype: int64\n",
      "Index(['36', '60'], dtype='object', name='term')\n"
     ]
    }
   ],
   "source": [
    "term_y1=(data2['loan_status'].value_counts().loc[:,'Charged Off'])\n",
    "print(term_y1)\n",
    "print(term_y1.index)"
   ]
  },
  {
   "cell_type": "code",
   "execution_count": 60,
   "metadata": {
    "scrolled": false
   },
   "outputs": [
    {
     "name": "stdout",
     "output_type": "stream",
     "text": [
      "term\n",
      "36    515975\n",
      "60    130927\n",
      "Name: loan_status, dtype: int64\n"
     ]
    }
   ],
   "source": [
    "term_y2=(data2['loan_status'].value_counts().loc[:,'Fully Paid'])\n",
    "print(term_y2)"
   ]
  },
  {
   "cell_type": "code",
   "execution_count": 61,
   "metadata": {},
   "outputs": [
    {
     "data": {
      "text/plain": [
       "\"\\nfig, ax = plt.subplots()\\nbar_width = 0.35\\nopacity=0.65\\nleg=['Total','Charged Off','Fully Paid']\\nax.bar(term_x.index,term_x,bar_width,color='blue')\\nax.bar(term_x.index,term_y1,bar_width,color='red')\\nax.bar(term_x.index,term_y2,bar_width,color='pink',alpha=opacity)\\nplt.legend(leg)\\nplt.show()\\n\""
      ]
     },
     "execution_count": 61,
     "metadata": {},
     "output_type": "execute_result"
    }
   ],
   "source": [
    "'''\n",
    "fig, ax = plt.subplots()\n",
    "bar_width = 0.35\n",
    "opacity=0.65\n",
    "leg=['Total','Charged Off','Fully Paid']\n",
    "ax.bar(term_x.index,term_x,bar_width,color='blue')\n",
    "ax.bar(term_x.index,term_y1,bar_width,color='red')\n",
    "ax.bar(term_x.index,term_y2,bar_width,color='pink',alpha=opacity)\n",
    "plt.legend(leg)\n",
    "plt.show()\n",
    "'''"
   ]
  },
  {
   "cell_type": "code",
   "execution_count": 62,
   "metadata": {
    "scrolled": true
   },
   "outputs": [
    {
     "data": {
      "image/png": "[encoded data removed]",
      "text/plain": [
       "<Figure size 1080x648 with 1 Axes>"
      ]
     },
     "metadata": {
      "needs_background": "light"
     },
     "output_type": "display_data"
    }
   ],
   "source": [
    "from pylab import rcParams\n",
    "rcParams['figure.figsize']=15,9\n",
    "term_x_list=list(term_x)\n",
    "term_y1_list=list(term_y1)\n",
    "term_y2_list=list(term_y2)\n",
    "opacity=0.7\n",
    "bar_width = 0.2\n",
    "fig, ax = plt.subplots()\n",
    "r1 = np.arange(len(term_x_list))\n",
    "r2 = [x + bar_width for x in r1]\n",
    "r3 = [x + bar_width for x in r2]\n",
    "#plt.figure(figsize=(20,15))\n",
    "a=ax.bar(r1,term_x_list, color='grey', width=bar_width, edgecolor='white', label='Total')\n",
    "b=ax.bar(r2, term_y1_list, color='green', width=bar_width, edgecolor='white', label='Charged Off',alpha=opacity)\n",
    "c=ax.bar(r3, term_y2_list, color='pink', width=bar_width, edgecolor='white', label='Fully Paid',alpha=opacity)\n",
    "\n",
    "plt.xticks([r + bar_width for r in range(len(term_x_list))], ['36','60'])\n",
    " \n",
    "\n",
    "\n",
    "\n",
    "\n",
    "def autolabel(rects):\n",
    "    \"\"\"\n",
    "    Attach a text label above each bar displaying its height\n",
    "    \"\"\"\n",
    "    for rect in rects:\n",
    "        height = rect.get_height()\n",
    "        ax.text(rect.get_x() + rect.get_width()/2., 1.02*height,\n",
    "                '%d' % int(height),\n",
    "                ha='center', va='bottom')\n",
    "\n",
    "\n",
    "autolabel(a)\n",
    "autolabel(b)\n",
    "autolabel(c)\n",
    "plt.legend()\n",
    "plt.show()\n"
   ]
  },
  {
   "cell_type": "markdown",
   "metadata": {},
   "source": [
    "# int_rate"
   ]
  },
  {
   "cell_type": "code",
   "execution_count": 63,
   "metadata": {},
   "outputs": [
    {
     "name": "stdout",
     "output_type": "stream",
     "text": [
      "count    814986.000000\n",
      "mean         13.490993\n",
      "std           4.618486\n",
      "min           5.320000\n",
      "25%           9.990000\n",
      "50%          13.110000\n",
      "75%          16.290000\n",
      "max          30.990000\n",
      "Name: int_rate, dtype: float64\n"
     ]
    },
    {
     "data": {
      "text/plain": [
       "<matplotlib.axes._subplots.AxesSubplot at 0x1be724fd898>"
      ]
     },
     "execution_count": 63,
     "metadata": {},
     "output_type": "execute_result"
    },
    {
     "data": {
      "image/png": "[encoded data removed]",
      "text/plain": [
       "<Figure size 1080x648 with 1 Axes>"
      ]
     },
     "metadata": {
      "needs_background": "light"
     },
     "output_type": "display_data"
    }
   ],
   "source": [
    "print(data1['int_rate'].describe())\n",
    "sns.boxplot(x=data1['int_rate'],color=\"grey\")"
   ]
  },
  {
   "cell_type": "code",
   "execution_count": 64,
   "metadata": {},
   "outputs": [
    {
     "name": "stdout",
     "output_type": "stream",
     "text": [
      "                count       mean       std   min    25%    50%    75%    max\n",
      "loan_status                                                                 \n",
      "Charged Off  168084.0  15.736335  4.625755  5.32  12.59  15.31  18.55  30.99\n",
      "Fully Paid   646902.0  12.907587  4.434262  5.32   9.49  12.68  15.61  30.99\n"
     ]
    },
    {
     "data": {
      "text/plain": [
       "<matplotlib.axes._subplots.AxesSubplot at 0x1be7249df28>"
      ]
     },
     "execution_count": 64,
     "metadata": {},
     "output_type": "execute_result"
    },
    {
     "data": {
      "image/png": "[encoded data removed]",
      "text/plain": [
       "<Figure size 1080x648 with 1 Axes>"
      ]
     },
     "metadata": {
      "needs_background": "light"
     },
     "output_type": "display_data"
    }
   ],
   "source": [
    "data3 = data1.groupby('loan_status')\n",
    "intrate=data3['int_rate'].describe()\n",
    "print(intrate)\n",
    "sns.barplot(x=intrate.index,y=intrate['count'])"
   ]
  },
  {
   "cell_type": "markdown",
   "metadata": {},
   "source": [
    "# installment"
   ]
  },
  {
   "cell_type": "code",
   "execution_count": 65,
   "metadata": {},
   "outputs": [
    {
     "name": "stdout",
     "output_type": "stream",
     "text": [
      "count    814986.000000\n",
      "mean        436.749624\n",
      "std         255.732093\n",
      "min           4.930000\n",
      "25%         251.400000\n",
      "50%         377.040000\n",
      "75%         576.290000\n",
      "max        1714.540000\n",
      "Name: installment, dtype: float64\n"
     ]
    },
    {
     "data": {
      "text/plain": [
       "<matplotlib.axes._subplots.AxesSubplot at 0x1be7246d198>"
      ]
     },
     "execution_count": 65,
     "metadata": {},
     "output_type": "execute_result"
    },
    {
     "data": {
      "image/png": "[encoded data removed]",
      "text/plain": [
       "<Figure size 1080x648 with 1 Axes>"
      ]
     },
     "metadata": {
      "needs_background": "light"
     },
     "output_type": "display_data"
    }
   ],
   "source": [
    "print(data1['installment'].describe())\n",
    "sns.boxplot(x=data1['installment'],color='orange')"
   ]
  },
  {
   "cell_type": "code",
   "execution_count": 66,
   "metadata": {},
   "outputs": [
    {
     "name": "stdout",
     "output_type": "stream",
     "text": [
      "                count        mean         std    min     25%     50%     75%  \\\n",
      "loan_status                                                                    \n",
      "Charged Off  168084.0  459.973673  255.309267  21.62  276.14  402.39  595.87   \n",
      "Fully Paid   646902.0  430.715339  255.496761   4.93  244.76  370.92  569.72   \n",
      "\n",
      "                 max  \n",
      "loan_status           \n",
      "Charged Off  1569.11  \n",
      "Fully Paid   1714.54  \n"
     ]
    },
    {
     "data": {
      "text/plain": [
       "<matplotlib.axes._subplots.AxesSubplot at 0x1be72437828>"
      ]
     },
     "execution_count": 66,
     "metadata": {},
     "output_type": "execute_result"
    },
    {
     "data": {
      "image/png": "[encoded data removed]",
      "text/plain": [
       "<Figure size 1080x648 with 1 Axes>"
      ]
     },
     "metadata": {
      "needs_background": "light"
     },
     "output_type": "display_data"
    }
   ],
   "source": [
    "install_data=data1.groupby('loan_status')\n",
    "install=install_data['installment'].describe()\n",
    "print(install)\n",
    "sns.barplot(x=install.index,y=install['count'])"
   ]
  },
  {
   "cell_type": "raw",
   "metadata": {},
   "source": [
    "From the above bar plot we can conclude that the installment and interest rate(int_rate) features of this dataset\n",
    "are highly corelated as proved above using the heatmap "
   ]
  },
  {
   "cell_type": "markdown",
   "metadata": {},
   "source": [
    "# grade, sub_grade"
   ]
  },
  {
   "cell_type": "code",
   "execution_count": 67,
   "metadata": {},
   "outputs": [
    {
     "name": "stdout",
     "output_type": "stream",
     "text": [
      "['A', 'B', 'C', 'D', 'E', 'F', 'G']\n"
     ]
    }
   ],
   "source": [
    "print(sorted(data1['grade'].unique()))"
   ]
  },
  {
   "cell_type": "markdown",
   "metadata": {},
   "source": [
    "The grade is implied by the subgrade, so let's drop the grade column."
   ]
  },
  {
   "cell_type": "code",
   "execution_count": 68,
   "metadata": {},
   "outputs": [],
   "source": [
    "data1.drop('grade', axis=1, inplace=True)"
   ]
  },
  {
   "cell_type": "code",
   "execution_count": 69,
   "metadata": {},
   "outputs": [
    {
     "name": "stdout",
     "output_type": "stream",
     "text": [
      "['A1', 'A2', 'A3', 'A4', 'A5', 'B1', 'B2', 'B3', 'B4', 'B5', 'C1', 'C2', 'C3', 'C4', 'C5', 'D1', 'D2', 'D3', 'D4', 'D5', 'E1', 'E2', 'E3', 'E4', 'E5', 'F1', 'F2', 'F3', 'F4', 'F5', 'G1', 'G2', 'G3', 'G4', 'G5']\n"
     ]
    }
   ],
   "source": [
    "print(sorted(data1['sub_grade'].unique()))"
   ]
  },
  {
   "cell_type": "code",
   "execution_count": 70,
   "metadata": {},
   "outputs": [
    {
     "data": {
      "text/plain": [
       "Text(0.5, 0, 'Sub_grade')"
      ]
     },
     "execution_count": 70,
     "metadata": {},
     "output_type": "execute_result"
    },
    {
     "data": {
      "image/png": "[encoded data removed]",
      "text/plain": [
       "<Figure size 1584x504 with 2 Axes>"
      ]
     },
     "metadata": {
      "needs_background": "light"
     },
     "output_type": "display_data"
    }
   ],
   "source": [
    "sub_grade_data=data1.groupby('sub_grade')\n",
    "plt.figure(figsize=(22,7))\n",
    "sub_plot1=sub_grade_data['loan_status'].count()\n",
    "sub_plot_C=sub_grade_data['loan_status'].value_counts(normalize=True).loc[:,'Charged Off']\n",
    "#print(sub_plot1)\n",
    "plt.subplot(1,2,1)\n",
    "plt.bar(sub_plot1.index,sub_plot1)\n",
    "plt.title(\"Sub_grade\")\n",
    "plt.ylabel('Count')\n",
    "plt.xlabel('Sub_grade')\n",
    "plt.subplot(1,2,2)\n",
    "plt.bar(sub_plot_C.index,sub_plot_C)\n",
    "plt.title(\"Charged off Rate by Subgrage\")\n",
    "plt.ylabel('Fraction of Loan Charge Off')\n",
    "plt.xlabel('Sub_grade')"
   ]
  },
  {
   "cell_type": "markdown",
   "metadata": {},
   "source": [
    "# emp_title"
   ]
  },
  {
   "cell_type": "code",
   "execution_count": 71,
   "metadata": {},
   "outputs": [
    {
     "data": {
      "text/plain": [
       "count      766415\n",
       "unique     280473\n",
       "top       Teacher\n",
       "freq        11351\n",
       "Name: emp_title, dtype: object"
      ]
     },
     "execution_count": 71,
     "metadata": {},
     "output_type": "execute_result"
    }
   ],
   "source": [
    "data1['emp_title'].describe()"
   ]
  },
  {
   "cell_type": "raw",
   "metadata": {},
   "source": [
    "There are too many different job titles for the emp_title feature so we drop this feature. "
   ]
  },
  {
   "cell_type": "code",
   "execution_count": 72,
   "metadata": {},
   "outputs": [],
   "source": [
    "data1.drop('emp_title',axis=1,inplace=True)"
   ]
  },
  {
   "cell_type": "markdown",
   "metadata": {},
   "source": [
    "# emp_length"
   ]
  },
  {
   "cell_type": "code",
   "execution_count": 73,
   "metadata": {},
   "outputs": [
    {
     "data": {
      "text/plain": [
       "10+ years    264873\n",
       "2 years       73493\n",
       "3 years       64999\n",
       "< 1 year      64572\n",
       "1 year        53411\n",
       "5 years       52149\n",
       "4 years       48752\n",
       "NaN           42253\n",
       "6 years       40290\n",
       "7 years       39407\n",
       "8 years       38887\n",
       "9 years       31900\n",
       "Name: emp_length, dtype: int64"
      ]
     },
     "execution_count": 73,
     "metadata": {},
     "output_type": "execute_result"
    }
   ],
   "source": [
    "data1['emp_length'].value_counts(dropna=False)"
   ]
  },
  {
   "cell_type": "code",
   "execution_count": 74,
   "metadata": {},
   "outputs": [
    {
     "name": "stderr",
     "output_type": "stream",
     "text": [
      "C:\\Users\\admin\\Anaconda3\\lib\\site-packages\\pandas\\core\\generic.py:6586: SettingWithCopyWarning: \n",
      "A value is trying to be set on a copy of a slice from a DataFrame\n",
      "\n",
      "See the caveats in the documentation: http://pandas.pydata.org/pandas-docs/stable/indexing.html#indexing-view-versus-copy\n",
      "  self._update_inplace(new_data)\n"
     ]
    }
   ],
   "source": [
    "data1['emp_length'].replace(to_replace='10+ years',value='10 years',inplace=True)\n",
    "data1['emp_length'].replace(to_replace='< 1 year',value='0 years',inplace=True)\n"
   ]
  },
  {
   "cell_type": "code",
   "execution_count": 75,
   "metadata": {},
   "outputs": [
    {
     "data": {
      "text/plain": [
       "0     10 years\n",
       "1      8 years\n",
       "2      6 years\n",
       "4      0 years\n",
       "5     10 years\n",
       "6      0 years\n",
       "7      6 years\n",
       "8     10 years\n",
       "9      2 years\n",
       "10     8 years\n",
       "Name: emp_length, dtype: object"
      ]
     },
     "execution_count": 75,
     "metadata": {},
     "output_type": "execute_result"
    }
   ],
   "source": [
    "data1['emp_length'].head(10)"
   ]
  },
  {
   "cell_type": "code",
   "execution_count": 76,
   "metadata": {},
   "outputs": [
    {
     "name": "stderr",
     "output_type": "stream",
     "text": [
      "C:\\Users\\admin\\Anaconda3\\lib\\site-packages\\ipykernel_launcher.py:1: SettingWithCopyWarning: \n",
      "A value is trying to be set on a copy of a slice from a DataFrame.\n",
      "Try using .loc[row_indexer,col_indexer] = value instead\n",
      "\n",
      "See the caveats in the documentation: http://pandas.pydata.org/pandas-docs/stable/indexing.html#indexing-view-versus-copy\n",
      "  \"\"\"Entry point for launching an IPython kernel.\n"
     ]
    },
    {
     "data": {
      "text/plain": [
       "0     10\n",
       "1      8\n",
       "2      6\n",
       "4      0\n",
       "5     10\n",
       "6      0\n",
       "7      6\n",
       "8     10\n",
       "9      2\n",
       "10     8\n",
       "Name: emp_length, dtype: object"
      ]
     },
     "execution_count": 76,
     "metadata": {},
     "output_type": "execute_result"
    }
   ],
   "source": [
    "data1['emp_length']=data1.emp_length.str.split(\" \").str[0]\n",
    "data1['emp_length'].head(10)"
   ]
  },
  {
   "cell_type": "code",
   "execution_count": 77,
   "metadata": {},
   "outputs": [],
   "source": [
    "def emp_length(s):\n",
    "    if pd.isnull(s):\n",
    "        return s\n",
    "    else:\n",
    "        return np.int8(s.split()[0])"
   ]
  },
  {
   "cell_type": "code",
   "execution_count": 78,
   "metadata": {
    "scrolled": true
   },
   "outputs": [
    {
     "name": "stderr",
     "output_type": "stream",
     "text": [
      "C:\\Users\\admin\\Anaconda3\\lib\\site-packages\\ipykernel_launcher.py:1: SettingWithCopyWarning: \n",
      "A value is trying to be set on a copy of a slice from a DataFrame.\n",
      "Try using .loc[row_indexer,col_indexer] = value instead\n",
      "\n",
      "See the caveats in the documentation: http://pandas.pydata.org/pandas-docs/stable/indexing.html#indexing-view-versus-copy\n",
      "  \"\"\"Entry point for launching an IPython kernel.\n"
     ]
    }
   ],
   "source": [
    "data1['emp_length']=data1['emp_length'].apply(emp_length)"
   ]
  },
  {
   "cell_type": "code",
   "execution_count": 79,
   "metadata": {},
   "outputs": [],
   "source": [
    "emp_length_data=data1.groupby('emp_length')\n",
    "emp_length_data_x=emp_length_data "
   ]
  },
  {
   "cell_type": "code",
   "execution_count": 80,
   "metadata": {},
   "outputs": [
    {
     "data": {
      "text/plain": [
       "Text(0, 0.5, 'Percentage of Loan Default')"
      ]
     },
     "execution_count": 80,
     "metadata": {},
     "output_type": "execute_result"
    },
    {
     "data": {
      "image/png": "[encoded data removed]",
      "text/plain": [
       "<Figure size 1080x648 with 1 Axes>"
      ]
     },
     "metadata": {
      "needs_background": "light"
     },
     "output_type": "display_data"
    }
   ],
   "source": [
    "(emp_length_data['loan_status'].value_counts(normalize=True,dropna=True).loc[:,'Charged Off']).plot(kind='bar')\n",
    "plt.title('Loan default by Emp_length')\n",
    "plt.ylabel('Percentage of Loan Default')"
   ]
  },
  {
   "cell_type": "markdown",
   "metadata": {},
   "source": [
    "# Home _ownership"
   ]
  },
  {
   "cell_type": "code",
   "execution_count": 81,
   "metadata": {},
   "outputs": [
    {
     "data": {
      "text/plain": [
       "MORTGAGE    406866\n",
       "RENT        325071\n",
       "OWN          82765\n",
       "OTHER          144\n",
       "ANY             94\n",
       "NONE            46\n",
       "Name: home_ownership, dtype: int64"
      ]
     },
     "execution_count": 81,
     "metadata": {},
     "output_type": "execute_result"
    }
   ],
   "source": [
    "data1['home_ownership'].value_counts(dropna=False)"
   ]
  },
  {
   "cell_type": "markdown",
   "metadata": {},
   "source": [
    "replace Any and None with Others"
   ]
  },
  {
   "cell_type": "code",
   "execution_count": 82,
   "metadata": {},
   "outputs": [],
   "source": [
    "data1['home_ownership'].replace(['NONE','ANY'],'OTHER',inplace=True)"
   ]
  },
  {
   "cell_type": "code",
   "execution_count": 83,
   "metadata": {},
   "outputs": [
    {
     "name": "stdout",
     "output_type": "stream",
     "text": [
      "MORTGAGE    406866\n",
      "OTHER          284\n",
      "OWN          82765\n",
      "RENT        325071\n",
      "Name: home_ownership, dtype: int64\n",
      "Index(['MORTGAGE', 'OTHER', 'OWN', 'RENT'], dtype='object')\n"
     ]
    }
   ],
   "source": [
    "home_owner_T=data1['home_ownership'].value_counts(dropna=False).sort_index()\n",
    "print(home_owner_T)\n",
    "print(home_owner_T.index)"
   ]
  },
  {
   "cell_type": "code",
   "execution_count": 84,
   "metadata": {},
   "outputs": [],
   "source": [
    "home_ownership_data=data1.groupby('home_ownership')\n",
    "home_ownership_data_x = home_ownership_data"
   ]
  },
  {
   "cell_type": "code",
   "execution_count": 85,
   "metadata": {},
   "outputs": [
    {
     "data": {
      "text/plain": [
       "home_ownership\n",
       "MORTGAGE    72344\n",
       "OTHER          50\n",
       "OWN         17861\n",
       "RENT        77829\n",
       "Name: loan_status, dtype: int64"
      ]
     },
     "execution_count": 85,
     "metadata": {},
     "output_type": "execute_result"
    }
   ],
   "source": [
    "home_owner_C=(home_ownership_data['loan_status'].value_counts().loc[:,'Charged Off']).sort_index()\n",
    "home_owner_C"
   ]
  },
  {
   "cell_type": "code",
   "execution_count": 86,
   "metadata": {},
   "outputs": [
    {
     "data": {
      "text/plain": [
       "home_ownership\n",
       "MORTGAGE    334522\n",
       "OTHER          234\n",
       "OWN          64904\n",
       "RENT        247242\n",
       "Name: loan_status, dtype: int64"
      ]
     },
     "execution_count": 86,
     "metadata": {},
     "output_type": "execute_result"
    }
   ],
   "source": [
    "home_owner_F=(home_ownership_data['loan_status'].value_counts().loc[:,'Fully Paid']).sort_index()\n",
    "home_owner_F"
   ]
  },
  {
   "cell_type": "markdown",
   "metadata": {},
   "source": [
    "From the graph it is quite clear that home owners and renters have a high probability of defaulting on loan."
   ]
  },
  {
   "cell_type": "code",
   "execution_count": 87,
   "metadata": {},
   "outputs": [
    {
     "data": {
      "image/png": "[encoded data removed]",
      "text/plain": [
       "<Figure size 1080x648 with 1 Axes>"
      ]
     },
     "metadata": {
      "needs_background": "light"
     },
     "output_type": "display_data"
    }
   ],
   "source": [
    "from pylab import rcParams\n",
    "rcParams['figure.figsize']=15,9\n",
    "home_owner_T=list(home_owner_T)\n",
    "home_owner_C=list(home_owner_C)\n",
    "home_owner_F=list(home_owner_F)\n",
    "opacity=0.7\n",
    "bar_width = 0.2\n",
    "fig, ax = plt.subplots()\n",
    "r11 = np.arange(len(home_owner_T))\n",
    "r22 = [x + bar_width for x in r11]\n",
    "r33 = [x + bar_width for x in r22]\n",
    "#plt.figure(figsize=(20,15))\n",
    "a1=ax.bar(r11,home_owner_T, color='grey', width=bar_width, edgecolor='white', label='Total')\n",
    "b1=ax.bar(r22, home_owner_C, color='green', width=bar_width, edgecolor='white', label='Charged Off',alpha=opacity)\n",
    "c1=ax.bar(r33, home_owner_F, color='pink', width=bar_width, edgecolor='white', label='Fully Paid',alpha=opacity)\n",
    "\n",
    "plt.xticks([r + bar_width for r in range(len(home_owner_T))], ['MORTGAGE', 'RENT', 'OWN', 'OTHER'])\n",
    " \n",
    "\n",
    "\n",
    "\n",
    "\n",
    "def autolabel(rects):\n",
    "    \"\"\"\n",
    "    Attach a text label above each bar displaying its height\n",
    "    \"\"\"\n",
    "    for rect in rects:\n",
    "        height = rect.get_height()\n",
    "        ax.text(rect.get_x() + rect.get_width()/2., 1.02*height,\n",
    "                '%d' % int(height),\n",
    "                ha='center', va='bottom')\n",
    "\n",
    "\n",
    "autolabel(a1)\n",
    "autolabel(b1)\n",
    "autolabel(c1)\n",
    "plt.legend()\n",
    "plt.show()\n"
   ]
  },
  {
   "cell_type": "markdown",
   "metadata": {},
   "source": [
    "# Purpose"
   ]
  },
  {
   "cell_type": "code",
   "execution_count": 88,
   "metadata": {},
   "outputs": [
    {
     "name": "stdout",
     "output_type": "stream",
     "text": [
      "purpose\n",
      "car                     8936\n",
      "credit_card           175123\n",
      "debt_consolidation    481652\n",
      "educational              326\n",
      "home_improvement       50793\n",
      "house                   4095\n",
      "major_purchase         17463\n",
      "medical                 8772\n",
      "moving                  5725\n",
      "other                  43900\n",
      "renewable_energy         599\n",
      "small_business         10214\n",
      "vacation                5116\n",
      "wedding                 2272\n",
      "Name: purpose, dtype: int64\n"
     ]
    }
   ],
   "source": [
    "data1['purpose'].value_counts(dropna=False).sort_index()\n",
    "purpose_data=data1.groupby('purpose')\n",
    "purpose_x=purpose_data['purpose'].count()\n",
    "print(purpose_x)"
   ]
  },
  {
   "cell_type": "code",
   "execution_count": 89,
   "metadata": {},
   "outputs": [
    {
     "data": {
      "text/plain": [
       "purpose\n",
       "car                     1323\n",
       "credit_card            31244\n",
       "debt_consolidation    104710\n",
       "educational               56\n",
       "home_improvement        9213\n",
       "house                    879\n",
       "major_purchase          3200\n",
       "medical                 2012\n",
       "moving                  1391\n",
       "other                   9525\n",
       "renewable_energy         148\n",
       "small_business          3089\n",
       "vacation                1017\n",
       "wedding                  277\n",
       "Name: loan_status, dtype: int64"
      ]
     },
     "execution_count": 89,
     "metadata": {},
     "output_type": "execute_result"
    }
   ],
   "source": [
    "purpose_y1=purpose_data['loan_status'].value_counts().loc[:,'Charged Off'].sort_index()\n",
    "purpose_y1"
   ]
  },
  {
   "cell_type": "code",
   "execution_count": 90,
   "metadata": {},
   "outputs": [
    {
     "data": {
      "text/plain": [
       "purpose\n",
       "car                     7613\n",
       "credit_card           143879\n",
       "debt_consolidation    376942\n",
       "educational              270\n",
       "home_improvement       41580\n",
       "house                   3216\n",
       "major_purchase         14263\n",
       "medical                 6760\n",
       "moving                  4334\n",
       "other                  34375\n",
       "renewable_energy         451\n",
       "small_business          7125\n",
       "vacation                4099\n",
       "wedding                 1995\n",
       "Name: loan_status, dtype: int64"
      ]
     },
     "execution_count": 90,
     "metadata": {},
     "output_type": "execute_result"
    }
   ],
   "source": [
    "purpose_y2=purpose_data['loan_status'].value_counts().loc[:,'Fully Paid'].sort_index()\n",
    "purpose_y2"
   ]
  },
  {
   "cell_type": "code",
   "execution_count": 91,
   "metadata": {},
   "outputs": [
    {
     "data": {
      "image/png": "[encoded data removed]",
      "text/plain": [
       "<Figure size 1080x648 with 1 Axes>"
      ]
     },
     "metadata": {
      "needs_background": "light"
     },
     "output_type": "display_data"
    }
   ],
   "source": [
    "from pylab import rcParams\n",
    "rcParams['figure.figsize']=15,9\n",
    "purpose_x_T=list(purpose_x)\n",
    "purpose_y1_C=list(purpose_y1)\n",
    "purpose_y2_F=list(purpose_y2)\n",
    "opacity=0.7\n",
    "bar_width = 0.25\n",
    "fig, ax = plt.subplots()\n",
    "r111 = np.arange(len(purpose_x_T))\n",
    "r222 = [x + bar_width for x in r111]\n",
    "r333 = [x + bar_width for x in r222]\n",
    "#plt.figure(figsize=(20,15))\n",
    "a11=ax.bar(r111,purpose_x_T, color='grey', width=bar_width, edgecolor='white', label='Total')\n",
    "b11=ax.bar(r222, purpose_y1_C, color='green', width=bar_width, edgecolor='white', label='Charged Off',alpha=opacity)\n",
    "c11=ax.bar(r333, purpose_y2_F, color='pink', width=bar_width, edgecolor='white', label='Fully Paid',alpha=opacity)\n",
    "\n",
    "plt.xticks([r + bar_width for r in range(len(purpose_x_T))],['car', 'credit_card', 'debt_consolidation', 'educational',\n",
    "       'home_improvement', 'house', 'major_purchase', 'medical', 'moving',\n",
    "       'other', 'renewable_energy', 'small_business', 'vacation', 'wedding'],rotation=90)\n",
    " \n",
    "\n",
    "\n",
    "\n",
    "\n",
    "def autolabel(rects):\n",
    "    \"\"\"\n",
    "    Attach a text label above each bar displaying its height\n",
    "    \"\"\"\n",
    "    for rect in rects:\n",
    "        height = rect.get_height()\n",
    "        ax.text(rect.get_x() + rect.get_width()/2., 1.02*height,\n",
    "                '%d' % int(height),\n",
    "                ha='center', va='bottom',rotation=90)\n",
    "\n",
    "\n",
    "autolabel(a11)\n",
    "autolabel(b11)\n",
    "autolabel(c11)\n",
    "plt.legend()\n",
    "plt.show()\n"
   ]
  },
  {
   "cell_type": "markdown",
   "metadata": {},
   "source": [
    "# addr_state"
   ]
  },
  {
   "cell_type": "code",
   "execution_count": 92,
   "metadata": {},
   "outputs": [],
   "source": [
    "addr_data = data1.groupby('addr_state')\n",
    "addr_state_T=data1['addr_state'].value_counts(dropna=False).sort_index(ascending=False)\n",
    "addr_state_C=addr_data['loan_status'].value_counts(normalize=True).loc[:,'Charged Off'].sort_index(ascending=False)"
   ]
  },
  {
   "cell_type": "code",
   "execution_count": 93,
   "metadata": {},
   "outputs": [
    {
     "data": {
      "text/plain": [
       "Text(0.5, 0, 'Sub_grade')"
      ]
     },
     "execution_count": 93,
     "metadata": {},
     "output_type": "execute_result"
    },
    {
     "data": {
      "image/png": "[encoded data removed]",
      "text/plain": [
       "<Figure size 1170x900 with 2 Axes>"
      ]
     },
     "metadata": {
      "needs_background": "light"
     },
     "output_type": "display_data"
    }
   ],
   "source": [
    "plt.figure(figsize=(13,10),dpi=90)\n",
    "plt.subplot(1,2,1)\n",
    "plt.barh(addr_state_T.index,addr_state_T)\n",
    "plt.title(\"Sub_grade\")\n",
    "plt.ylabel('Count')\n",
    "plt.xlabel('Sub_grade')\n",
    "plt.subplot(1,2,2)\n",
    "plt.barh(addr_state_C.index,addr_state_C)\n",
    "plt.title(\"Charged off Rate by Subgrage\")\n",
    "plt.ylabel('Fraction of Loan Charge Off')\n",
    "plt.xlabel('Sub_grade')"
   ]
  },
  {
   "cell_type": "markdown",
   "metadata": {},
   "source": [
    "# Fico_range_low, Fico_range_high"
   ]
  },
  {
   "cell_type": "markdown",
   "metadata": {},
   "source": [
    "We will keep only one fico score which is the average of the fico_range as both the features are highly correlated"
   ]
  },
  {
   "cell_type": "code",
   "execution_count": 94,
   "metadata": {},
   "outputs": [
    {
     "name": "stderr",
     "output_type": "stream",
     "text": [
      "C:\\Users\\admin\\Anaconda3\\lib\\site-packages\\ipykernel_launcher.py:1: SettingWithCopyWarning: \n",
      "A value is trying to be set on a copy of a slice from a DataFrame.\n",
      "Try using .loc[row_indexer,col_indexer] = value instead\n",
      "\n",
      "See the caveats in the documentation: http://pandas.pydata.org/pandas-docs/stable/indexing.html#indexing-view-versus-copy\n",
      "  \"\"\"Entry point for launching an IPython kernel.\n"
     ]
    }
   ],
   "source": [
    "data1['fico_score'] = 0.5*data1['fico_range_high'] + 0.5 * data1['fico_range_low']"
   ]
  },
  {
   "cell_type": "code",
   "execution_count": 95,
   "metadata": {},
   "outputs": [
    {
     "name": "stderr",
     "output_type": "stream",
     "text": [
      "C:\\Users\\admin\\Anaconda3\\lib\\site-packages\\pandas\\core\\frame.py:3940: SettingWithCopyWarning: \n",
      "A value is trying to be set on a copy of a slice from a DataFrame\n",
      "\n",
      "See the caveats in the documentation: http://pandas.pydata.org/pandas-docs/stable/indexing.html#indexing-view-versus-copy\n",
      "  errors=errors)\n"
     ]
    }
   ],
   "source": [
    "data1.drop(['fico_range_low','fico_range_high'],axis=1,inplace=True)"
   ]
  },
  {
   "cell_type": "code",
   "execution_count": 96,
   "metadata": {
    "scrolled": true
   },
   "outputs": [
    {
     "name": "stdout",
     "output_type": "stream",
     "text": [
      "count    814986.000000\n",
      "mean        697.603208\n",
      "std          31.352520\n",
      "min         627.000000\n",
      "25%         672.000000\n",
      "50%         692.000000\n",
      "75%         712.000000\n",
      "max         847.500000\n",
      "Name: fico_score, dtype: float64\n"
     ]
    },
    {
     "data": {
      "text/plain": [
       "<matplotlib.axes._subplots.AxesSubplot at 0x1be7adcf080>"
      ]
     },
     "execution_count": 96,
     "metadata": {},
     "output_type": "execute_result"
    },
    {
     "data": {
      "image/png": "[encoded data removed]",
      "text/plain": [
       "<Figure size 1170x450 with 1 Axes>"
      ]
     },
     "metadata": {
      "needs_background": "light"
     },
     "output_type": "display_data"
    }
   ],
   "source": [
    "print(data1['fico_score'].describe())\n",
    "plt.figure(figsize=(13,5),dpi=90)\n",
    "sns.boxplot(x=data1['fico_score'],color='green')"
   ]
  },
  {
   "cell_type": "markdown",
   "metadata": {},
   "source": [
    "# pub_rec_bankrupties"
   ]
  },
  {
   "cell_type": "code",
   "execution_count": 97,
   "metadata": {},
   "outputs": [
    {
     "data": {
      "text/plain": [
       "0.0     714642\n",
       "1.0      93680\n",
       "2.0       4673\n",
       "3.0        926\n",
       "4.0        234\n",
       "5.0         85\n",
       "6.0         28\n",
       "7.0         14\n",
       "8.0          5\n",
       "9.0          1\n",
       "12.0         1\n",
       "NaN        697\n",
       "Name: pub_rec_bankruptcies, dtype: int64"
      ]
     },
     "execution_count": 97,
     "metadata": {},
     "output_type": "execute_result"
    }
   ],
   "source": [
    "data1['pub_rec_bankruptcies'].value_counts(dropna=False).sort_index()"
   ]
  },
  {
   "cell_type": "code",
   "execution_count": 98,
   "metadata": {},
   "outputs": [
    {
     "name": "stdout",
     "output_type": "stream",
     "text": [
      "pub_rec_bankruptcies\n",
      "0.0    0.203782\n",
      "1.0    0.222588\n",
      "2.0    0.248449\n",
      "3.0    0.230022\n",
      "4.0    0.299145\n",
      "5.0    0.270588\n",
      "6.0    0.357143\n",
      "7.0    0.214286\n",
      "8.0    0.600000\n",
      "Name: loan_status, dtype: float64\n"
     ]
    },
    {
     "data": {
      "text/plain": [
       "Text(0, 0.5, 'Fraction of loan default')"
      ]
     },
     "execution_count": 98,
     "metadata": {},
     "output_type": "execute_result"
    },
    {
     "data": {
      "image/png": "[encoded data removed]",
      "text/plain": [
       "<Figure size 900x450 with 1 Axes>"
      ]
     },
     "metadata": {
      "needs_background": "light"
     },
     "output_type": "display_data"
    }
   ],
   "source": [
    "pub_record=data1.groupby('pub_rec_bankruptcies')\n",
    "pubic_record_x = pub_record\n",
    "plt.figure(figsize=(10,5),dpi=90)\n",
    "print(pub_record['loan_status'].value_counts(normalize=True).loc[:,'Charged Off'])\n",
    "(pub_record['loan_status'].value_counts(normalize=True).loc[:,'Charged Off']).plot(kind='bar')\n",
    "plt.ylabel('Fraction of loan default')"
   ]
  },
  {
   "cell_type": "markdown",
   "metadata": {},
   "source": [
    " From the graph it is can be concluded that the people with 8 public bankruptcy record have a high probability of dafaulting"
   ]
  },
  {
   "cell_type": "markdown",
   "metadata": {},
   "source": [
    "# application_type"
   ]
  },
  {
   "cell_type": "code",
   "execution_count": 99,
   "metadata": {},
   "outputs": [
    {
     "data": {
      "text/plain": [
       "Individual    811207\n",
       "Joint App       3779\n",
       "Name: application_type, dtype: int64"
      ]
     },
     "execution_count": 99,
     "metadata": {},
     "output_type": "execute_result"
    }
   ],
   "source": [
    "app_data = data1['application_type'].value_counts()\n",
    "app_data"
   ]
  },
  {
   "cell_type": "code",
   "execution_count": 100,
   "metadata": {},
   "outputs": [
    {
     "name": "stdout",
     "output_type": "stream",
     "text": [
      "application_type\n",
      "Individual    811207\n",
      "Joint App       3779\n",
      "Name: loan_status, dtype: int64\n"
     ]
    },
    {
     "data": {
      "text/plain": [
       "application_type\n",
       "Individual    0.206316\n",
       "Joint App     0.190262\n",
       "Name: loan_status, dtype: float64"
      ]
     },
     "execution_count": 100,
     "metadata": {},
     "output_type": "execute_result"
    }
   ],
   "source": [
    "app_data_grp= data1.groupby('application_type')\n",
    "app_data_T=app_data_grp['loan_status'].count()\n",
    "print(app_data_T)\n",
    "app_data_C=app_data_grp['loan_status'].value_counts(normalize=True).loc[:,'Charged Off']\n",
    "app_data_C\n"
   ]
  },
  {
   "cell_type": "code",
   "execution_count": 101,
   "metadata": {},
   "outputs": [
    {
     "data": {
      "text/plain": [
       "Text(0.5, 0, 'Sub_grade')"
      ]
     },
     "execution_count": 101,
     "metadata": {},
     "output_type": "execute_result"
    },
    {
     "data": {
      "image/png": "[encoded data removed]",
      "text/plain": [
       "<Figure size 1008x360 with 2 Axes>"
      ]
     },
     "metadata": {
      "needs_background": "light"
     },
     "output_type": "display_data"
    }
   ],
   "source": [
    "\n",
    "plt.figure(figsize=(14,5))\n",
    "plt.subplot(1,2,1)\n",
    "plt.bar(app_data.index,app_data,color=['red','blue'],width=0.3)\n",
    "plt.title(\"Sub_grade\")\n",
    "plt.ylabel('Count')\n",
    "plt.xlabel('Sub_grade')\n",
    "plt.subplot(1,2,2)\n",
    "plt.bar(app_data_C.index,app_data_C,color=['red','blue'],width=0.3)\n",
    "plt.title(\"Charged off Rate by Subgrage\")\n",
    "plt.ylabel('Fraction of Loan Charge Off')\n",
    "plt.xlabel('Sub_grade')"
   ]
  },
  {
   "cell_type": "code",
   "execution_count": 102,
   "metadata": {},
   "outputs": [
    {
     "data": {
      "text/plain": [
       "Index(['loan_amnt', 'term', 'int_rate', 'installment', 'sub_grade',\n",
       "       'emp_length', 'home_ownership', 'annual_inc', 'verification_status',\n",
       "       'issue_d', 'loan_status', 'purpose', 'title', 'zip_code', 'addr_state',\n",
       "       'dti', 'delinq_2yrs', 'earliest_cr_line', 'inq_last_6mths',\n",
       "       'mths_since_last_delinq', 'open_acc', 'pub_rec', 'revol_bal',\n",
       "       'revol_util', 'total_acc', 'application_type', 'delinq_amnt',\n",
       "       'mort_acc', 'pub_rec_bankruptcies', 'fico_score'],\n",
       "      dtype='object')"
      ]
     },
     "execution_count": 102,
     "metadata": {},
     "output_type": "execute_result"
    }
   ],
   "source": [
    "data1.columns"
   ]
  },
  {
   "cell_type": "code",
   "execution_count": 103,
   "metadata": {},
   "outputs": [],
   "source": [
    "analyse_data=data1"
   ]
  },
  {
   "cell_type": "code",
   "execution_count": 104,
   "metadata": {},
   "outputs": [
    {
     "name": "stderr",
     "output_type": "stream",
     "text": [
      "C:\\Users\\admin\\Anaconda3\\lib\\site-packages\\pandas\\core\\frame.py:3940: SettingWithCopyWarning: \n",
      "A value is trying to be set on a copy of a slice from a DataFrame\n",
      "\n",
      "See the caveats in the documentation: http://pandas.pydata.org/pandas-docs/stable/indexing.html#indexing-view-versus-copy\n",
      "  errors=errors)\n"
     ]
    }
   ],
   "source": [
    "analyse_data.drop([ 'verification_status','issue_d', 'title', 'zip_code',\n",
    "                   'delinq_2yrs', 'earliest_cr_line', 'inq_last_6mths',\n",
    "       'mths_since_last_delinq', 'revol_bal',\n",
    "       'revol_util','delinq_amnt'],axis=1,inplace=True)"
   ]
  },
  {
   "cell_type": "code",
   "execution_count": 105,
   "metadata": {},
   "outputs": [
    {
     "name": "stdout",
     "output_type": "stream",
     "text": [
      "Index(['loan_amnt', 'term', 'int_rate', 'installment', 'sub_grade',\n",
      "       'emp_length', 'home_ownership', 'annual_inc', 'loan_status', 'purpose',\n",
      "       'addr_state', 'dti', 'open_acc', 'pub_rec', 'total_acc',\n",
      "       'application_type', 'mort_acc', 'pub_rec_bankruptcies', 'fico_score'],\n",
      "      dtype='object')\n"
     ]
    }
   ],
   "source": [
    "print(analyse_data.columns)"
   ]
  },
  {
   "cell_type": "code",
   "execution_count": 106,
   "metadata": {},
   "outputs": [],
   "source": [
    "sample_analysis=analyse_data"
   ]
  },
  {
   "cell_type": "code",
   "execution_count": 107,
   "metadata": {},
   "outputs": [
    {
     "name": "stderr",
     "output_type": "stream",
     "text": [
      "C:\\Users\\admin\\Anaconda3\\lib\\site-packages\\pandas\\core\\frame.py:4034: SettingWithCopyWarning: \n",
      "A value is trying to be set on a copy of a slice from a DataFrame\n",
      "\n",
      "See the caveats in the documentation: http://pandas.pydata.org/pandas-docs/stable/indexing.html#indexing-view-versus-copy\n",
      "  downcast=downcast, **kwargs)\n"
     ]
    }
   ],
   "source": [
    "sample_analysis.fillna(method='ffill',inplace=True)"
   ]
  },
  {
   "cell_type": "code",
   "execution_count": 108,
   "metadata": {},
   "outputs": [],
   "source": [
    "sample_analysis.to_csv(\"D:\\project.csv\")"
   ]
  },
  {
   "cell_type": "code",
   "execution_count": 109,
   "metadata": {
    "scrolled": true
   },
   "outputs": [],
   "source": [
    "loan_status=sample_analysis['loan_status']\n",
    "sample_analysis.drop('loan_status',axis=1,inplace=True)\n"
   ]
  },
  {
   "cell_type": "code",
   "execution_count": 110,
   "metadata": {},
   "outputs": [
    {
     "name": "stdout",
     "output_type": "stream",
     "text": [
      "2\n"
     ]
    },
    {
     "data": {
      "text/plain": [
       "loan_amnt               1\n",
       "term                    1\n",
       "int_rate                1\n",
       "installment             1\n",
       "sub_grade               1\n",
       "emp_length              1\n",
       "home_ownership          1\n",
       "annual_inc              1\n",
       "purpose                 1\n",
       "addr_state              1\n",
       "dti                     1\n",
       "open_acc                1\n",
       "pub_rec                 1\n",
       "total_acc               1\n",
       "application_type        1\n",
       "mort_acc                1\n",
       "pub_rec_bankruptcies    1\n",
       "fico_score              1\n",
       "dtype: int64"
      ]
     },
     "execution_count": 110,
     "metadata": {},
     "output_type": "execute_result"
    }
   ],
   "source": [
    "sample_analysis.head()\n",
    "print(sample_analysis['application_type'].nunique())\n",
    "sample_analysis.isna().nunique()"
   ]
  },
  {
   "cell_type": "code",
   "execution_count": 111,
   "metadata": {},
   "outputs": [],
   "source": [
    "x = pd.get_dummies(sample_analysis, columns=['sub_grade', 'home_ownership', 'purpose', 'addr_state', 'application_type'],drop_first=True)"
   ]
  },
  {
   "cell_type": "code",
   "execution_count": 112,
   "metadata": {},
   "outputs": [
    {
     "data": {
      "text/html": [
       "<div>\n",
       "<style scoped>\n",
       "    .dataframe tbody tr th:only-of-type {\n",
       "        vertical-align: middle;\n",
       "    }\n",
       "\n",
       "    .dataframe tbody tr th {\n",
       "        vertical-align: top;\n",
       "    }\n",
       "\n",
       "    .dataframe thead th {\n",
       "        text-align: right;\n",
       "    }\n",
       "</style>\n",
       "<table border=\"1\" class=\"dataframe\">\n",
       "  <thead>\n",
       "    <tr style=\"text-align: right;\">\n",
       "      <th></th>\n",
       "      <th>loan_amnt</th>\n",
       "      <th>term</th>\n",
       "      <th>int_rate</th>\n",
       "      <th>installment</th>\n",
       "      <th>emp_length</th>\n",
       "      <th>annual_inc</th>\n",
       "      <th>dti</th>\n",
       "      <th>open_acc</th>\n",
       "      <th>pub_rec</th>\n",
       "      <th>total_acc</th>\n",
       "      <th>...</th>\n",
       "      <th>addr_state_TN</th>\n",
       "      <th>addr_state_TX</th>\n",
       "      <th>addr_state_UT</th>\n",
       "      <th>addr_state_VA</th>\n",
       "      <th>addr_state_VT</th>\n",
       "      <th>addr_state_WA</th>\n",
       "      <th>addr_state_WI</th>\n",
       "      <th>addr_state_WV</th>\n",
       "      <th>addr_state_WY</th>\n",
       "      <th>application_type_Joint App</th>\n",
       "    </tr>\n",
       "  </thead>\n",
       "  <tbody>\n",
       "    <tr>\n",
       "      <th>0</th>\n",
       "      <td>15000.0</td>\n",
       "      <td>60</td>\n",
       "      <td>12.39</td>\n",
       "      <td>336.64</td>\n",
       "      <td>10.0</td>\n",
       "      <td>78000.0</td>\n",
       "      <td>12.03</td>\n",
       "      <td>6.0</td>\n",
       "      <td>0.0</td>\n",
       "      <td>17.0</td>\n",
       "      <td>...</td>\n",
       "      <td>0</td>\n",
       "      <td>0</td>\n",
       "      <td>0</td>\n",
       "      <td>1</td>\n",
       "      <td>0</td>\n",
       "      <td>0</td>\n",
       "      <td>0</td>\n",
       "      <td>0</td>\n",
       "      <td>0</td>\n",
       "      <td>0</td>\n",
       "    </tr>\n",
       "    <tr>\n",
       "      <th>1</th>\n",
       "      <td>10400.0</td>\n",
       "      <td>36</td>\n",
       "      <td>6.99</td>\n",
       "      <td>321.08</td>\n",
       "      <td>8.0</td>\n",
       "      <td>58000.0</td>\n",
       "      <td>14.92</td>\n",
       "      <td>17.0</td>\n",
       "      <td>0.0</td>\n",
       "      <td>36.0</td>\n",
       "      <td>...</td>\n",
       "      <td>0</td>\n",
       "      <td>0</td>\n",
       "      <td>0</td>\n",
       "      <td>0</td>\n",
       "      <td>0</td>\n",
       "      <td>0</td>\n",
       "      <td>0</td>\n",
       "      <td>0</td>\n",
       "      <td>0</td>\n",
       "      <td>0</td>\n",
       "    </tr>\n",
       "    <tr>\n",
       "      <th>2</th>\n",
       "      <td>21425.0</td>\n",
       "      <td>60</td>\n",
       "      <td>15.59</td>\n",
       "      <td>516.36</td>\n",
       "      <td>6.0</td>\n",
       "      <td>63800.0</td>\n",
       "      <td>18.49</td>\n",
       "      <td>10.0</td>\n",
       "      <td>0.0</td>\n",
       "      <td>35.0</td>\n",
       "      <td>...</td>\n",
       "      <td>0</td>\n",
       "      <td>0</td>\n",
       "      <td>0</td>\n",
       "      <td>0</td>\n",
       "      <td>0</td>\n",
       "      <td>0</td>\n",
       "      <td>0</td>\n",
       "      <td>0</td>\n",
       "      <td>0</td>\n",
       "      <td>0</td>\n",
       "    </tr>\n",
       "    <tr>\n",
       "      <th>4</th>\n",
       "      <td>7650.0</td>\n",
       "      <td>36</td>\n",
       "      <td>13.66</td>\n",
       "      <td>260.20</td>\n",
       "      <td>0.0</td>\n",
       "      <td>50000.0</td>\n",
       "      <td>34.81</td>\n",
       "      <td>11.0</td>\n",
       "      <td>0.0</td>\n",
       "      <td>20.0</td>\n",
       "      <td>...</td>\n",
       "      <td>0</td>\n",
       "      <td>0</td>\n",
       "      <td>0</td>\n",
       "      <td>0</td>\n",
       "      <td>0</td>\n",
       "      <td>0</td>\n",
       "      <td>0</td>\n",
       "      <td>0</td>\n",
       "      <td>0</td>\n",
       "      <td>0</td>\n",
       "    </tr>\n",
       "    <tr>\n",
       "      <th>5</th>\n",
       "      <td>9600.0</td>\n",
       "      <td>36</td>\n",
       "      <td>13.66</td>\n",
       "      <td>326.53</td>\n",
       "      <td>10.0</td>\n",
       "      <td>69000.0</td>\n",
       "      <td>25.81</td>\n",
       "      <td>12.0</td>\n",
       "      <td>0.0</td>\n",
       "      <td>44.0</td>\n",
       "      <td>...</td>\n",
       "      <td>0</td>\n",
       "      <td>0</td>\n",
       "      <td>0</td>\n",
       "      <td>0</td>\n",
       "      <td>0</td>\n",
       "      <td>0</td>\n",
       "      <td>0</td>\n",
       "      <td>0</td>\n",
       "      <td>0</td>\n",
       "      <td>0</td>\n",
       "    </tr>\n",
       "  </tbody>\n",
       "</table>\n",
       "<p>5 rows × 114 columns</p>\n",
       "</div>"
      ],
      "text/plain": [
       "   loan_amnt term  int_rate  installment  emp_length  annual_inc    dti  \\\n",
       "0    15000.0   60     12.39       336.64        10.0     78000.0  12.03   \n",
       "1    10400.0   36      6.99       321.08         8.0     58000.0  14.92   \n",
       "2    21425.0   60     15.59       516.36         6.0     63800.0  18.49   \n",
       "4     7650.0   36     13.66       260.20         0.0     50000.0  34.81   \n",
       "5     9600.0   36     13.66       326.53        10.0     69000.0  25.81   \n",
       "\n",
       "   open_acc  pub_rec  total_acc  ...  addr_state_TN  addr_state_TX  \\\n",
       "0       6.0      0.0       17.0  ...              0              0   \n",
       "1      17.0      0.0       36.0  ...              0              0   \n",
       "2      10.0      0.0       35.0  ...              0              0   \n",
       "4      11.0      0.0       20.0  ...              0              0   \n",
       "5      12.0      0.0       44.0  ...              0              0   \n",
       "\n",
       "   addr_state_UT  addr_state_VA  addr_state_VT  addr_state_WA  addr_state_WI  \\\n",
       "0              0              1              0              0              0   \n",
       "1              0              0              0              0              0   \n",
       "2              0              0              0              0              0   \n",
       "4              0              0              0              0              0   \n",
       "5              0              0              0              0              0   \n",
       "\n",
       "   addr_state_WV  addr_state_WY  application_type_Joint App  \n",
       "0              0              0                           0  \n",
       "1              0              0                           0  \n",
       "2              0              0                           0  \n",
       "4              0              0                           0  \n",
       "5              0              0                           0  \n",
       "\n",
       "[5 rows x 114 columns]"
      ]
     },
     "execution_count": 112,
     "metadata": {},
     "output_type": "execute_result"
    }
   ],
   "source": [
    "x.head()\n"
   ]
  },
  {
   "cell_type": "code",
   "execution_count": 113,
   "metadata": {},
   "outputs": [],
   "source": [
    " y=pd.get_dummies(loan_status, columns=['loan_status'])"
   ]
  },
  {
   "cell_type": "code",
   "execution_count": 114,
   "metadata": {},
   "outputs": [
    {
     "data": {
      "text/html": [
       "<div>\n",
       "<style scoped>\n",
       "    .dataframe tbody tr th:only-of-type {\n",
       "        vertical-align: middle;\n",
       "    }\n",
       "\n",
       "    .dataframe tbody tr th {\n",
       "        vertical-align: top;\n",
       "    }\n",
       "\n",
       "    .dataframe thead th {\n",
       "        text-align: right;\n",
       "    }\n",
       "</style>\n",
       "<table border=\"1\" class=\"dataframe\">\n",
       "  <thead>\n",
       "    <tr style=\"text-align: right;\">\n",
       "      <th></th>\n",
       "      <th>Charged Off</th>\n",
       "      <th>Fully Paid</th>\n",
       "    </tr>\n",
       "  </thead>\n",
       "  <tbody>\n",
       "    <tr>\n",
       "      <th>0</th>\n",
       "      <td>0</td>\n",
       "      <td>1</td>\n",
       "    </tr>\n",
       "    <tr>\n",
       "      <th>1</th>\n",
       "      <td>1</td>\n",
       "      <td>0</td>\n",
       "    </tr>\n",
       "    <tr>\n",
       "      <th>2</th>\n",
       "      <td>0</td>\n",
       "      <td>1</td>\n",
       "    </tr>\n",
       "    <tr>\n",
       "      <th>4</th>\n",
       "      <td>1</td>\n",
       "      <td>0</td>\n",
       "    </tr>\n",
       "    <tr>\n",
       "      <th>5</th>\n",
       "      <td>0</td>\n",
       "      <td>1</td>\n",
       "    </tr>\n",
       "    <tr>\n",
       "      <th>6</th>\n",
       "      <td>0</td>\n",
       "      <td>1</td>\n",
       "    </tr>\n",
       "    <tr>\n",
       "      <th>7</th>\n",
       "      <td>0</td>\n",
       "      <td>1</td>\n",
       "    </tr>\n",
       "    <tr>\n",
       "      <th>8</th>\n",
       "      <td>1</td>\n",
       "      <td>0</td>\n",
       "    </tr>\n",
       "    <tr>\n",
       "      <th>9</th>\n",
       "      <td>0</td>\n",
       "      <td>1</td>\n",
       "    </tr>\n",
       "    <tr>\n",
       "      <th>10</th>\n",
       "      <td>1</td>\n",
       "      <td>0</td>\n",
       "    </tr>\n",
       "  </tbody>\n",
       "</table>\n",
       "</div>"
      ],
      "text/plain": [
       "    Charged Off  Fully Paid\n",
       "0             0           1\n",
       "1             1           0\n",
       "2             0           1\n",
       "4             1           0\n",
       "5             0           1\n",
       "6             0           1\n",
       "7             0           1\n",
       "8             1           0\n",
       "9             0           1\n",
       "10            1           0"
      ]
     },
     "execution_count": 114,
     "metadata": {},
     "output_type": "execute_result"
    }
   ],
   "source": [
    "y.head(10)"
   ]
  },
  {
   "cell_type": "code",
   "execution_count": 115,
   "metadata": {},
   "outputs": [],
   "source": [
    "y1=pd.get_dummies(loan_status, columns=['loan_status'],drop_first=True)"
   ]
  },
  {
   "cell_type": "code",
   "execution_count": 116,
   "metadata": {},
   "outputs": [
    {
     "data": {
      "text/html": [
       "<div>\n",
       "<style scoped>\n",
       "    .dataframe tbody tr th:only-of-type {\n",
       "        vertical-align: middle;\n",
       "    }\n",
       "\n",
       "    .dataframe tbody tr th {\n",
       "        vertical-align: top;\n",
       "    }\n",
       "\n",
       "    .dataframe thead th {\n",
       "        text-align: right;\n",
       "    }\n",
       "</style>\n",
       "<table border=\"1\" class=\"dataframe\">\n",
       "  <thead>\n",
       "    <tr style=\"text-align: right;\">\n",
       "      <th></th>\n",
       "      <th>Fully Paid</th>\n",
       "    </tr>\n",
       "  </thead>\n",
       "  <tbody>\n",
       "    <tr>\n",
       "      <th>0</th>\n",
       "      <td>1</td>\n",
       "    </tr>\n",
       "    <tr>\n",
       "      <th>1</th>\n",
       "      <td>0</td>\n",
       "    </tr>\n",
       "    <tr>\n",
       "      <th>2</th>\n",
       "      <td>1</td>\n",
       "    </tr>\n",
       "    <tr>\n",
       "      <th>4</th>\n",
       "      <td>0</td>\n",
       "    </tr>\n",
       "    <tr>\n",
       "      <th>5</th>\n",
       "      <td>1</td>\n",
       "    </tr>\n",
       "    <tr>\n",
       "      <th>6</th>\n",
       "      <td>1</td>\n",
       "    </tr>\n",
       "    <tr>\n",
       "      <th>7</th>\n",
       "      <td>1</td>\n",
       "    </tr>\n",
       "    <tr>\n",
       "      <th>8</th>\n",
       "      <td>0</td>\n",
       "    </tr>\n",
       "    <tr>\n",
       "      <th>9</th>\n",
       "      <td>1</td>\n",
       "    </tr>\n",
       "    <tr>\n",
       "      <th>10</th>\n",
       "      <td>0</td>\n",
       "    </tr>\n",
       "  </tbody>\n",
       "</table>\n",
       "</div>"
      ],
      "text/plain": [
       "    Fully Paid\n",
       "0            1\n",
       "1            0\n",
       "2            1\n",
       "4            0\n",
       "5            1\n",
       "6            1\n",
       "7            1\n",
       "8            0\n",
       "9            1\n",
       "10           0"
      ]
     },
     "execution_count": 116,
     "metadata": {},
     "output_type": "execute_result"
    }
   ],
   "source": [
    "y1.head(10)"
   ]
  },
  {
   "cell_type": "code",
   "execution_count": 117,
   "metadata": {},
   "outputs": [],
   "source": [
    "from sklearn.metrics import accuracy_score, f1_score,precision_score,recall_score,fbeta_score\n",
    "from sklearn.tree import DecisionTreeClassifier\n",
    "from sklearn.model_selection import train_test_split"
   ]
  },
  {
   "cell_type": "code",
   "execution_count": 118,
   "metadata": {},
   "outputs": [],
   "source": [
    "xtrain,xtest,ytrain,ytest=train_test_split(x,y1,test_size=0.2,random_state=42)"
   ]
  },
  {
   "cell_type": "code",
   "execution_count": 119,
   "metadata": {},
   "outputs": [
    {
     "data": {
      "text/plain": [
       "DecisionTreeClassifier(class_weight=None, criterion='gini', max_depth=None,\n",
       "                       max_features=None, max_leaf_nodes=None,\n",
       "                       min_impurity_decrease=0.0, min_impurity_split=None,\n",
       "                       min_samples_leaf=1, min_samples_split=2,\n",
       "                       min_weight_fraction_leaf=0.0, presort=False,\n",
       "                       random_state=None, splitter='best')"
      ]
     },
     "execution_count": 119,
     "metadata": {},
     "output_type": "execute_result"
    }
   ],
   "source": [
    "dtc=DecisionTreeClassifier()\n",
    "dtc.fit(xtrain,ytrain)"
   ]
  },
  {
   "cell_type": "code",
   "execution_count": 120,
   "metadata": {},
   "outputs": [
    {
     "data": {
      "text/plain": [
       "array([0, 1, 1, ..., 1, 1, 1], dtype=uint8)"
      ]
     },
     "execution_count": 120,
     "metadata": {},
     "output_type": "execute_result"
    }
   ],
   "source": [
    "y_pred = dtc.predict(xtest)\n",
    "y_pred"
   ]
  },
  {
   "cell_type": "code",
   "execution_count": 121,
   "metadata": {},
   "outputs": [
    {
     "name": "stdout",
     "output_type": "stream",
     "text": [
      "Accuracy:  0.7011497073583725\n",
      "f1_score:  0.8104886399004047\n",
      "Precision:  0.8061355580664634\n",
      "Recall:  0.8148889897204011\n",
      "F-Beta Score:  0.8131231284678963\n"
     ]
    }
   ],
   "source": [
    "print(\"Accuracy: \",accuracy_score(y_pred,ytest))\n",
    "print(\"f1_score: \",f1_score(y_pred,ytest))\n",
    "print(\"Precision: \",precision_score(y_pred,ytest))\n",
    "print(\"Recall: \",recall_score(y_pred,ytest))\n",
    "print(\"F-Beta Score: \",fbeta_score(ytest, y_pred, beta=0.5))"
   ]
  },
  {
   "cell_type": "code",
   "execution_count": 122,
   "metadata": {},
   "outputs": [],
   "source": [
    "from sklearn.linear_model import LogisticRegression"
   ]
  },
  {
   "cell_type": "code",
   "execution_count": 123,
   "metadata": {},
   "outputs": [],
   "source": [
    "Logic=LogisticRegression()"
   ]
  },
  {
   "cell_type": "code",
   "execution_count": 124,
   "metadata": {},
   "outputs": [
    {
     "name": "stderr",
     "output_type": "stream",
     "text": [
      "C:\\Users\\admin\\Anaconda3\\lib\\site-packages\\sklearn\\linear_model\\logistic.py:432: FutureWarning: Default solver will be changed to 'lbfgs' in 0.22. Specify a solver to silence this warning.\n",
      "  FutureWarning)\n",
      "C:\\Users\\admin\\Anaconda3\\lib\\site-packages\\sklearn\\utils\\validation.py:724: DataConversionWarning: A column-vector y was passed when a 1d array was expected. Please change the shape of y to (n_samples, ), for example using ravel().\n",
      "  y = column_or_1d(y, warn=True)\n"
     ]
    },
    {
     "data": {
      "text/plain": [
       "LogisticRegression(C=1.0, class_weight=None, dual=False, fit_intercept=True,\n",
       "                   intercept_scaling=1, l1_ratio=None, max_iter=100,\n",
       "                   multi_class='warn', n_jobs=None, penalty='l2',\n",
       "                   random_state=None, solver='warn', tol=0.0001, verbose=0,\n",
       "                   warm_start=False)"
      ]
     },
     "execution_count": 124,
     "metadata": {},
     "output_type": "execute_result"
    }
   ],
   "source": [
    "Logic.fit(xtrain,ytrain)"
   ]
  },
  {
   "cell_type": "code",
   "execution_count": 125,
   "metadata": {},
   "outputs": [
    {
     "data": {
      "text/plain": [
       "array([0, 1], dtype=uint8)"
      ]
     },
     "execution_count": 125,
     "metadata": {},
     "output_type": "execute_result"
    }
   ],
   "source": [
    "logic_pred = Logic.predict(xtest)\n",
    "np.unique(logic_pred)"
   ]
  },
  {
   "cell_type": "code",
   "execution_count": 126,
   "metadata": {},
   "outputs": [
    {
     "name": "stdout",
     "output_type": "stream",
     "text": [
      "Accuracy:  0.7937213953545442\n",
      "f1_score:  0.8842872531171169\n",
      "Precision:  0.9942808054854737\n",
      "Recall:  0.796205975495634\n",
      "F-Beta Score:  0.9471554005735643\n"
     ]
    }
   ],
   "source": [
    "print(\"Accuracy: \",accuracy_score(logic_pred,ytest))\n",
    "print(\"f1_score: \",f1_score(logic_pred,ytest))\n",
    "print(\"Precision: \",precision_score(logic_pred,ytest))\n",
    "print(\"Recall: \",recall_score(logic_pred,ytest))\n",
    "print(\"F-Beta Score: \",fbeta_score(logic_pred,ytest, beta=0.5))"
   ]
  },
  {
   "cell_type": "code",
   "execution_count": 127,
   "metadata": {},
   "outputs": [],
   "source": [
    "from sklearn.naive_bayes import GaussianNB"
   ]
  },
  {
   "cell_type": "code",
   "execution_count": 128,
   "metadata": {},
   "outputs": [],
   "source": [
    "naive=GaussianNB()"
   ]
  },
  {
   "cell_type": "code",
   "execution_count": 129,
   "metadata": {},
   "outputs": [
    {
     "name": "stderr",
     "output_type": "stream",
     "text": [
      "C:\\Users\\admin\\Anaconda3\\lib\\site-packages\\sklearn\\utils\\validation.py:724: DataConversionWarning: A column-vector y was passed when a 1d array was expected. Please change the shape of y to (n_samples, ), for example using ravel().\n",
      "  y = column_or_1d(y, warn=True)\n"
     ]
    },
    {
     "data": {
      "text/plain": [
       "GaussianNB(priors=None, var_smoothing=1e-09)"
      ]
     },
     "execution_count": 129,
     "metadata": {},
     "output_type": "execute_result"
    }
   ],
   "source": [
    "naive.fit(xtrain,ytrain)"
   ]
  },
  {
   "cell_type": "code",
   "execution_count": 130,
   "metadata": {},
   "outputs": [],
   "source": [
    "naive_pred = naive.predict(xtest)"
   ]
  },
  {
   "cell_type": "code",
   "execution_count": 131,
   "metadata": {},
   "outputs": [
    {
     "name": "stdout",
     "output_type": "stream",
     "text": [
      "Accuracy:  0.7714879937177144\n",
      "f1_score:  0.8618757486195733\n",
      "Precision:  0.8993452721841286\n",
      "Recall:  0.8274035414990495\n",
      "F-Beta Score:  0.8839731935707168\n"
     ]
    }
   ],
   "source": [
    "print(\"Accuracy: \",accuracy_score(naive_pred,ytest))\n",
    "print(\"f1_score: \",f1_score(naive_pred,ytest))\n",
    "print(\"Precision: \",precision_score(naive_pred,ytest))\n",
    "print(\"Recall: \",recall_score(naive_pred,ytest))\n",
    "print(\"F-Beta Score: \",fbeta_score(naive_pred,ytest, beta=0.5))"
   ]
  },
  {
   "cell_type": "code",
   "execution_count": 132,
   "metadata": {},
   "outputs": [],
   "source": [
    "current_data = data.loc[data['loan_status'].isin(['Current'])]"
   ]
  },
  {
   "cell_type": "code",
   "execution_count": 133,
   "metadata": {},
   "outputs": [
    {
     "data": {
      "text/html": [
       "<div>\n",
       "<style scoped>\n",
       "    .dataframe tbody tr th:only-of-type {\n",
       "        vertical-align: middle;\n",
       "    }\n",
       "\n",
       "    .dataframe tbody tr th {\n",
       "        vertical-align: top;\n",
       "    }\n",
       "\n",
       "    .dataframe thead th {\n",
       "        text-align: right;\n",
       "    }\n",
       "</style>\n",
       "<table border=\"1\" class=\"dataframe\">\n",
       "  <thead>\n",
       "    <tr style=\"text-align: right;\">\n",
       "      <th></th>\n",
       "      <th>id</th>\n",
       "      <th>member_id</th>\n",
       "      <th>loan_amnt</th>\n",
       "      <th>funded_amnt</th>\n",
       "      <th>funded_amnt_inv</th>\n",
       "      <th>term</th>\n",
       "      <th>int_rate</th>\n",
       "      <th>installment</th>\n",
       "      <th>grade</th>\n",
       "      <th>sub_grade</th>\n",
       "      <th>...</th>\n",
       "      <th>hardship_payoff_balance_amount</th>\n",
       "      <th>hardship_last_payment_amount</th>\n",
       "      <th>disbursement_method</th>\n",
       "      <th>debt_settlement_flag</th>\n",
       "      <th>debt_settlement_flag_date</th>\n",
       "      <th>settlement_status</th>\n",
       "      <th>settlement_date</th>\n",
       "      <th>settlement_amount</th>\n",
       "      <th>settlement_percentage</th>\n",
       "      <th>settlement_term</th>\n",
       "    </tr>\n",
       "  </thead>\n",
       "  <tbody>\n",
       "    <tr>\n",
       "      <th>3</th>\n",
       "      <td>37612354</td>\n",
       "      <td>NaN</td>\n",
       "      <td>12800.0</td>\n",
       "      <td>12800.0</td>\n",
       "      <td>12800.0</td>\n",
       "      <td>60 months</td>\n",
       "      <td>17.14</td>\n",
       "      <td>319.08</td>\n",
       "      <td>D</td>\n",
       "      <td>D4</td>\n",
       "      <td>...</td>\n",
       "      <td>NaN</td>\n",
       "      <td>NaN</td>\n",
       "      <td>Cash</td>\n",
       "      <td>N</td>\n",
       "      <td>NaN</td>\n",
       "      <td>NaN</td>\n",
       "      <td>NaN</td>\n",
       "      <td>NaN</td>\n",
       "      <td>NaN</td>\n",
       "      <td>NaN</td>\n",
       "    </tr>\n",
       "    <tr>\n",
       "      <th>13</th>\n",
       "      <td>37712169</td>\n",
       "      <td>NaN</td>\n",
       "      <td>21075.0</td>\n",
       "      <td>21075.0</td>\n",
       "      <td>21075.0</td>\n",
       "      <td>60 months</td>\n",
       "      <td>21.99</td>\n",
       "      <td>581.95</td>\n",
       "      <td>E</td>\n",
       "      <td>E5</td>\n",
       "      <td>...</td>\n",
       "      <td>NaN</td>\n",
       "      <td>NaN</td>\n",
       "      <td>Cash</td>\n",
       "      <td>N</td>\n",
       "      <td>NaN</td>\n",
       "      <td>NaN</td>\n",
       "      <td>NaN</td>\n",
       "      <td>NaN</td>\n",
       "      <td>NaN</td>\n",
       "      <td>NaN</td>\n",
       "    </tr>\n",
       "    <tr>\n",
       "      <th>19</th>\n",
       "      <td>37752109</td>\n",
       "      <td>NaN</td>\n",
       "      <td>13550.0</td>\n",
       "      <td>13550.0</td>\n",
       "      <td>13550.0</td>\n",
       "      <td>60 months</td>\n",
       "      <td>19.99</td>\n",
       "      <td>358.92</td>\n",
       "      <td>E</td>\n",
       "      <td>E3</td>\n",
       "      <td>...</td>\n",
       "      <td>NaN</td>\n",
       "      <td>NaN</td>\n",
       "      <td>Cash</td>\n",
       "      <td>N</td>\n",
       "      <td>NaN</td>\n",
       "      <td>NaN</td>\n",
       "      <td>NaN</td>\n",
       "      <td>NaN</td>\n",
       "      <td>NaN</td>\n",
       "      <td>NaN</td>\n",
       "    </tr>\n",
       "    <tr>\n",
       "      <th>20</th>\n",
       "      <td>36441833</td>\n",
       "      <td>NaN</td>\n",
       "      <td>7200.0</td>\n",
       "      <td>7200.0</td>\n",
       "      <td>7200.0</td>\n",
       "      <td>36 months</td>\n",
       "      <td>12.39</td>\n",
       "      <td>240.49</td>\n",
       "      <td>C</td>\n",
       "      <td>C1</td>\n",
       "      <td>...</td>\n",
       "      <td>NaN</td>\n",
       "      <td>NaN</td>\n",
       "      <td>Cash</td>\n",
       "      <td>N</td>\n",
       "      <td>NaN</td>\n",
       "      <td>NaN</td>\n",
       "      <td>NaN</td>\n",
       "      <td>NaN</td>\n",
       "      <td>NaN</td>\n",
       "      <td>NaN</td>\n",
       "    </tr>\n",
       "    <tr>\n",
       "      <th>21</th>\n",
       "      <td>37611006</td>\n",
       "      <td>NaN</td>\n",
       "      <td>14000.0</td>\n",
       "      <td>14000.0</td>\n",
       "      <td>14000.0</td>\n",
       "      <td>36 months</td>\n",
       "      <td>10.49</td>\n",
       "      <td>454.97</td>\n",
       "      <td>B</td>\n",
       "      <td>B3</td>\n",
       "      <td>...</td>\n",
       "      <td>NaN</td>\n",
       "      <td>NaN</td>\n",
       "      <td>Cash</td>\n",
       "      <td>N</td>\n",
       "      <td>NaN</td>\n",
       "      <td>NaN</td>\n",
       "      <td>NaN</td>\n",
       "      <td>NaN</td>\n",
       "      <td>NaN</td>\n",
       "      <td>NaN</td>\n",
       "    </tr>\n",
       "  </tbody>\n",
       "</table>\n",
       "<p>5 rows × 149 columns</p>\n",
       "</div>"
      ],
      "text/plain": [
       "          id  member_id  loan_amnt  funded_amnt  funded_amnt_inv        term  \\\n",
       "3   37612354        NaN    12800.0      12800.0          12800.0   60 months   \n",
       "13  37712169        NaN    21075.0      21075.0          21075.0   60 months   \n",
       "19  37752109        NaN    13550.0      13550.0          13550.0   60 months   \n",
       "20  36441833        NaN     7200.0       7200.0           7200.0   36 months   \n",
       "21  37611006        NaN    14000.0      14000.0          14000.0   36 months   \n",
       "\n",
       "    int_rate  installment grade sub_grade  ... hardship_payoff_balance_amount  \\\n",
       "3      17.14       319.08     D        D4  ...                            NaN   \n",
       "13     21.99       581.95     E        E5  ...                            NaN   \n",
       "19     19.99       358.92     E        E3  ...                            NaN   \n",
       "20     12.39       240.49     C        C1  ...                            NaN   \n",
       "21     10.49       454.97     B        B3  ...                            NaN   \n",
       "\n",
       "   hardship_last_payment_amount disbursement_method  debt_settlement_flag  \\\n",
       "3                           NaN                Cash                     N   \n",
       "13                          NaN                Cash                     N   \n",
       "19                          NaN                Cash                     N   \n",
       "20                          NaN                Cash                     N   \n",
       "21                          NaN                Cash                     N   \n",
       "\n",
       "   debt_settlement_flag_date settlement_status settlement_date  \\\n",
       "3                        NaN               NaN             NaN   \n",
       "13                       NaN               NaN             NaN   \n",
       "19                       NaN               NaN             NaN   \n",
       "20                       NaN               NaN             NaN   \n",
       "21                       NaN               NaN             NaN   \n",
       "\n",
       "   settlement_amount settlement_percentage settlement_term  \n",
       "3                NaN                   NaN             NaN  \n",
       "13               NaN                   NaN             NaN  \n",
       "19               NaN                   NaN             NaN  \n",
       "20               NaN                   NaN             NaN  \n",
       "21               NaN                   NaN             NaN  \n",
       "\n",
       "[5 rows x 149 columns]"
      ]
     },
     "execution_count": 133,
     "metadata": {},
     "output_type": "execute_result"
    }
   ],
   "source": [
    "current_data.head()"
   ]
  },
  {
   "cell_type": "code",
   "execution_count": 134,
   "metadata": {},
   "outputs": [
    {
     "data": {
      "text/plain": [
       "Index(['id', 'member_id', 'loan_amnt', 'funded_amnt', 'funded_amnt_inv',\n",
       "       'term', 'int_rate', 'installment', 'grade', 'sub_grade',\n",
       "       ...\n",
       "       'hardship_payoff_balance_amount', 'hardship_last_payment_amount',\n",
       "       'disbursement_method', 'debt_settlement_flag',\n",
       "       'debt_settlement_flag_date', 'settlement_status', 'settlement_date',\n",
       "       'settlement_amount', 'settlement_percentage', 'settlement_term'],\n",
       "      dtype='object', length=149)"
      ]
     },
     "execution_count": 134,
     "metadata": {},
     "output_type": "execute_result"
    }
   ],
   "source": [
    "current_data.columns"
   ]
  },
  {
   "cell_type": "code",
   "execution_count": 135,
   "metadata": {},
   "outputs": [
    {
     "name": "stderr",
     "output_type": "stream",
     "text": [
      "C:\\Users\\admin\\Anaconda3\\lib\\site-packages\\ipykernel_launcher.py:1: SettingWithCopyWarning: \n",
      "A value is trying to be set on a copy of a slice from a DataFrame.\n",
      "Try using .loc[row_indexer,col_indexer] = value instead\n",
      "\n",
      "See the caveats in the documentation: http://pandas.pydata.org/pandas-docs/stable/indexing.html#indexing-view-versus-copy\n",
      "  \"\"\"Entry point for launching an IPython kernel.\n"
     ]
    }
   ],
   "source": [
    "current_data['fico_score'] = 0.5*current_data['fico_range_high'] + 0.5 * current_data['fico_range_low']"
   ]
  },
  {
   "cell_type": "code",
   "execution_count": 136,
   "metadata": {},
   "outputs": [],
   "source": [
    "current_data1 = current_data.loc[:,['loan_amnt', 'term', 'int_rate', 'installment', 'sub_grade',\n",
    "       'emp_length', 'home_ownership', 'annual_inc', 'loan_status', 'purpose',\n",
    "       'addr_state', 'dti', 'open_acc', 'pub_rec', 'total_acc',\n",
    "       'application_type', 'mort_acc', 'pub_rec_bankruptcies', 'fico_score']]"
   ]
  },
  {
   "cell_type": "code",
   "execution_count": 137,
   "metadata": {},
   "outputs": [],
   "source": [
    "#current_data1_x = pd.get_dummies(current_data1, columns=['sub_grade', 'home_ownership', 'purpose', 'addr_state', 'application_type'],drop_first=True)"
   ]
  },
  {
   "cell_type": "code",
   "execution_count": 138,
   "metadata": {},
   "outputs": [],
   "source": [
    "current_data1.drop('loan_status',inplace=True,axis=1)"
   ]
  },
  {
   "cell_type": "code",
   "execution_count": 139,
   "metadata": {
    "scrolled": true
   },
   "outputs": [],
   "source": [
    "#"
   ]
  },
  {
   "cell_type": "code",
   "execution_count": 140,
   "metadata": {},
   "outputs": [],
   "source": [
    "current_data1['term']=current_data1.term.str.split(\" \").str[1]"
   ]
  },
  {
   "cell_type": "code",
   "execution_count": 141,
   "metadata": {},
   "outputs": [],
   "source": [
    "current_data1['emp_length'].replace(to_replace='10+ years',value='10 years',inplace=True)\n",
    "current_data1['emp_length'].replace(to_replace='< 1 year',value='0 years',inplace=True)"
   ]
  },
  {
   "cell_type": "code",
   "execution_count": 142,
   "metadata": {},
   "outputs": [
    {
     "data": {
      "text/plain": [
       "3     10\n",
       "13    10\n",
       "19     5\n",
       "20     5\n",
       "21    10\n",
       "30     3\n",
       "35     7\n",
       "39     3\n",
       "40    10\n",
       "43    10\n",
       "Name: emp_length, dtype: object"
      ]
     },
     "execution_count": 142,
     "metadata": {},
     "output_type": "execute_result"
    }
   ],
   "source": [
    "current_data1['emp_length']=current_data1.emp_length.str.split(\" \").str[0]\n",
    "current_data1['emp_length'].head(10)"
   ]
  },
  {
   "cell_type": "code",
   "execution_count": 143,
   "metadata": {},
   "outputs": [],
   "source": [
    "#current_data1['emp_length'].replace(to_replace='10+ years',value='10 years',inplace=True)\n",
    "#current_data1['emp_length'].replace(to_replace='< 1 year',value='0 years',inplace=True)"
   ]
  },
  {
   "cell_type": "code",
   "execution_count": 144,
   "metadata": {},
   "outputs": [],
   "source": [
    "def emp_length(s):\n",
    "    if pd.isnull(s):\n",
    "        return s\n",
    "    else:\n",
    "        return np.int8(s.split()[0])\n"
   ]
  },
  {
   "cell_type": "code",
   "execution_count": 145,
   "metadata": {},
   "outputs": [],
   "source": [
    "current_data1['emp_length']=current_data1['emp_length'].apply(emp_length)"
   ]
  },
  {
   "cell_type": "code",
   "execution_count": 146,
   "metadata": {},
   "outputs": [],
   "source": [
    "current_data1['emp_length'].fillna(method='ffill',inplace=True)"
   ]
  },
  {
   "cell_type": "code",
   "execution_count": 147,
   "metadata": {},
   "outputs": [],
   "source": [
    "#dtc.predict(current_data1)"
   ]
  },
  {
   "cell_type": "code",
   "execution_count": 148,
   "metadata": {},
   "outputs": [
    {
     "data": {
      "text/plain": [
       "loan_amnt               1\n",
       "term                    1\n",
       "int_rate                1\n",
       "installment             1\n",
       "sub_grade               1\n",
       "emp_length              1\n",
       "home_ownership          1\n",
       "annual_inc              1\n",
       "purpose                 1\n",
       "addr_state              1\n",
       "dti                     2\n",
       "open_acc                1\n",
       "pub_rec                 1\n",
       "total_acc               1\n",
       "application_type        1\n",
       "mort_acc                1\n",
       "pub_rec_bankruptcies    1\n",
       "fico_score              1\n",
       "dtype: int64"
      ]
     },
     "execution_count": 148,
     "metadata": {},
     "output_type": "execute_result"
    }
   ],
   "source": [
    "current_data1.isna().nunique()"
   ]
  },
  {
   "cell_type": "code",
   "execution_count": 149,
   "metadata": {},
   "outputs": [],
   "source": [
    "current_data1['dti'].fillna(method='ffill',inplace=True)"
   ]
  },
  {
   "cell_type": "code",
   "execution_count": 150,
   "metadata": {},
   "outputs": [
    {
     "data": {
      "text/plain": [
       "loan_amnt               1\n",
       "term                    1\n",
       "int_rate                1\n",
       "installment             1\n",
       "sub_grade               1\n",
       "emp_length              1\n",
       "home_ownership          1\n",
       "annual_inc              1\n",
       "purpose                 1\n",
       "addr_state              1\n",
       "dti                     1\n",
       "open_acc                1\n",
       "pub_rec                 1\n",
       "total_acc               1\n",
       "application_type        1\n",
       "mort_acc                1\n",
       "pub_rec_bankruptcies    1\n",
       "fico_score              1\n",
       "dtype: int64"
      ]
     },
     "execution_count": 150,
     "metadata": {},
     "output_type": "execute_result"
    }
   ],
   "source": [
    "current_data1.isna().nunique()"
   ]
  },
  {
   "cell_type": "code",
   "execution_count": 151,
   "metadata": {},
   "outputs": [
    {
     "data": {
      "text/html": [
       "<div>\n",
       "<style scoped>\n",
       "    .dataframe tbody tr th:only-of-type {\n",
       "        vertical-align: middle;\n",
       "    }\n",
       "\n",
       "    .dataframe tbody tr th {\n",
       "        vertical-align: top;\n",
       "    }\n",
       "\n",
       "    .dataframe thead th {\n",
       "        text-align: right;\n",
       "    }\n",
       "</style>\n",
       "<table border=\"1\" class=\"dataframe\">\n",
       "  <thead>\n",
       "    <tr style=\"text-align: right;\">\n",
       "      <th></th>\n",
       "      <th>loan_amnt</th>\n",
       "      <th>term</th>\n",
       "      <th>int_rate</th>\n",
       "      <th>installment</th>\n",
       "      <th>sub_grade</th>\n",
       "      <th>emp_length</th>\n",
       "      <th>home_ownership</th>\n",
       "      <th>annual_inc</th>\n",
       "      <th>purpose</th>\n",
       "      <th>addr_state</th>\n",
       "      <th>dti</th>\n",
       "      <th>open_acc</th>\n",
       "      <th>pub_rec</th>\n",
       "      <th>total_acc</th>\n",
       "      <th>application_type</th>\n",
       "      <th>mort_acc</th>\n",
       "      <th>pub_rec_bankruptcies</th>\n",
       "      <th>fico_score</th>\n",
       "    </tr>\n",
       "  </thead>\n",
       "  <tbody>\n",
       "    <tr>\n",
       "      <th>3</th>\n",
       "      <td>12800.0</td>\n",
       "      <td>60</td>\n",
       "      <td>17.14</td>\n",
       "      <td>319.08</td>\n",
       "      <td>D4</td>\n",
       "      <td>10.0</td>\n",
       "      <td>MORTGAGE</td>\n",
       "      <td>125000.0</td>\n",
       "      <td>car</td>\n",
       "      <td>CA</td>\n",
       "      <td>8.31</td>\n",
       "      <td>8.0</td>\n",
       "      <td>0.0</td>\n",
       "      <td>13.0</td>\n",
       "      <td>Individual</td>\n",
       "      <td>5.0</td>\n",
       "      <td>0.0</td>\n",
       "      <td>667.0</td>\n",
       "    </tr>\n",
       "    <tr>\n",
       "      <th>13</th>\n",
       "      <td>21075.0</td>\n",
       "      <td>60</td>\n",
       "      <td>21.99</td>\n",
       "      <td>581.95</td>\n",
       "      <td>E5</td>\n",
       "      <td>10.0</td>\n",
       "      <td>MORTGAGE</td>\n",
       "      <td>55000.0</td>\n",
       "      <td>debt_consolidation</td>\n",
       "      <td>IL</td>\n",
       "      <td>29.50</td>\n",
       "      <td>14.0</td>\n",
       "      <td>0.0</td>\n",
       "      <td>21.0</td>\n",
       "      <td>Individual</td>\n",
       "      <td>1.0</td>\n",
       "      <td>0.0</td>\n",
       "      <td>692.0</td>\n",
       "    </tr>\n",
       "    <tr>\n",
       "      <th>19</th>\n",
       "      <td>13550.0</td>\n",
       "      <td>60</td>\n",
       "      <td>19.99</td>\n",
       "      <td>358.92</td>\n",
       "      <td>E3</td>\n",
       "      <td>5.0</td>\n",
       "      <td>OWN</td>\n",
       "      <td>40000.0</td>\n",
       "      <td>debt_consolidation</td>\n",
       "      <td>GA</td>\n",
       "      <td>16.23</td>\n",
       "      <td>8.0</td>\n",
       "      <td>0.0</td>\n",
       "      <td>20.0</td>\n",
       "      <td>Individual</td>\n",
       "      <td>0.0</td>\n",
       "      <td>0.0</td>\n",
       "      <td>692.0</td>\n",
       "    </tr>\n",
       "    <tr>\n",
       "      <th>20</th>\n",
       "      <td>7200.0</td>\n",
       "      <td>36</td>\n",
       "      <td>12.39</td>\n",
       "      <td>240.49</td>\n",
       "      <td>C1</td>\n",
       "      <td>5.0</td>\n",
       "      <td>MORTGAGE</td>\n",
       "      <td>84000.0</td>\n",
       "      <td>debt_consolidation</td>\n",
       "      <td>TX</td>\n",
       "      <td>18.79</td>\n",
       "      <td>11.0</td>\n",
       "      <td>0.0</td>\n",
       "      <td>17.0</td>\n",
       "      <td>Individual</td>\n",
       "      <td>1.0</td>\n",
       "      <td>0.0</td>\n",
       "      <td>687.0</td>\n",
       "    </tr>\n",
       "    <tr>\n",
       "      <th>21</th>\n",
       "      <td>14000.0</td>\n",
       "      <td>36</td>\n",
       "      <td>10.49</td>\n",
       "      <td>454.97</td>\n",
       "      <td>B3</td>\n",
       "      <td>10.0</td>\n",
       "      <td>OWN</td>\n",
       "      <td>42000.0</td>\n",
       "      <td>credit_card</td>\n",
       "      <td>TX</td>\n",
       "      <td>35.68</td>\n",
       "      <td>13.0</td>\n",
       "      <td>0.0</td>\n",
       "      <td>21.0</td>\n",
       "      <td>Individual</td>\n",
       "      <td>0.0</td>\n",
       "      <td>0.0</td>\n",
       "      <td>732.0</td>\n",
       "    </tr>\n",
       "    <tr>\n",
       "      <th>30</th>\n",
       "      <td>15000.0</td>\n",
       "      <td>60</td>\n",
       "      <td>20.99</td>\n",
       "      <td>405.72</td>\n",
       "      <td>E4</td>\n",
       "      <td>3.0</td>\n",
       "      <td>MORTGAGE</td>\n",
       "      <td>48000.0</td>\n",
       "      <td>other</td>\n",
       "      <td>TX</td>\n",
       "      <td>17.53</td>\n",
       "      <td>8.0</td>\n",
       "      <td>0.0</td>\n",
       "      <td>13.0</td>\n",
       "      <td>Individual</td>\n",
       "      <td>1.0</td>\n",
       "      <td>0.0</td>\n",
       "      <td>702.0</td>\n",
       "    </tr>\n",
       "    <tr>\n",
       "      <th>35</th>\n",
       "      <td>11175.0</td>\n",
       "      <td>36</td>\n",
       "      <td>19.99</td>\n",
       "      <td>415.25</td>\n",
       "      <td>E3</td>\n",
       "      <td>7.0</td>\n",
       "      <td>RENT</td>\n",
       "      <td>31240.0</td>\n",
       "      <td>debt_consolidation</td>\n",
       "      <td>LA</td>\n",
       "      <td>15.02</td>\n",
       "      <td>9.0</td>\n",
       "      <td>0.0</td>\n",
       "      <td>23.0</td>\n",
       "      <td>Individual</td>\n",
       "      <td>0.0</td>\n",
       "      <td>0.0</td>\n",
       "      <td>662.0</td>\n",
       "    </tr>\n",
       "    <tr>\n",
       "      <th>39</th>\n",
       "      <td>28000.0</td>\n",
       "      <td>60</td>\n",
       "      <td>15.59</td>\n",
       "      <td>674.83</td>\n",
       "      <td>D1</td>\n",
       "      <td>3.0</td>\n",
       "      <td>OWN</td>\n",
       "      <td>90000.0</td>\n",
       "      <td>debt_consolidation</td>\n",
       "      <td>CT</td>\n",
       "      <td>14.67</td>\n",
       "      <td>25.0</td>\n",
       "      <td>0.0</td>\n",
       "      <td>49.0</td>\n",
       "      <td>Individual</td>\n",
       "      <td>5.0</td>\n",
       "      <td>0.0</td>\n",
       "      <td>682.0</td>\n",
       "    </tr>\n",
       "    <tr>\n",
       "      <th>40</th>\n",
       "      <td>11000.0</td>\n",
       "      <td>36</td>\n",
       "      <td>12.99</td>\n",
       "      <td>370.59</td>\n",
       "      <td>C2</td>\n",
       "      <td>10.0</td>\n",
       "      <td>MORTGAGE</td>\n",
       "      <td>60000.0</td>\n",
       "      <td>debt_consolidation</td>\n",
       "      <td>MS</td>\n",
       "      <td>34.10</td>\n",
       "      <td>11.0</td>\n",
       "      <td>0.0</td>\n",
       "      <td>24.0</td>\n",
       "      <td>Individual</td>\n",
       "      <td>2.0</td>\n",
       "      <td>0.0</td>\n",
       "      <td>672.0</td>\n",
       "    </tr>\n",
       "    <tr>\n",
       "      <th>43</th>\n",
       "      <td>5000.0</td>\n",
       "      <td>36</td>\n",
       "      <td>13.66</td>\n",
       "      <td>170.07</td>\n",
       "      <td>C3</td>\n",
       "      <td>10.0</td>\n",
       "      <td>RENT</td>\n",
       "      <td>54797.0</td>\n",
       "      <td>moving</td>\n",
       "      <td>CA</td>\n",
       "      <td>11.05</td>\n",
       "      <td>7.0</td>\n",
       "      <td>1.0</td>\n",
       "      <td>22.0</td>\n",
       "      <td>Individual</td>\n",
       "      <td>3.0</td>\n",
       "      <td>0.0</td>\n",
       "      <td>667.0</td>\n",
       "    </tr>\n",
       "    <tr>\n",
       "      <th>44</th>\n",
       "      <td>1500.0</td>\n",
       "      <td>36</td>\n",
       "      <td>14.31</td>\n",
       "      <td>51.50</td>\n",
       "      <td>C4</td>\n",
       "      <td>10.0</td>\n",
       "      <td>RENT</td>\n",
       "      <td>53800.0</td>\n",
       "      <td>debt_consolidation</td>\n",
       "      <td>GA</td>\n",
       "      <td>15.93</td>\n",
       "      <td>4.0</td>\n",
       "      <td>0.0</td>\n",
       "      <td>6.0</td>\n",
       "      <td>Individual</td>\n",
       "      <td>0.0</td>\n",
       "      <td>0.0</td>\n",
       "      <td>682.0</td>\n",
       "    </tr>\n",
       "    <tr>\n",
       "      <th>45</th>\n",
       "      <td>20000.0</td>\n",
       "      <td>60</td>\n",
       "      <td>14.31</td>\n",
       "      <td>468.59</td>\n",
       "      <td>C4</td>\n",
       "      <td>0.0</td>\n",
       "      <td>MORTGAGE</td>\n",
       "      <td>84000.0</td>\n",
       "      <td>debt_consolidation</td>\n",
       "      <td>NC</td>\n",
       "      <td>12.83</td>\n",
       "      <td>15.0</td>\n",
       "      <td>0.0</td>\n",
       "      <td>19.0</td>\n",
       "      <td>Individual</td>\n",
       "      <td>3.0</td>\n",
       "      <td>0.0</td>\n",
       "      <td>717.0</td>\n",
       "    </tr>\n",
       "    <tr>\n",
       "      <th>48</th>\n",
       "      <td>15000.0</td>\n",
       "      <td>60</td>\n",
       "      <td>11.99</td>\n",
       "      <td>333.60</td>\n",
       "      <td>B5</td>\n",
       "      <td>3.0</td>\n",
       "      <td>RENT</td>\n",
       "      <td>40000.0</td>\n",
       "      <td>debt_consolidation</td>\n",
       "      <td>AZ</td>\n",
       "      <td>24.36</td>\n",
       "      <td>7.0</td>\n",
       "      <td>0.0</td>\n",
       "      <td>11.0</td>\n",
       "      <td>Individual</td>\n",
       "      <td>0.0</td>\n",
       "      <td>0.0</td>\n",
       "      <td>717.0</td>\n",
       "    </tr>\n",
       "    <tr>\n",
       "      <th>51</th>\n",
       "      <td>16000.0</td>\n",
       "      <td>60</td>\n",
       "      <td>17.14</td>\n",
       "      <td>398.85</td>\n",
       "      <td>D4</td>\n",
       "      <td>1.0</td>\n",
       "      <td>RENT</td>\n",
       "      <td>40000.0</td>\n",
       "      <td>debt_consolidation</td>\n",
       "      <td>FL</td>\n",
       "      <td>25.96</td>\n",
       "      <td>9.0</td>\n",
       "      <td>0.0</td>\n",
       "      <td>27.0</td>\n",
       "      <td>Individual</td>\n",
       "      <td>0.0</td>\n",
       "      <td>0.0</td>\n",
       "      <td>672.0</td>\n",
       "    </tr>\n",
       "    <tr>\n",
       "      <th>56</th>\n",
       "      <td>1000.0</td>\n",
       "      <td>36</td>\n",
       "      <td>11.99</td>\n",
       "      <td>33.21</td>\n",
       "      <td>B5</td>\n",
       "      <td>10.0</td>\n",
       "      <td>MORTGAGE</td>\n",
       "      <td>45000.0</td>\n",
       "      <td>other</td>\n",
       "      <td>OH</td>\n",
       "      <td>29.55</td>\n",
       "      <td>14.0</td>\n",
       "      <td>0.0</td>\n",
       "      <td>22.0</td>\n",
       "      <td>Individual</td>\n",
       "      <td>3.0</td>\n",
       "      <td>0.0</td>\n",
       "      <td>702.0</td>\n",
       "    </tr>\n",
       "    <tr>\n",
       "      <th>60</th>\n",
       "      <td>20975.0</td>\n",
       "      <td>60</td>\n",
       "      <td>12.39</td>\n",
       "      <td>470.73</td>\n",
       "      <td>C1</td>\n",
       "      <td>10.0</td>\n",
       "      <td>MORTGAGE</td>\n",
       "      <td>46800.0</td>\n",
       "      <td>home_improvement</td>\n",
       "      <td>AR</td>\n",
       "      <td>20.79</td>\n",
       "      <td>4.0</td>\n",
       "      <td>0.0</td>\n",
       "      <td>50.0</td>\n",
       "      <td>Individual</td>\n",
       "      <td>4.0</td>\n",
       "      <td>0.0</td>\n",
       "      <td>727.0</td>\n",
       "    </tr>\n",
       "    <tr>\n",
       "      <th>62</th>\n",
       "      <td>32800.0</td>\n",
       "      <td>60</td>\n",
       "      <td>12.39</td>\n",
       "      <td>736.10</td>\n",
       "      <td>C1</td>\n",
       "      <td>10.0</td>\n",
       "      <td>OWN</td>\n",
       "      <td>133995.0</td>\n",
       "      <td>credit_card</td>\n",
       "      <td>IL</td>\n",
       "      <td>9.21</td>\n",
       "      <td>10.0</td>\n",
       "      <td>0.0</td>\n",
       "      <td>30.0</td>\n",
       "      <td>Individual</td>\n",
       "      <td>6.0</td>\n",
       "      <td>0.0</td>\n",
       "      <td>677.0</td>\n",
       "    </tr>\n",
       "    <tr>\n",
       "      <th>67</th>\n",
       "      <td>9000.0</td>\n",
       "      <td>36</td>\n",
       "      <td>16.49</td>\n",
       "      <td>318.60</td>\n",
       "      <td>D3</td>\n",
       "      <td>1.0</td>\n",
       "      <td>RENT</td>\n",
       "      <td>32000.0</td>\n",
       "      <td>debt_consolidation</td>\n",
       "      <td>MO</td>\n",
       "      <td>23.78</td>\n",
       "      <td>8.0</td>\n",
       "      <td>0.0</td>\n",
       "      <td>15.0</td>\n",
       "      <td>Individual</td>\n",
       "      <td>0.0</td>\n",
       "      <td>0.0</td>\n",
       "      <td>662.0</td>\n",
       "    </tr>\n",
       "    <tr>\n",
       "      <th>70</th>\n",
       "      <td>10000.0</td>\n",
       "      <td>36</td>\n",
       "      <td>10.49</td>\n",
       "      <td>324.98</td>\n",
       "      <td>B3</td>\n",
       "      <td>10.0</td>\n",
       "      <td>MORTGAGE</td>\n",
       "      <td>117000.0</td>\n",
       "      <td>debt_consolidation</td>\n",
       "      <td>OH</td>\n",
       "      <td>25.65</td>\n",
       "      <td>11.0</td>\n",
       "      <td>0.0</td>\n",
       "      <td>36.0</td>\n",
       "      <td>Individual</td>\n",
       "      <td>3.0</td>\n",
       "      <td>0.0</td>\n",
       "      <td>712.0</td>\n",
       "    </tr>\n",
       "    <tr>\n",
       "      <th>75</th>\n",
       "      <td>24000.0</td>\n",
       "      <td>60</td>\n",
       "      <td>13.66</td>\n",
       "      <td>554.22</td>\n",
       "      <td>C3</td>\n",
       "      <td>8.0</td>\n",
       "      <td>RENT</td>\n",
       "      <td>60000.0</td>\n",
       "      <td>debt_consolidation</td>\n",
       "      <td>NY</td>\n",
       "      <td>33.62</td>\n",
       "      <td>27.0</td>\n",
       "      <td>0.0</td>\n",
       "      <td>59.0</td>\n",
       "      <td>Individual</td>\n",
       "      <td>0.0</td>\n",
       "      <td>0.0</td>\n",
       "      <td>692.0</td>\n",
       "    </tr>\n",
       "    <tr>\n",
       "      <th>79</th>\n",
       "      <td>21000.0</td>\n",
       "      <td>36</td>\n",
       "      <td>12.99</td>\n",
       "      <td>707.48</td>\n",
       "      <td>C2</td>\n",
       "      <td>3.0</td>\n",
       "      <td>MORTGAGE</td>\n",
       "      <td>75000.0</td>\n",
       "      <td>credit_card</td>\n",
       "      <td>AZ</td>\n",
       "      <td>5.68</td>\n",
       "      <td>8.0</td>\n",
       "      <td>0.0</td>\n",
       "      <td>28.0</td>\n",
       "      <td>Individual</td>\n",
       "      <td>6.0</td>\n",
       "      <td>0.0</td>\n",
       "      <td>707.0</td>\n",
       "    </tr>\n",
       "    <tr>\n",
       "      <th>81</th>\n",
       "      <td>13375.0</td>\n",
       "      <td>60</td>\n",
       "      <td>18.54</td>\n",
       "      <td>343.58</td>\n",
       "      <td>E1</td>\n",
       "      <td>10.0</td>\n",
       "      <td>RENT</td>\n",
       "      <td>41000.0</td>\n",
       "      <td>credit_card</td>\n",
       "      <td>NY</td>\n",
       "      <td>17.77</td>\n",
       "      <td>5.0</td>\n",
       "      <td>0.0</td>\n",
       "      <td>11.0</td>\n",
       "      <td>Individual</td>\n",
       "      <td>0.0</td>\n",
       "      <td>0.0</td>\n",
       "      <td>672.0</td>\n",
       "    </tr>\n",
       "    <tr>\n",
       "      <th>91</th>\n",
       "      <td>28000.0</td>\n",
       "      <td>36</td>\n",
       "      <td>17.86</td>\n",
       "      <td>1010.31</td>\n",
       "      <td>D5</td>\n",
       "      <td>5.0</td>\n",
       "      <td>RENT</td>\n",
       "      <td>99789.0</td>\n",
       "      <td>debt_consolidation</td>\n",
       "      <td>CA</td>\n",
       "      <td>19.69</td>\n",
       "      <td>14.0</td>\n",
       "      <td>0.0</td>\n",
       "      <td>20.0</td>\n",
       "      <td>Individual</td>\n",
       "      <td>0.0</td>\n",
       "      <td>0.0</td>\n",
       "      <td>722.0</td>\n",
       "    </tr>\n",
       "    <tr>\n",
       "      <th>98</th>\n",
       "      <td>15000.0</td>\n",
       "      <td>36</td>\n",
       "      <td>6.99</td>\n",
       "      <td>463.09</td>\n",
       "      <td>A3</td>\n",
       "      <td>5.0</td>\n",
       "      <td>MORTGAGE</td>\n",
       "      <td>108150.0</td>\n",
       "      <td>debt_consolidation</td>\n",
       "      <td>CT</td>\n",
       "      <td>25.61</td>\n",
       "      <td>13.0</td>\n",
       "      <td>0.0</td>\n",
       "      <td>23.0</td>\n",
       "      <td>Individual</td>\n",
       "      <td>2.0</td>\n",
       "      <td>0.0</td>\n",
       "      <td>732.0</td>\n",
       "    </tr>\n",
       "    <tr>\n",
       "      <th>99</th>\n",
       "      <td>5000.0</td>\n",
       "      <td>36</td>\n",
       "      <td>11.44</td>\n",
       "      <td>164.74</td>\n",
       "      <td>B4</td>\n",
       "      <td>10.0</td>\n",
       "      <td>MORTGAGE</td>\n",
       "      <td>33000.0</td>\n",
       "      <td>credit_card</td>\n",
       "      <td>MO</td>\n",
       "      <td>21.20</td>\n",
       "      <td>7.0</td>\n",
       "      <td>1.0</td>\n",
       "      <td>25.0</td>\n",
       "      <td>Individual</td>\n",
       "      <td>3.0</td>\n",
       "      <td>1.0</td>\n",
       "      <td>707.0</td>\n",
       "    </tr>\n",
       "    <tr>\n",
       "      <th>100</th>\n",
       "      <td>6000.0</td>\n",
       "      <td>36</td>\n",
       "      <td>11.99</td>\n",
       "      <td>199.26</td>\n",
       "      <td>B5</td>\n",
       "      <td>5.0</td>\n",
       "      <td>RENT</td>\n",
       "      <td>32500.0</td>\n",
       "      <td>debt_consolidation</td>\n",
       "      <td>WV</td>\n",
       "      <td>28.06</td>\n",
       "      <td>9.0</td>\n",
       "      <td>0.0</td>\n",
       "      <td>13.0</td>\n",
       "      <td>Individual</td>\n",
       "      <td>0.0</td>\n",
       "      <td>0.0</td>\n",
       "      <td>677.0</td>\n",
       "    </tr>\n",
       "    <tr>\n",
       "      <th>101</th>\n",
       "      <td>19000.0</td>\n",
       "      <td>36</td>\n",
       "      <td>9.49</td>\n",
       "      <td>608.54</td>\n",
       "      <td>B2</td>\n",
       "      <td>5.0</td>\n",
       "      <td>MORTGAGE</td>\n",
       "      <td>75000.0</td>\n",
       "      <td>credit_card</td>\n",
       "      <td>KS</td>\n",
       "      <td>20.39</td>\n",
       "      <td>10.0</td>\n",
       "      <td>0.0</td>\n",
       "      <td>28.0</td>\n",
       "      <td>Individual</td>\n",
       "      <td>1.0</td>\n",
       "      <td>0.0</td>\n",
       "      <td>662.0</td>\n",
       "    </tr>\n",
       "    <tr>\n",
       "      <th>104</th>\n",
       "      <td>18000.0</td>\n",
       "      <td>36</td>\n",
       "      <td>11.44</td>\n",
       "      <td>593.06</td>\n",
       "      <td>B4</td>\n",
       "      <td>3.0</td>\n",
       "      <td>MORTGAGE</td>\n",
       "      <td>109000.0</td>\n",
       "      <td>debt_consolidation</td>\n",
       "      <td>NY</td>\n",
       "      <td>22.07</td>\n",
       "      <td>15.0</td>\n",
       "      <td>0.0</td>\n",
       "      <td>51.0</td>\n",
       "      <td>Individual</td>\n",
       "      <td>6.0</td>\n",
       "      <td>0.0</td>\n",
       "      <td>677.0</td>\n",
       "    </tr>\n",
       "    <tr>\n",
       "      <th>105</th>\n",
       "      <td>6000.0</td>\n",
       "      <td>36</td>\n",
       "      <td>12.39</td>\n",
       "      <td>200.41</td>\n",
       "      <td>C1</td>\n",
       "      <td>4.0</td>\n",
       "      <td>MORTGAGE</td>\n",
       "      <td>26000.0</td>\n",
       "      <td>debt_consolidation</td>\n",
       "      <td>MI</td>\n",
       "      <td>28.81</td>\n",
       "      <td>12.0</td>\n",
       "      <td>0.0</td>\n",
       "      <td>24.0</td>\n",
       "      <td>Individual</td>\n",
       "      <td>2.0</td>\n",
       "      <td>0.0</td>\n",
       "      <td>697.0</td>\n",
       "    </tr>\n",
       "    <tr>\n",
       "      <th>112</th>\n",
       "      <td>8000.0</td>\n",
       "      <td>36</td>\n",
       "      <td>12.39</td>\n",
       "      <td>267.21</td>\n",
       "      <td>C1</td>\n",
       "      <td>9.0</td>\n",
       "      <td>RENT</td>\n",
       "      <td>45000.0</td>\n",
       "      <td>credit_card</td>\n",
       "      <td>CT</td>\n",
       "      <td>26.75</td>\n",
       "      <td>8.0</td>\n",
       "      <td>0.0</td>\n",
       "      <td>18.0</td>\n",
       "      <td>Individual</td>\n",
       "      <td>0.0</td>\n",
       "      <td>0.0</td>\n",
       "      <td>677.0</td>\n",
       "    </tr>\n",
       "    <tr>\n",
       "      <th>...</th>\n",
       "      <td>...</td>\n",
       "      <td>...</td>\n",
       "      <td>...</td>\n",
       "      <td>...</td>\n",
       "      <td>...</td>\n",
       "      <td>...</td>\n",
       "      <td>...</td>\n",
       "      <td>...</td>\n",
       "      <td>...</td>\n",
       "      <td>...</td>\n",
       "      <td>...</td>\n",
       "      <td>...</td>\n",
       "      <td>...</td>\n",
       "      <td>...</td>\n",
       "      <td>...</td>\n",
       "      <td>...</td>\n",
       "      <td>...</td>\n",
       "      <td>...</td>\n",
       "    </tr>\n",
       "    <tr>\n",
       "      <th>1646751</th>\n",
       "      <td>19700.0</td>\n",
       "      <td>36</td>\n",
       "      <td>9.76</td>\n",
       "      <td>633.45</td>\n",
       "      <td>B3</td>\n",
       "      <td>4.0</td>\n",
       "      <td>MORTGAGE</td>\n",
       "      <td>73746.0</td>\n",
       "      <td>debt_consolidation</td>\n",
       "      <td>FL</td>\n",
       "      <td>13.03</td>\n",
       "      <td>8.0</td>\n",
       "      <td>1.0</td>\n",
       "      <td>14.0</td>\n",
       "      <td>Individual</td>\n",
       "      <td>1.0</td>\n",
       "      <td>1.0</td>\n",
       "      <td>702.0</td>\n",
       "    </tr>\n",
       "    <tr>\n",
       "      <th>1646754</th>\n",
       "      <td>24700.0</td>\n",
       "      <td>60</td>\n",
       "      <td>18.99</td>\n",
       "      <td>640.60</td>\n",
       "      <td>E3</td>\n",
       "      <td>10.0</td>\n",
       "      <td>MORTGAGE</td>\n",
       "      <td>55000.0</td>\n",
       "      <td>debt_consolidation</td>\n",
       "      <td>MD</td>\n",
       "      <td>11.43</td>\n",
       "      <td>11.0</td>\n",
       "      <td>0.0</td>\n",
       "      <td>18.0</td>\n",
       "      <td>Individual</td>\n",
       "      <td>0.0</td>\n",
       "      <td>0.0</td>\n",
       "      <td>692.0</td>\n",
       "    </tr>\n",
       "    <tr>\n",
       "      <th>1646755</th>\n",
       "      <td>15000.0</td>\n",
       "      <td>36</td>\n",
       "      <td>10.64</td>\n",
       "      <td>488.53</td>\n",
       "      <td>B4</td>\n",
       "      <td>10.0</td>\n",
       "      <td>RENT</td>\n",
       "      <td>42000.0</td>\n",
       "      <td>credit_card</td>\n",
       "      <td>NY</td>\n",
       "      <td>19.86</td>\n",
       "      <td>5.0</td>\n",
       "      <td>0.0</td>\n",
       "      <td>7.0</td>\n",
       "      <td>Individual</td>\n",
       "      <td>0.0</td>\n",
       "      <td>0.0</td>\n",
       "      <td>722.0</td>\n",
       "    </tr>\n",
       "    <tr>\n",
       "      <th>1646761</th>\n",
       "      <td>7625.0</td>\n",
       "      <td>36</td>\n",
       "      <td>9.76</td>\n",
       "      <td>245.18</td>\n",
       "      <td>B3</td>\n",
       "      <td>10.0</td>\n",
       "      <td>MORTGAGE</td>\n",
       "      <td>75000.0</td>\n",
       "      <td>home_improvement</td>\n",
       "      <td>CA</td>\n",
       "      <td>18.24</td>\n",
       "      <td>12.0</td>\n",
       "      <td>0.0</td>\n",
       "      <td>27.0</td>\n",
       "      <td>Individual</td>\n",
       "      <td>4.0</td>\n",
       "      <td>0.0</td>\n",
       "      <td>707.0</td>\n",
       "    </tr>\n",
       "    <tr>\n",
       "      <th>1646763</th>\n",
       "      <td>10975.0</td>\n",
       "      <td>60</td>\n",
       "      <td>18.20</td>\n",
       "      <td>279.89</td>\n",
       "      <td>E1</td>\n",
       "      <td>3.0</td>\n",
       "      <td>OWN</td>\n",
       "      <td>45600.0</td>\n",
       "      <td>debt_consolidation</td>\n",
       "      <td>NC</td>\n",
       "      <td>20.31</td>\n",
       "      <td>21.0</td>\n",
       "      <td>0.0</td>\n",
       "      <td>24.0</td>\n",
       "      <td>Individual</td>\n",
       "      <td>0.0</td>\n",
       "      <td>0.0</td>\n",
       "      <td>667.0</td>\n",
       "    </tr>\n",
       "    <tr>\n",
       "      <th>1646765</th>\n",
       "      <td>7000.0</td>\n",
       "      <td>36</td>\n",
       "      <td>14.48</td>\n",
       "      <td>240.88</td>\n",
       "      <td>C5</td>\n",
       "      <td>0.0</td>\n",
       "      <td>OWN</td>\n",
       "      <td>70000.0</td>\n",
       "      <td>debt_consolidation</td>\n",
       "      <td>AL</td>\n",
       "      <td>25.37</td>\n",
       "      <td>7.0</td>\n",
       "      <td>0.0</td>\n",
       "      <td>12.0</td>\n",
       "      <td>Individual</td>\n",
       "      <td>0.0</td>\n",
       "      <td>0.0</td>\n",
       "      <td>727.0</td>\n",
       "    </tr>\n",
       "    <tr>\n",
       "      <th>1646766</th>\n",
       "      <td>15000.0</td>\n",
       "      <td>36</td>\n",
       "      <td>7.89</td>\n",
       "      <td>469.29</td>\n",
       "      <td>A5</td>\n",
       "      <td>0.0</td>\n",
       "      <td>OWN</td>\n",
       "      <td>36000.0</td>\n",
       "      <td>credit_card</td>\n",
       "      <td>CA</td>\n",
       "      <td>23.17</td>\n",
       "      <td>11.0</td>\n",
       "      <td>0.0</td>\n",
       "      <td>20.0</td>\n",
       "      <td>Individual</td>\n",
       "      <td>0.0</td>\n",
       "      <td>0.0</td>\n",
       "      <td>697.0</td>\n",
       "    </tr>\n",
       "    <tr>\n",
       "      <th>1646767</th>\n",
       "      <td>22000.0</td>\n",
       "      <td>60</td>\n",
       "      <td>13.18</td>\n",
       "      <td>502.60</td>\n",
       "      <td>C3</td>\n",
       "      <td>0.0</td>\n",
       "      <td>MORTGAGE</td>\n",
       "      <td>51371.0</td>\n",
       "      <td>credit_card</td>\n",
       "      <td>IL</td>\n",
       "      <td>28.81</td>\n",
       "      <td>12.0</td>\n",
       "      <td>0.0</td>\n",
       "      <td>21.0</td>\n",
       "      <td>Individual</td>\n",
       "      <td>3.0</td>\n",
       "      <td>0.0</td>\n",
       "      <td>702.0</td>\n",
       "    </tr>\n",
       "    <tr>\n",
       "      <th>1646768</th>\n",
       "      <td>5200.0</td>\n",
       "      <td>36</td>\n",
       "      <td>16.55</td>\n",
       "      <td>184.24</td>\n",
       "      <td>D2</td>\n",
       "      <td>1.0</td>\n",
       "      <td>RENT</td>\n",
       "      <td>38000.0</td>\n",
       "      <td>car</td>\n",
       "      <td>NV</td>\n",
       "      <td>5.43</td>\n",
       "      <td>6.0</td>\n",
       "      <td>0.0</td>\n",
       "      <td>12.0</td>\n",
       "      <td>Individual</td>\n",
       "      <td>3.0</td>\n",
       "      <td>0.0</td>\n",
       "      <td>677.0</td>\n",
       "    </tr>\n",
       "    <tr>\n",
       "      <th>1646769</th>\n",
       "      <td>15000.0</td>\n",
       "      <td>36</td>\n",
       "      <td>7.89</td>\n",
       "      <td>469.29</td>\n",
       "      <td>A5</td>\n",
       "      <td>1.0</td>\n",
       "      <td>OWN</td>\n",
       "      <td>36000.0</td>\n",
       "      <td>credit_card</td>\n",
       "      <td>PA</td>\n",
       "      <td>14.20</td>\n",
       "      <td>9.0</td>\n",
       "      <td>0.0</td>\n",
       "      <td>14.0</td>\n",
       "      <td>Individual</td>\n",
       "      <td>1.0</td>\n",
       "      <td>0.0</td>\n",
       "      <td>767.0</td>\n",
       "    </tr>\n",
       "    <tr>\n",
       "      <th>1646770</th>\n",
       "      <td>15000.0</td>\n",
       "      <td>36</td>\n",
       "      <td>6.89</td>\n",
       "      <td>462.41</td>\n",
       "      <td>A3</td>\n",
       "      <td>10.0</td>\n",
       "      <td>OWN</td>\n",
       "      <td>125000.0</td>\n",
       "      <td>debt_consolidation</td>\n",
       "      <td>NY</td>\n",
       "      <td>11.99</td>\n",
       "      <td>7.0</td>\n",
       "      <td>0.0</td>\n",
       "      <td>27.0</td>\n",
       "      <td>Individual</td>\n",
       "      <td>1.0</td>\n",
       "      <td>0.0</td>\n",
       "      <td>687.0</td>\n",
       "    </tr>\n",
       "    <tr>\n",
       "      <th>1646772</th>\n",
       "      <td>10000.0</td>\n",
       "      <td>36</td>\n",
       "      <td>11.22</td>\n",
       "      <td>328.43</td>\n",
       "      <td>B5</td>\n",
       "      <td>3.0</td>\n",
       "      <td>OWN</td>\n",
       "      <td>20800.0</td>\n",
       "      <td>credit_card</td>\n",
       "      <td>IL</td>\n",
       "      <td>16.96</td>\n",
       "      <td>14.0</td>\n",
       "      <td>0.0</td>\n",
       "      <td>25.0</td>\n",
       "      <td>Individual</td>\n",
       "      <td>0.0</td>\n",
       "      <td>0.0</td>\n",
       "      <td>662.0</td>\n",
       "    </tr>\n",
       "    <tr>\n",
       "      <th>1646773</th>\n",
       "      <td>11000.0</td>\n",
       "      <td>36</td>\n",
       "      <td>9.17</td>\n",
       "      <td>350.67</td>\n",
       "      <td>B2</td>\n",
       "      <td>8.0</td>\n",
       "      <td>MORTGAGE</td>\n",
       "      <td>71000.0</td>\n",
       "      <td>debt_consolidation</td>\n",
       "      <td>OH</td>\n",
       "      <td>7.35</td>\n",
       "      <td>8.0</td>\n",
       "      <td>1.0</td>\n",
       "      <td>19.0</td>\n",
       "      <td>Individual</td>\n",
       "      <td>5.0</td>\n",
       "      <td>0.0</td>\n",
       "      <td>662.0</td>\n",
       "    </tr>\n",
       "    <tr>\n",
       "      <th>1646774</th>\n",
       "      <td>6000.0</td>\n",
       "      <td>36</td>\n",
       "      <td>11.99</td>\n",
       "      <td>199.26</td>\n",
       "      <td>C1</td>\n",
       "      <td>0.0</td>\n",
       "      <td>RENT</td>\n",
       "      <td>15000.0</td>\n",
       "      <td>credit_card</td>\n",
       "      <td>CA</td>\n",
       "      <td>16.08</td>\n",
       "      <td>7.0</td>\n",
       "      <td>0.0</td>\n",
       "      <td>7.0</td>\n",
       "      <td>Individual</td>\n",
       "      <td>0.0</td>\n",
       "      <td>0.0</td>\n",
       "      <td>667.0</td>\n",
       "    </tr>\n",
       "    <tr>\n",
       "      <th>1646775</th>\n",
       "      <td>4500.0</td>\n",
       "      <td>36</td>\n",
       "      <td>9.76</td>\n",
       "      <td>144.70</td>\n",
       "      <td>B3</td>\n",
       "      <td>9.0</td>\n",
       "      <td>OWN</td>\n",
       "      <td>79000.0</td>\n",
       "      <td>home_improvement</td>\n",
       "      <td>DE</td>\n",
       "      <td>20.10</td>\n",
       "      <td>12.0</td>\n",
       "      <td>0.0</td>\n",
       "      <td>14.0</td>\n",
       "      <td>Individual</td>\n",
       "      <td>0.0</td>\n",
       "      <td>0.0</td>\n",
       "      <td>687.0</td>\n",
       "    </tr>\n",
       "    <tr>\n",
       "      <th>1646776</th>\n",
       "      <td>7500.0</td>\n",
       "      <td>36</td>\n",
       "      <td>9.76</td>\n",
       "      <td>241.16</td>\n",
       "      <td>B3</td>\n",
       "      <td>3.0</td>\n",
       "      <td>RENT</td>\n",
       "      <td>48000.0</td>\n",
       "      <td>debt_consolidation</td>\n",
       "      <td>NY</td>\n",
       "      <td>9.18</td>\n",
       "      <td>10.0</td>\n",
       "      <td>0.0</td>\n",
       "      <td>14.0</td>\n",
       "      <td>Individual</td>\n",
       "      <td>0.0</td>\n",
       "      <td>0.0</td>\n",
       "      <td>712.0</td>\n",
       "    </tr>\n",
       "    <tr>\n",
       "      <th>1646777</th>\n",
       "      <td>16800.0</td>\n",
       "      <td>36</td>\n",
       "      <td>7.26</td>\n",
       "      <td>520.74</td>\n",
       "      <td>A4</td>\n",
       "      <td>0.0</td>\n",
       "      <td>RENT</td>\n",
       "      <td>62000.0</td>\n",
       "      <td>debt_consolidation</td>\n",
       "      <td>FL</td>\n",
       "      <td>23.40</td>\n",
       "      <td>7.0</td>\n",
       "      <td>0.0</td>\n",
       "      <td>9.0</td>\n",
       "      <td>Individual</td>\n",
       "      <td>0.0</td>\n",
       "      <td>0.0</td>\n",
       "      <td>732.0</td>\n",
       "    </tr>\n",
       "    <tr>\n",
       "      <th>1646778</th>\n",
       "      <td>34000.0</td>\n",
       "      <td>36</td>\n",
       "      <td>9.76</td>\n",
       "      <td>1093.26</td>\n",
       "      <td>B3</td>\n",
       "      <td>10.0</td>\n",
       "      <td>MORTGAGE</td>\n",
       "      <td>179000.0</td>\n",
       "      <td>credit_card</td>\n",
       "      <td>IN</td>\n",
       "      <td>27.93</td>\n",
       "      <td>14.0</td>\n",
       "      <td>0.0</td>\n",
       "      <td>42.0</td>\n",
       "      <td>Individual</td>\n",
       "      <td>4.0</td>\n",
       "      <td>0.0</td>\n",
       "      <td>692.0</td>\n",
       "    </tr>\n",
       "    <tr>\n",
       "      <th>1646779</th>\n",
       "      <td>8500.0</td>\n",
       "      <td>36</td>\n",
       "      <td>13.18</td>\n",
       "      <td>287.14</td>\n",
       "      <td>C3</td>\n",
       "      <td>10.0</td>\n",
       "      <td>MORTGAGE</td>\n",
       "      <td>180000.0</td>\n",
       "      <td>small_business</td>\n",
       "      <td>CA</td>\n",
       "      <td>4.00</td>\n",
       "      <td>20.0</td>\n",
       "      <td>6.0</td>\n",
       "      <td>33.0</td>\n",
       "      <td>Individual</td>\n",
       "      <td>0.0</td>\n",
       "      <td>6.0</td>\n",
       "      <td>677.0</td>\n",
       "    </tr>\n",
       "    <tr>\n",
       "      <th>1646782</th>\n",
       "      <td>12600.0</td>\n",
       "      <td>60</td>\n",
       "      <td>18.99</td>\n",
       "      <td>326.79</td>\n",
       "      <td>E3</td>\n",
       "      <td>8.0</td>\n",
       "      <td>RENT</td>\n",
       "      <td>35000.0</td>\n",
       "      <td>debt_consolidation</td>\n",
       "      <td>CA</td>\n",
       "      <td>35.97</td>\n",
       "      <td>9.0</td>\n",
       "      <td>0.0</td>\n",
       "      <td>14.0</td>\n",
       "      <td>Individual</td>\n",
       "      <td>0.0</td>\n",
       "      <td>0.0</td>\n",
       "      <td>732.0</td>\n",
       "    </tr>\n",
       "    <tr>\n",
       "      <th>1646783</th>\n",
       "      <td>12000.0</td>\n",
       "      <td>36</td>\n",
       "      <td>9.76</td>\n",
       "      <td>385.86</td>\n",
       "      <td>B3</td>\n",
       "      <td>10.0</td>\n",
       "      <td>MORTGAGE</td>\n",
       "      <td>61500.0</td>\n",
       "      <td>debt_consolidation</td>\n",
       "      <td>VA</td>\n",
       "      <td>12.00</td>\n",
       "      <td>13.0</td>\n",
       "      <td>0.0</td>\n",
       "      <td>21.0</td>\n",
       "      <td>Individual</td>\n",
       "      <td>2.0</td>\n",
       "      <td>0.0</td>\n",
       "      <td>692.0</td>\n",
       "    </tr>\n",
       "    <tr>\n",
       "      <th>1646784</th>\n",
       "      <td>5000.0</td>\n",
       "      <td>36</td>\n",
       "      <td>13.18</td>\n",
       "      <td>168.91</td>\n",
       "      <td>C3</td>\n",
       "      <td>4.0</td>\n",
       "      <td>RENT</td>\n",
       "      <td>42000.0</td>\n",
       "      <td>car</td>\n",
       "      <td>MN</td>\n",
       "      <td>6.08</td>\n",
       "      <td>17.0</td>\n",
       "      <td>0.0</td>\n",
       "      <td>18.0</td>\n",
       "      <td>Individual</td>\n",
       "      <td>0.0</td>\n",
       "      <td>0.0</td>\n",
       "      <td>682.0</td>\n",
       "    </tr>\n",
       "    <tr>\n",
       "      <th>1646786</th>\n",
       "      <td>12950.0</td>\n",
       "      <td>36</td>\n",
       "      <td>15.41</td>\n",
       "      <td>451.53</td>\n",
       "      <td>D1</td>\n",
       "      <td>4.0</td>\n",
       "      <td>RENT</td>\n",
       "      <td>36000.0</td>\n",
       "      <td>debt_consolidation</td>\n",
       "      <td>IL</td>\n",
       "      <td>38.57</td>\n",
       "      <td>11.0</td>\n",
       "      <td>0.0</td>\n",
       "      <td>22.0</td>\n",
       "      <td>Individual</td>\n",
       "      <td>0.0</td>\n",
       "      <td>0.0</td>\n",
       "      <td>672.0</td>\n",
       "    </tr>\n",
       "    <tr>\n",
       "      <th>1646787</th>\n",
       "      <td>24000.0</td>\n",
       "      <td>36</td>\n",
       "      <td>5.32</td>\n",
       "      <td>722.76</td>\n",
       "      <td>A1</td>\n",
       "      <td>2.0</td>\n",
       "      <td>RENT</td>\n",
       "      <td>100000.0</td>\n",
       "      <td>debt_consolidation</td>\n",
       "      <td>KS</td>\n",
       "      <td>19.27</td>\n",
       "      <td>10.0</td>\n",
       "      <td>0.0</td>\n",
       "      <td>24.0</td>\n",
       "      <td>Individual</td>\n",
       "      <td>2.0</td>\n",
       "      <td>0.0</td>\n",
       "      <td>812.0</td>\n",
       "    </tr>\n",
       "    <tr>\n",
       "      <th>1646788</th>\n",
       "      <td>21175.0</td>\n",
       "      <td>60</td>\n",
       "      <td>19.99</td>\n",
       "      <td>560.90</td>\n",
       "      <td>E4</td>\n",
       "      <td>0.0</td>\n",
       "      <td>OWN</td>\n",
       "      <td>56000.0</td>\n",
       "      <td>debt_consolidation</td>\n",
       "      <td>TX</td>\n",
       "      <td>31.12</td>\n",
       "      <td>9.0</td>\n",
       "      <td>0.0</td>\n",
       "      <td>13.0</td>\n",
       "      <td>Individual</td>\n",
       "      <td>0.0</td>\n",
       "      <td>0.0</td>\n",
       "      <td>687.0</td>\n",
       "    </tr>\n",
       "    <tr>\n",
       "      <th>1646793</th>\n",
       "      <td>5000.0</td>\n",
       "      <td>36</td>\n",
       "      <td>9.17</td>\n",
       "      <td>159.40</td>\n",
       "      <td>B2</td>\n",
       "      <td>0.0</td>\n",
       "      <td>RENT</td>\n",
       "      <td>33000.0</td>\n",
       "      <td>debt_consolidation</td>\n",
       "      <td>CA</td>\n",
       "      <td>28.95</td>\n",
       "      <td>9.0</td>\n",
       "      <td>0.0</td>\n",
       "      <td>12.0</td>\n",
       "      <td>Individual</td>\n",
       "      <td>0.0</td>\n",
       "      <td>0.0</td>\n",
       "      <td>707.0</td>\n",
       "    </tr>\n",
       "    <tr>\n",
       "      <th>1646794</th>\n",
       "      <td>6000.0</td>\n",
       "      <td>36</td>\n",
       "      <td>7.89</td>\n",
       "      <td>187.72</td>\n",
       "      <td>A5</td>\n",
       "      <td>0.0</td>\n",
       "      <td>OWN</td>\n",
       "      <td>38000.0</td>\n",
       "      <td>credit_card</td>\n",
       "      <td>OH</td>\n",
       "      <td>12.35</td>\n",
       "      <td>10.0</td>\n",
       "      <td>0.0</td>\n",
       "      <td>14.0</td>\n",
       "      <td>Individual</td>\n",
       "      <td>0.0</td>\n",
       "      <td>0.0</td>\n",
       "      <td>697.0</td>\n",
       "    </tr>\n",
       "    <tr>\n",
       "      <th>1646795</th>\n",
       "      <td>6000.0</td>\n",
       "      <td>36</td>\n",
       "      <td>9.17</td>\n",
       "      <td>191.28</td>\n",
       "      <td>B2</td>\n",
       "      <td>0.0</td>\n",
       "      <td>RENT</td>\n",
       "      <td>32640.0</td>\n",
       "      <td>debt_consolidation</td>\n",
       "      <td>IL</td>\n",
       "      <td>22.76</td>\n",
       "      <td>9.0</td>\n",
       "      <td>1.0</td>\n",
       "      <td>17.0</td>\n",
       "      <td>Individual</td>\n",
       "      <td>2.0</td>\n",
       "      <td>1.0</td>\n",
       "      <td>697.0</td>\n",
       "    </tr>\n",
       "    <tr>\n",
       "      <th>1646797</th>\n",
       "      <td>34050.0</td>\n",
       "      <td>36</td>\n",
       "      <td>15.41</td>\n",
       "      <td>1187.21</td>\n",
       "      <td>D1</td>\n",
       "      <td>10.0</td>\n",
       "      <td>MORTGAGE</td>\n",
       "      <td>87800.0</td>\n",
       "      <td>credit_card</td>\n",
       "      <td>MD</td>\n",
       "      <td>12.10</td>\n",
       "      <td>14.0</td>\n",
       "      <td>0.0</td>\n",
       "      <td>21.0</td>\n",
       "      <td>Individual</td>\n",
       "      <td>2.0</td>\n",
       "      <td>0.0</td>\n",
       "      <td>682.0</td>\n",
       "    </tr>\n",
       "    <tr>\n",
       "      <th>1646798</th>\n",
       "      <td>5000.0</td>\n",
       "      <td>36</td>\n",
       "      <td>11.22</td>\n",
       "      <td>164.22</td>\n",
       "      <td>B5</td>\n",
       "      <td>7.0</td>\n",
       "      <td>MORTGAGE</td>\n",
       "      <td>65000.0</td>\n",
       "      <td>home_improvement</td>\n",
       "      <td>VA</td>\n",
       "      <td>3.10</td>\n",
       "      <td>6.0</td>\n",
       "      <td>1.0</td>\n",
       "      <td>8.0</td>\n",
       "      <td>Individual</td>\n",
       "      <td>2.0</td>\n",
       "      <td>1.0</td>\n",
       "      <td>667.0</td>\n",
       "    </tr>\n",
       "  </tbody>\n",
       "</table>\n",
       "<p>788950 rows × 18 columns</p>\n",
       "</div>"
      ],
      "text/plain": [
       "         loan_amnt term  int_rate  installment sub_grade  emp_length  \\\n",
       "3          12800.0   60     17.14       319.08        D4        10.0   \n",
       "13         21075.0   60     21.99       581.95        E5        10.0   \n",
       "19         13550.0   60     19.99       358.92        E3         5.0   \n",
       "20          7200.0   36     12.39       240.49        C1         5.0   \n",
       "21         14000.0   36     10.49       454.97        B3        10.0   \n",
       "30         15000.0   60     20.99       405.72        E4         3.0   \n",
       "35         11175.0   36     19.99       415.25        E3         7.0   \n",
       "39         28000.0   60     15.59       674.83        D1         3.0   \n",
       "40         11000.0   36     12.99       370.59        C2        10.0   \n",
       "43          5000.0   36     13.66       170.07        C3        10.0   \n",
       "44          1500.0   36     14.31        51.50        C4        10.0   \n",
       "45         20000.0   60     14.31       468.59        C4         0.0   \n",
       "48         15000.0   60     11.99       333.60        B5         3.0   \n",
       "51         16000.0   60     17.14       398.85        D4         1.0   \n",
       "56          1000.0   36     11.99        33.21        B5        10.0   \n",
       "60         20975.0   60     12.39       470.73        C1        10.0   \n",
       "62         32800.0   60     12.39       736.10        C1        10.0   \n",
       "67          9000.0   36     16.49       318.60        D3         1.0   \n",
       "70         10000.0   36     10.49       324.98        B3        10.0   \n",
       "75         24000.0   60     13.66       554.22        C3         8.0   \n",
       "79         21000.0   36     12.99       707.48        C2         3.0   \n",
       "81         13375.0   60     18.54       343.58        E1        10.0   \n",
       "91         28000.0   36     17.86      1010.31        D5         5.0   \n",
       "98         15000.0   36      6.99       463.09        A3         5.0   \n",
       "99          5000.0   36     11.44       164.74        B4        10.0   \n",
       "100         6000.0   36     11.99       199.26        B5         5.0   \n",
       "101        19000.0   36      9.49       608.54        B2         5.0   \n",
       "104        18000.0   36     11.44       593.06        B4         3.0   \n",
       "105         6000.0   36     12.39       200.41        C1         4.0   \n",
       "112         8000.0   36     12.39       267.21        C1         9.0   \n",
       "...            ...  ...       ...          ...       ...         ...   \n",
       "1646751    19700.0   36      9.76       633.45        B3         4.0   \n",
       "1646754    24700.0   60     18.99       640.60        E3        10.0   \n",
       "1646755    15000.0   36     10.64       488.53        B4        10.0   \n",
       "1646761     7625.0   36      9.76       245.18        B3        10.0   \n",
       "1646763    10975.0   60     18.20       279.89        E1         3.0   \n",
       "1646765     7000.0   36     14.48       240.88        C5         0.0   \n",
       "1646766    15000.0   36      7.89       469.29        A5         0.0   \n",
       "1646767    22000.0   60     13.18       502.60        C3         0.0   \n",
       "1646768     5200.0   36     16.55       184.24        D2         1.0   \n",
       "1646769    15000.0   36      7.89       469.29        A5         1.0   \n",
       "1646770    15000.0   36      6.89       462.41        A3        10.0   \n",
       "1646772    10000.0   36     11.22       328.43        B5         3.0   \n",
       "1646773    11000.0   36      9.17       350.67        B2         8.0   \n",
       "1646774     6000.0   36     11.99       199.26        C1         0.0   \n",
       "1646775     4500.0   36      9.76       144.70        B3         9.0   \n",
       "1646776     7500.0   36      9.76       241.16        B3         3.0   \n",
       "1646777    16800.0   36      7.26       520.74        A4         0.0   \n",
       "1646778    34000.0   36      9.76      1093.26        B3        10.0   \n",
       "1646779     8500.0   36     13.18       287.14        C3        10.0   \n",
       "1646782    12600.0   60     18.99       326.79        E3         8.0   \n",
       "1646783    12000.0   36      9.76       385.86        B3        10.0   \n",
       "1646784     5000.0   36     13.18       168.91        C3         4.0   \n",
       "1646786    12950.0   36     15.41       451.53        D1         4.0   \n",
       "1646787    24000.0   36      5.32       722.76        A1         2.0   \n",
       "1646788    21175.0   60     19.99       560.90        E4         0.0   \n",
       "1646793     5000.0   36      9.17       159.40        B2         0.0   \n",
       "1646794     6000.0   36      7.89       187.72        A5         0.0   \n",
       "1646795     6000.0   36      9.17       191.28        B2         0.0   \n",
       "1646797    34050.0   36     15.41      1187.21        D1        10.0   \n",
       "1646798     5000.0   36     11.22       164.22        B5         7.0   \n",
       "\n",
       "        home_ownership  annual_inc             purpose addr_state    dti  \\\n",
       "3             MORTGAGE    125000.0                 car         CA   8.31   \n",
       "13            MORTGAGE     55000.0  debt_consolidation         IL  29.50   \n",
       "19                 OWN     40000.0  debt_consolidation         GA  16.23   \n",
       "20            MORTGAGE     84000.0  debt_consolidation         TX  18.79   \n",
       "21                 OWN     42000.0         credit_card         TX  35.68   \n",
       "30            MORTGAGE     48000.0               other         TX  17.53   \n",
       "35                RENT     31240.0  debt_consolidation         LA  15.02   \n",
       "39                 OWN     90000.0  debt_consolidation         CT  14.67   \n",
       "40            MORTGAGE     60000.0  debt_consolidation         MS  34.10   \n",
       "43                RENT     54797.0              moving         CA  11.05   \n",
       "44                RENT     53800.0  debt_consolidation         GA  15.93   \n",
       "45            MORTGAGE     84000.0  debt_consolidation         NC  12.83   \n",
       "48                RENT     40000.0  debt_consolidation         AZ  24.36   \n",
       "51                RENT     40000.0  debt_consolidation         FL  25.96   \n",
       "56            MORTGAGE     45000.0               other         OH  29.55   \n",
       "60            MORTGAGE     46800.0    home_improvement         AR  20.79   \n",
       "62                 OWN    133995.0         credit_card         IL   9.21   \n",
       "67                RENT     32000.0  debt_consolidation         MO  23.78   \n",
       "70            MORTGAGE    117000.0  debt_consolidation         OH  25.65   \n",
       "75                RENT     60000.0  debt_consolidation         NY  33.62   \n",
       "79            MORTGAGE     75000.0         credit_card         AZ   5.68   \n",
       "81                RENT     41000.0         credit_card         NY  17.77   \n",
       "91                RENT     99789.0  debt_consolidation         CA  19.69   \n",
       "98            MORTGAGE    108150.0  debt_consolidation         CT  25.61   \n",
       "99            MORTGAGE     33000.0         credit_card         MO  21.20   \n",
       "100               RENT     32500.0  debt_consolidation         WV  28.06   \n",
       "101           MORTGAGE     75000.0         credit_card         KS  20.39   \n",
       "104           MORTGAGE    109000.0  debt_consolidation         NY  22.07   \n",
       "105           MORTGAGE     26000.0  debt_consolidation         MI  28.81   \n",
       "112               RENT     45000.0         credit_card         CT  26.75   \n",
       "...                ...         ...                 ...        ...    ...   \n",
       "1646751       MORTGAGE     73746.0  debt_consolidation         FL  13.03   \n",
       "1646754       MORTGAGE     55000.0  debt_consolidation         MD  11.43   \n",
       "1646755           RENT     42000.0         credit_card         NY  19.86   \n",
       "1646761       MORTGAGE     75000.0    home_improvement         CA  18.24   \n",
       "1646763            OWN     45600.0  debt_consolidation         NC  20.31   \n",
       "1646765            OWN     70000.0  debt_consolidation         AL  25.37   \n",
       "1646766            OWN     36000.0         credit_card         CA  23.17   \n",
       "1646767       MORTGAGE     51371.0         credit_card         IL  28.81   \n",
       "1646768           RENT     38000.0                 car         NV   5.43   \n",
       "1646769            OWN     36000.0         credit_card         PA  14.20   \n",
       "1646770            OWN    125000.0  debt_consolidation         NY  11.99   \n",
       "1646772            OWN     20800.0         credit_card         IL  16.96   \n",
       "1646773       MORTGAGE     71000.0  debt_consolidation         OH   7.35   \n",
       "1646774           RENT     15000.0         credit_card         CA  16.08   \n",
       "1646775            OWN     79000.0    home_improvement         DE  20.10   \n",
       "1646776           RENT     48000.0  debt_consolidation         NY   9.18   \n",
       "1646777           RENT     62000.0  debt_consolidation         FL  23.40   \n",
       "1646778       MORTGAGE    179000.0         credit_card         IN  27.93   \n",
       "1646779       MORTGAGE    180000.0      small_business         CA   4.00   \n",
       "1646782           RENT     35000.0  debt_consolidation         CA  35.97   \n",
       "1646783       MORTGAGE     61500.0  debt_consolidation         VA  12.00   \n",
       "1646784           RENT     42000.0                 car         MN   6.08   \n",
       "1646786           RENT     36000.0  debt_consolidation         IL  38.57   \n",
       "1646787           RENT    100000.0  debt_consolidation         KS  19.27   \n",
       "1646788            OWN     56000.0  debt_consolidation         TX  31.12   \n",
       "1646793           RENT     33000.0  debt_consolidation         CA  28.95   \n",
       "1646794            OWN     38000.0         credit_card         OH  12.35   \n",
       "1646795           RENT     32640.0  debt_consolidation         IL  22.76   \n",
       "1646797       MORTGAGE     87800.0         credit_card         MD  12.10   \n",
       "1646798       MORTGAGE     65000.0    home_improvement         VA   3.10   \n",
       "\n",
       "         open_acc  pub_rec  total_acc application_type  mort_acc  \\\n",
       "3             8.0      0.0       13.0       Individual       5.0   \n",
       "13           14.0      0.0       21.0       Individual       1.0   \n",
       "19            8.0      0.0       20.0       Individual       0.0   \n",
       "20           11.0      0.0       17.0       Individual       1.0   \n",
       "21           13.0      0.0       21.0       Individual       0.0   \n",
       "30            8.0      0.0       13.0       Individual       1.0   \n",
       "35            9.0      0.0       23.0       Individual       0.0   \n",
       "39           25.0      0.0       49.0       Individual       5.0   \n",
       "40           11.0      0.0       24.0       Individual       2.0   \n",
       "43            7.0      1.0       22.0       Individual       3.0   \n",
       "44            4.0      0.0        6.0       Individual       0.0   \n",
       "45           15.0      0.0       19.0       Individual       3.0   \n",
       "48            7.0      0.0       11.0       Individual       0.0   \n",
       "51            9.0      0.0       27.0       Individual       0.0   \n",
       "56           14.0      0.0       22.0       Individual       3.0   \n",
       "60            4.0      0.0       50.0       Individual       4.0   \n",
       "62           10.0      0.0       30.0       Individual       6.0   \n",
       "67            8.0      0.0       15.0       Individual       0.0   \n",
       "70           11.0      0.0       36.0       Individual       3.0   \n",
       "75           27.0      0.0       59.0       Individual       0.0   \n",
       "79            8.0      0.0       28.0       Individual       6.0   \n",
       "81            5.0      0.0       11.0       Individual       0.0   \n",
       "91           14.0      0.0       20.0       Individual       0.0   \n",
       "98           13.0      0.0       23.0       Individual       2.0   \n",
       "99            7.0      1.0       25.0       Individual       3.0   \n",
       "100           9.0      0.0       13.0       Individual       0.0   \n",
       "101          10.0      0.0       28.0       Individual       1.0   \n",
       "104          15.0      0.0       51.0       Individual       6.0   \n",
       "105          12.0      0.0       24.0       Individual       2.0   \n",
       "112           8.0      0.0       18.0       Individual       0.0   \n",
       "...           ...      ...        ...              ...       ...   \n",
       "1646751       8.0      1.0       14.0       Individual       1.0   \n",
       "1646754      11.0      0.0       18.0       Individual       0.0   \n",
       "1646755       5.0      0.0        7.0       Individual       0.0   \n",
       "1646761      12.0      0.0       27.0       Individual       4.0   \n",
       "1646763      21.0      0.0       24.0       Individual       0.0   \n",
       "1646765       7.0      0.0       12.0       Individual       0.0   \n",
       "1646766      11.0      0.0       20.0       Individual       0.0   \n",
       "1646767      12.0      0.0       21.0       Individual       3.0   \n",
       "1646768       6.0      0.0       12.0       Individual       3.0   \n",
       "1646769       9.0      0.0       14.0       Individual       1.0   \n",
       "1646770       7.0      0.0       27.0       Individual       1.0   \n",
       "1646772      14.0      0.0       25.0       Individual       0.0   \n",
       "1646773       8.0      1.0       19.0       Individual       5.0   \n",
       "1646774       7.0      0.0        7.0       Individual       0.0   \n",
       "1646775      12.0      0.0       14.0       Individual       0.0   \n",
       "1646776      10.0      0.0       14.0       Individual       0.0   \n",
       "1646777       7.0      0.0        9.0       Individual       0.0   \n",
       "1646778      14.0      0.0       42.0       Individual       4.0   \n",
       "1646779      20.0      6.0       33.0       Individual       0.0   \n",
       "1646782       9.0      0.0       14.0       Individual       0.0   \n",
       "1646783      13.0      0.0       21.0       Individual       2.0   \n",
       "1646784      17.0      0.0       18.0       Individual       0.0   \n",
       "1646786      11.0      0.0       22.0       Individual       0.0   \n",
       "1646787      10.0      0.0       24.0       Individual       2.0   \n",
       "1646788       9.0      0.0       13.0       Individual       0.0   \n",
       "1646793       9.0      0.0       12.0       Individual       0.0   \n",
       "1646794      10.0      0.0       14.0       Individual       0.0   \n",
       "1646795       9.0      1.0       17.0       Individual       2.0   \n",
       "1646797      14.0      0.0       21.0       Individual       2.0   \n",
       "1646798       6.0      1.0        8.0       Individual       2.0   \n",
       "\n",
       "         pub_rec_bankruptcies  fico_score  \n",
       "3                         0.0       667.0  \n",
       "13                        0.0       692.0  \n",
       "19                        0.0       692.0  \n",
       "20                        0.0       687.0  \n",
       "21                        0.0       732.0  \n",
       "30                        0.0       702.0  \n",
       "35                        0.0       662.0  \n",
       "39                        0.0       682.0  \n",
       "40                        0.0       672.0  \n",
       "43                        0.0       667.0  \n",
       "44                        0.0       682.0  \n",
       "45                        0.0       717.0  \n",
       "48                        0.0       717.0  \n",
       "51                        0.0       672.0  \n",
       "56                        0.0       702.0  \n",
       "60                        0.0       727.0  \n",
       "62                        0.0       677.0  \n",
       "67                        0.0       662.0  \n",
       "70                        0.0       712.0  \n",
       "75                        0.0       692.0  \n",
       "79                        0.0       707.0  \n",
       "81                        0.0       672.0  \n",
       "91                        0.0       722.0  \n",
       "98                        0.0       732.0  \n",
       "99                        1.0       707.0  \n",
       "100                       0.0       677.0  \n",
       "101                       0.0       662.0  \n",
       "104                       0.0       677.0  \n",
       "105                       0.0       697.0  \n",
       "112                       0.0       677.0  \n",
       "...                       ...         ...  \n",
       "1646751                   1.0       702.0  \n",
       "1646754                   0.0       692.0  \n",
       "1646755                   0.0       722.0  \n",
       "1646761                   0.0       707.0  \n",
       "1646763                   0.0       667.0  \n",
       "1646765                   0.0       727.0  \n",
       "1646766                   0.0       697.0  \n",
       "1646767                   0.0       702.0  \n",
       "1646768                   0.0       677.0  \n",
       "1646769                   0.0       767.0  \n",
       "1646770                   0.0       687.0  \n",
       "1646772                   0.0       662.0  \n",
       "1646773                   0.0       662.0  \n",
       "1646774                   0.0       667.0  \n",
       "1646775                   0.0       687.0  \n",
       "1646776                   0.0       712.0  \n",
       "1646777                   0.0       732.0  \n",
       "1646778                   0.0       692.0  \n",
       "1646779                   6.0       677.0  \n",
       "1646782                   0.0       732.0  \n",
       "1646783                   0.0       692.0  \n",
       "1646784                   0.0       682.0  \n",
       "1646786                   0.0       672.0  \n",
       "1646787                   0.0       812.0  \n",
       "1646788                   0.0       687.0  \n",
       "1646793                   0.0       707.0  \n",
       "1646794                   0.0       697.0  \n",
       "1646795                   1.0       697.0  \n",
       "1646797                   0.0       682.0  \n",
       "1646798                   1.0       667.0  \n",
       "\n",
       "[788950 rows x 18 columns]"
      ]
     },
     "execution_count": 151,
     "metadata": {},
     "output_type": "execute_result"
    }
   ],
   "source": [
    "current_data1"
   ]
  },
  {
   "cell_type": "code",
   "execution_count": 152,
   "metadata": {},
   "outputs": [],
   "source": [
    "#current_data1['addr_state'].unique().sort()"
   ]
  },
  {
   "cell_type": "code",
   "execution_count": 153,
   "metadata": {},
   "outputs": [],
   "source": [
    "current_data1 = pd.get_dummies(current_data1, columns=['sub_grade', 'home_ownership', 'purpose', 'addr_state', 'application_type'],drop_first=True)"
   ]
  },
  {
   "cell_type": "code",
   "execution_count": 154,
   "metadata": {},
   "outputs": [
    {
     "data": {
      "text/plain": [
       "loan_amnt                     1\n",
       "term                          1\n",
       "int_rate                      1\n",
       "installment                   1\n",
       "emp_length                    1\n",
       "annual_inc                    1\n",
       "dti                           1\n",
       "open_acc                      1\n",
       "pub_rec                       1\n",
       "total_acc                     1\n",
       "mort_acc                      1\n",
       "pub_rec_bankruptcies          1\n",
       "fico_score                    1\n",
       "sub_grade_A2                  1\n",
       "sub_grade_A3                  1\n",
       "sub_grade_A4                  1\n",
       "sub_grade_A5                  1\n",
       "sub_grade_B1                  1\n",
       "sub_grade_B2                  1\n",
       "sub_grade_B3                  1\n",
       "sub_grade_B4                  1\n",
       "sub_grade_B5                  1\n",
       "sub_grade_C1                  1\n",
       "sub_grade_C2                  1\n",
       "sub_grade_C3                  1\n",
       "sub_grade_C4                  1\n",
       "sub_grade_C5                  1\n",
       "sub_grade_D1                  1\n",
       "sub_grade_D2                  1\n",
       "sub_grade_D3                  1\n",
       "                             ..\n",
       "addr_state_MI                 1\n",
       "addr_state_MN                 1\n",
       "addr_state_MO                 1\n",
       "addr_state_MS                 1\n",
       "addr_state_MT                 1\n",
       "addr_state_NC                 1\n",
       "addr_state_ND                 1\n",
       "addr_state_NE                 1\n",
       "addr_state_NH                 1\n",
       "addr_state_NJ                 1\n",
       "addr_state_NM                 1\n",
       "addr_state_NV                 1\n",
       "addr_state_NY                 1\n",
       "addr_state_OH                 1\n",
       "addr_state_OK                 1\n",
       "addr_state_OR                 1\n",
       "addr_state_PA                 1\n",
       "addr_state_RI                 1\n",
       "addr_state_SC                 1\n",
       "addr_state_SD                 1\n",
       "addr_state_TN                 1\n",
       "addr_state_TX                 1\n",
       "addr_state_UT                 1\n",
       "addr_state_VA                 1\n",
       "addr_state_VT                 1\n",
       "addr_state_WA                 1\n",
       "addr_state_WI                 1\n",
       "addr_state_WV                 1\n",
       "addr_state_WY                 1\n",
       "application_type_Joint App    1\n",
       "Length: 113, dtype: int64"
      ]
     },
     "execution_count": 154,
     "metadata": {},
     "output_type": "execute_result"
    }
   ],
   "source": [
    "current_data1.isna().nunique()"
   ]
  },
  {
   "cell_type": "code",
   "execution_count": 155,
   "metadata": {},
   "outputs": [
    {
     "data": {
      "text/html": [
       "<div>\n",
       "<style scoped>\n",
       "    .dataframe tbody tr th:only-of-type {\n",
       "        vertical-align: middle;\n",
       "    }\n",
       "\n",
       "    .dataframe tbody tr th {\n",
       "        vertical-align: top;\n",
       "    }\n",
       "\n",
       "    .dataframe thead th {\n",
       "        text-align: right;\n",
       "    }\n",
       "</style>\n",
       "<table border=\"1\" class=\"dataframe\">\n",
       "  <thead>\n",
       "    <tr style=\"text-align: right;\">\n",
       "      <th></th>\n",
       "      <th>loan_amnt</th>\n",
       "      <th>term</th>\n",
       "      <th>int_rate</th>\n",
       "      <th>installment</th>\n",
       "      <th>emp_length</th>\n",
       "      <th>annual_inc</th>\n",
       "      <th>dti</th>\n",
       "      <th>open_acc</th>\n",
       "      <th>pub_rec</th>\n",
       "      <th>total_acc</th>\n",
       "      <th>...</th>\n",
       "      <th>addr_state_TN</th>\n",
       "      <th>addr_state_TX</th>\n",
       "      <th>addr_state_UT</th>\n",
       "      <th>addr_state_VA</th>\n",
       "      <th>addr_state_VT</th>\n",
       "      <th>addr_state_WA</th>\n",
       "      <th>addr_state_WI</th>\n",
       "      <th>addr_state_WV</th>\n",
       "      <th>addr_state_WY</th>\n",
       "      <th>application_type_Joint App</th>\n",
       "    </tr>\n",
       "  </thead>\n",
       "  <tbody>\n",
       "    <tr>\n",
       "      <th>3</th>\n",
       "      <td>12800.0</td>\n",
       "      <td>60</td>\n",
       "      <td>17.14</td>\n",
       "      <td>319.08</td>\n",
       "      <td>10.0</td>\n",
       "      <td>125000.0</td>\n",
       "      <td>8.31</td>\n",
       "      <td>8.0</td>\n",
       "      <td>0.0</td>\n",
       "      <td>13.0</td>\n",
       "      <td>...</td>\n",
       "      <td>0</td>\n",
       "      <td>0</td>\n",
       "      <td>0</td>\n",
       "      <td>0</td>\n",
       "      <td>0</td>\n",
       "      <td>0</td>\n",
       "      <td>0</td>\n",
       "      <td>0</td>\n",
       "      <td>0</td>\n",
       "      <td>0</td>\n",
       "    </tr>\n",
       "    <tr>\n",
       "      <th>13</th>\n",
       "      <td>21075.0</td>\n",
       "      <td>60</td>\n",
       "      <td>21.99</td>\n",
       "      <td>581.95</td>\n",
       "      <td>10.0</td>\n",
       "      <td>55000.0</td>\n",
       "      <td>29.50</td>\n",
       "      <td>14.0</td>\n",
       "      <td>0.0</td>\n",
       "      <td>21.0</td>\n",
       "      <td>...</td>\n",
       "      <td>0</td>\n",
       "      <td>0</td>\n",
       "      <td>0</td>\n",
       "      <td>0</td>\n",
       "      <td>0</td>\n",
       "      <td>0</td>\n",
       "      <td>0</td>\n",
       "      <td>0</td>\n",
       "      <td>0</td>\n",
       "      <td>0</td>\n",
       "    </tr>\n",
       "    <tr>\n",
       "      <th>19</th>\n",
       "      <td>13550.0</td>\n",
       "      <td>60</td>\n",
       "      <td>19.99</td>\n",
       "      <td>358.92</td>\n",
       "      <td>5.0</td>\n",
       "      <td>40000.0</td>\n",
       "      <td>16.23</td>\n",
       "      <td>8.0</td>\n",
       "      <td>0.0</td>\n",
       "      <td>20.0</td>\n",
       "      <td>...</td>\n",
       "      <td>0</td>\n",
       "      <td>0</td>\n",
       "      <td>0</td>\n",
       "      <td>0</td>\n",
       "      <td>0</td>\n",
       "      <td>0</td>\n",
       "      <td>0</td>\n",
       "      <td>0</td>\n",
       "      <td>0</td>\n",
       "      <td>0</td>\n",
       "    </tr>\n",
       "    <tr>\n",
       "      <th>20</th>\n",
       "      <td>7200.0</td>\n",
       "      <td>36</td>\n",
       "      <td>12.39</td>\n",
       "      <td>240.49</td>\n",
       "      <td>5.0</td>\n",
       "      <td>84000.0</td>\n",
       "      <td>18.79</td>\n",
       "      <td>11.0</td>\n",
       "      <td>0.0</td>\n",
       "      <td>17.0</td>\n",
       "      <td>...</td>\n",
       "      <td>0</td>\n",
       "      <td>1</td>\n",
       "      <td>0</td>\n",
       "      <td>0</td>\n",
       "      <td>0</td>\n",
       "      <td>0</td>\n",
       "      <td>0</td>\n",
       "      <td>0</td>\n",
       "      <td>0</td>\n",
       "      <td>0</td>\n",
       "    </tr>\n",
       "    <tr>\n",
       "      <th>21</th>\n",
       "      <td>14000.0</td>\n",
       "      <td>36</td>\n",
       "      <td>10.49</td>\n",
       "      <td>454.97</td>\n",
       "      <td>10.0</td>\n",
       "      <td>42000.0</td>\n",
       "      <td>35.68</td>\n",
       "      <td>13.0</td>\n",
       "      <td>0.0</td>\n",
       "      <td>21.0</td>\n",
       "      <td>...</td>\n",
       "      <td>0</td>\n",
       "      <td>1</td>\n",
       "      <td>0</td>\n",
       "      <td>0</td>\n",
       "      <td>0</td>\n",
       "      <td>0</td>\n",
       "      <td>0</td>\n",
       "      <td>0</td>\n",
       "      <td>0</td>\n",
       "      <td>0</td>\n",
       "    </tr>\n",
       "    <tr>\n",
       "      <th>30</th>\n",
       "      <td>15000.0</td>\n",
       "      <td>60</td>\n",
       "      <td>20.99</td>\n",
       "      <td>405.72</td>\n",
       "      <td>3.0</td>\n",
       "      <td>48000.0</td>\n",
       "      <td>17.53</td>\n",
       "      <td>8.0</td>\n",
       "      <td>0.0</td>\n",
       "      <td>13.0</td>\n",
       "      <td>...</td>\n",
       "      <td>0</td>\n",
       "      <td>1</td>\n",
       "      <td>0</td>\n",
       "      <td>0</td>\n",
       "      <td>0</td>\n",
       "      <td>0</td>\n",
       "      <td>0</td>\n",
       "      <td>0</td>\n",
       "      <td>0</td>\n",
       "      <td>0</td>\n",
       "    </tr>\n",
       "    <tr>\n",
       "      <th>35</th>\n",
       "      <td>11175.0</td>\n",
       "      <td>36</td>\n",
       "      <td>19.99</td>\n",
       "      <td>415.25</td>\n",
       "      <td>7.0</td>\n",
       "      <td>31240.0</td>\n",
       "      <td>15.02</td>\n",
       "      <td>9.0</td>\n",
       "      <td>0.0</td>\n",
       "      <td>23.0</td>\n",
       "      <td>...</td>\n",
       "      <td>0</td>\n",
       "      <td>0</td>\n",
       "      <td>0</td>\n",
       "      <td>0</td>\n",
       "      <td>0</td>\n",
       "      <td>0</td>\n",
       "      <td>0</td>\n",
       "      <td>0</td>\n",
       "      <td>0</td>\n",
       "      <td>0</td>\n",
       "    </tr>\n",
       "    <tr>\n",
       "      <th>39</th>\n",
       "      <td>28000.0</td>\n",
       "      <td>60</td>\n",
       "      <td>15.59</td>\n",
       "      <td>674.83</td>\n",
       "      <td>3.0</td>\n",
       "      <td>90000.0</td>\n",
       "      <td>14.67</td>\n",
       "      <td>25.0</td>\n",
       "      <td>0.0</td>\n",
       "      <td>49.0</td>\n",
       "      <td>...</td>\n",
       "      <td>0</td>\n",
       "      <td>0</td>\n",
       "      <td>0</td>\n",
       "      <td>0</td>\n",
       "      <td>0</td>\n",
       "      <td>0</td>\n",
       "      <td>0</td>\n",
       "      <td>0</td>\n",
       "      <td>0</td>\n",
       "      <td>0</td>\n",
       "    </tr>\n",
       "    <tr>\n",
       "      <th>40</th>\n",
       "      <td>11000.0</td>\n",
       "      <td>36</td>\n",
       "      <td>12.99</td>\n",
       "      <td>370.59</td>\n",
       "      <td>10.0</td>\n",
       "      <td>60000.0</td>\n",
       "      <td>34.10</td>\n",
       "      <td>11.0</td>\n",
       "      <td>0.0</td>\n",
       "      <td>24.0</td>\n",
       "      <td>...</td>\n",
       "      <td>0</td>\n",
       "      <td>0</td>\n",
       "      <td>0</td>\n",
       "      <td>0</td>\n",
       "      <td>0</td>\n",
       "      <td>0</td>\n",
       "      <td>0</td>\n",
       "      <td>0</td>\n",
       "      <td>0</td>\n",
       "      <td>0</td>\n",
       "    </tr>\n",
       "    <tr>\n",
       "      <th>43</th>\n",
       "      <td>5000.0</td>\n",
       "      <td>36</td>\n",
       "      <td>13.66</td>\n",
       "      <td>170.07</td>\n",
       "      <td>10.0</td>\n",
       "      <td>54797.0</td>\n",
       "      <td>11.05</td>\n",
       "      <td>7.0</td>\n",
       "      <td>1.0</td>\n",
       "      <td>22.0</td>\n",
       "      <td>...</td>\n",
       "      <td>0</td>\n",
       "      <td>0</td>\n",
       "      <td>0</td>\n",
       "      <td>0</td>\n",
       "      <td>0</td>\n",
       "      <td>0</td>\n",
       "      <td>0</td>\n",
       "      <td>0</td>\n",
       "      <td>0</td>\n",
       "      <td>0</td>\n",
       "    </tr>\n",
       "    <tr>\n",
       "      <th>44</th>\n",
       "      <td>1500.0</td>\n",
       "      <td>36</td>\n",
       "      <td>14.31</td>\n",
       "      <td>51.50</td>\n",
       "      <td>10.0</td>\n",
       "      <td>53800.0</td>\n",
       "      <td>15.93</td>\n",
       "      <td>4.0</td>\n",
       "      <td>0.0</td>\n",
       "      <td>6.0</td>\n",
       "      <td>...</td>\n",
       "      <td>0</td>\n",
       "      <td>0</td>\n",
       "      <td>0</td>\n",
       "      <td>0</td>\n",
       "      <td>0</td>\n",
       "      <td>0</td>\n",
       "      <td>0</td>\n",
       "      <td>0</td>\n",
       "      <td>0</td>\n",
       "      <td>0</td>\n",
       "    </tr>\n",
       "    <tr>\n",
       "      <th>45</th>\n",
       "      <td>20000.0</td>\n",
       "      <td>60</td>\n",
       "      <td>14.31</td>\n",
       "      <td>468.59</td>\n",
       "      <td>0.0</td>\n",
       "      <td>84000.0</td>\n",
       "      <td>12.83</td>\n",
       "      <td>15.0</td>\n",
       "      <td>0.0</td>\n",
       "      <td>19.0</td>\n",
       "      <td>...</td>\n",
       "      <td>0</td>\n",
       "      <td>0</td>\n",
       "      <td>0</td>\n",
       "      <td>0</td>\n",
       "      <td>0</td>\n",
       "      <td>0</td>\n",
       "      <td>0</td>\n",
       "      <td>0</td>\n",
       "      <td>0</td>\n",
       "      <td>0</td>\n",
       "    </tr>\n",
       "    <tr>\n",
       "      <th>48</th>\n",
       "      <td>15000.0</td>\n",
       "      <td>60</td>\n",
       "      <td>11.99</td>\n",
       "      <td>333.60</td>\n",
       "      <td>3.0</td>\n",
       "      <td>40000.0</td>\n",
       "      <td>24.36</td>\n",
       "      <td>7.0</td>\n",
       "      <td>0.0</td>\n",
       "      <td>11.0</td>\n",
       "      <td>...</td>\n",
       "      <td>0</td>\n",
       "      <td>0</td>\n",
       "      <td>0</td>\n",
       "      <td>0</td>\n",
       "      <td>0</td>\n",
       "      <td>0</td>\n",
       "      <td>0</td>\n",
       "      <td>0</td>\n",
       "      <td>0</td>\n",
       "      <td>0</td>\n",
       "    </tr>\n",
       "    <tr>\n",
       "      <th>51</th>\n",
       "      <td>16000.0</td>\n",
       "      <td>60</td>\n",
       "      <td>17.14</td>\n",
       "      <td>398.85</td>\n",
       "      <td>1.0</td>\n",
       "      <td>40000.0</td>\n",
       "      <td>25.96</td>\n",
       "      <td>9.0</td>\n",
       "      <td>0.0</td>\n",
       "      <td>27.0</td>\n",
       "      <td>...</td>\n",
       "      <td>0</td>\n",
       "      <td>0</td>\n",
       "      <td>0</td>\n",
       "      <td>0</td>\n",
       "      <td>0</td>\n",
       "      <td>0</td>\n",
       "      <td>0</td>\n",
       "      <td>0</td>\n",
       "      <td>0</td>\n",
       "      <td>0</td>\n",
       "    </tr>\n",
       "    <tr>\n",
       "      <th>56</th>\n",
       "      <td>1000.0</td>\n",
       "      <td>36</td>\n",
       "      <td>11.99</td>\n",
       "      <td>33.21</td>\n",
       "      <td>10.0</td>\n",
       "      <td>45000.0</td>\n",
       "      <td>29.55</td>\n",
       "      <td>14.0</td>\n",
       "      <td>0.0</td>\n",
       "      <td>22.0</td>\n",
       "      <td>...</td>\n",
       "      <td>0</td>\n",
       "      <td>0</td>\n",
       "      <td>0</td>\n",
       "      <td>0</td>\n",
       "      <td>0</td>\n",
       "      <td>0</td>\n",
       "      <td>0</td>\n",
       "      <td>0</td>\n",
       "      <td>0</td>\n",
       "      <td>0</td>\n",
       "    </tr>\n",
       "    <tr>\n",
       "      <th>60</th>\n",
       "      <td>20975.0</td>\n",
       "      <td>60</td>\n",
       "      <td>12.39</td>\n",
       "      <td>470.73</td>\n",
       "      <td>10.0</td>\n",
       "      <td>46800.0</td>\n",
       "      <td>20.79</td>\n",
       "      <td>4.0</td>\n",
       "      <td>0.0</td>\n",
       "      <td>50.0</td>\n",
       "      <td>...</td>\n",
       "      <td>0</td>\n",
       "      <td>0</td>\n",
       "      <td>0</td>\n",
       "      <td>0</td>\n",
       "      <td>0</td>\n",
       "      <td>0</td>\n",
       "      <td>0</td>\n",
       "      <td>0</td>\n",
       "      <td>0</td>\n",
       "      <td>0</td>\n",
       "    </tr>\n",
       "    <tr>\n",
       "      <th>62</th>\n",
       "      <td>32800.0</td>\n",
       "      <td>60</td>\n",
       "      <td>12.39</td>\n",
       "      <td>736.10</td>\n",
       "      <td>10.0</td>\n",
       "      <td>133995.0</td>\n",
       "      <td>9.21</td>\n",
       "      <td>10.0</td>\n",
       "      <td>0.0</td>\n",
       "      <td>30.0</td>\n",
       "      <td>...</td>\n",
       "      <td>0</td>\n",
       "      <td>0</td>\n",
       "      <td>0</td>\n",
       "      <td>0</td>\n",
       "      <td>0</td>\n",
       "      <td>0</td>\n",
       "      <td>0</td>\n",
       "      <td>0</td>\n",
       "      <td>0</td>\n",
       "      <td>0</td>\n",
       "    </tr>\n",
       "    <tr>\n",
       "      <th>67</th>\n",
       "      <td>9000.0</td>\n",
       "      <td>36</td>\n",
       "      <td>16.49</td>\n",
       "      <td>318.60</td>\n",
       "      <td>1.0</td>\n",
       "      <td>32000.0</td>\n",
       "      <td>23.78</td>\n",
       "      <td>8.0</td>\n",
       "      <td>0.0</td>\n",
       "      <td>15.0</td>\n",
       "      <td>...</td>\n",
       "      <td>0</td>\n",
       "      <td>0</td>\n",
       "      <td>0</td>\n",
       "      <td>0</td>\n",
       "      <td>0</td>\n",
       "      <td>0</td>\n",
       "      <td>0</td>\n",
       "      <td>0</td>\n",
       "      <td>0</td>\n",
       "      <td>0</td>\n",
       "    </tr>\n",
       "    <tr>\n",
       "      <th>70</th>\n",
       "      <td>10000.0</td>\n",
       "      <td>36</td>\n",
       "      <td>10.49</td>\n",
       "      <td>324.98</td>\n",
       "      <td>10.0</td>\n",
       "      <td>117000.0</td>\n",
       "      <td>25.65</td>\n",
       "      <td>11.0</td>\n",
       "      <td>0.0</td>\n",
       "      <td>36.0</td>\n",
       "      <td>...</td>\n",
       "      <td>0</td>\n",
       "      <td>0</td>\n",
       "      <td>0</td>\n",
       "      <td>0</td>\n",
       "      <td>0</td>\n",
       "      <td>0</td>\n",
       "      <td>0</td>\n",
       "      <td>0</td>\n",
       "      <td>0</td>\n",
       "      <td>0</td>\n",
       "    </tr>\n",
       "    <tr>\n",
       "      <th>75</th>\n",
       "      <td>24000.0</td>\n",
       "      <td>60</td>\n",
       "      <td>13.66</td>\n",
       "      <td>554.22</td>\n",
       "      <td>8.0</td>\n",
       "      <td>60000.0</td>\n",
       "      <td>33.62</td>\n",
       "      <td>27.0</td>\n",
       "      <td>0.0</td>\n",
       "      <td>59.0</td>\n",
       "      <td>...</td>\n",
       "      <td>0</td>\n",
       "      <td>0</td>\n",
       "      <td>0</td>\n",
       "      <td>0</td>\n",
       "      <td>0</td>\n",
       "      <td>0</td>\n",
       "      <td>0</td>\n",
       "      <td>0</td>\n",
       "      <td>0</td>\n",
       "      <td>0</td>\n",
       "    </tr>\n",
       "    <tr>\n",
       "      <th>79</th>\n",
       "      <td>21000.0</td>\n",
       "      <td>36</td>\n",
       "      <td>12.99</td>\n",
       "      <td>707.48</td>\n",
       "      <td>3.0</td>\n",
       "      <td>75000.0</td>\n",
       "      <td>5.68</td>\n",
       "      <td>8.0</td>\n",
       "      <td>0.0</td>\n",
       "      <td>28.0</td>\n",
       "      <td>...</td>\n",
       "      <td>0</td>\n",
       "      <td>0</td>\n",
       "      <td>0</td>\n",
       "      <td>0</td>\n",
       "      <td>0</td>\n",
       "      <td>0</td>\n",
       "      <td>0</td>\n",
       "      <td>0</td>\n",
       "      <td>0</td>\n",
       "      <td>0</td>\n",
       "    </tr>\n",
       "    <tr>\n",
       "      <th>81</th>\n",
       "      <td>13375.0</td>\n",
       "      <td>60</td>\n",
       "      <td>18.54</td>\n",
       "      <td>343.58</td>\n",
       "      <td>10.0</td>\n",
       "      <td>41000.0</td>\n",
       "      <td>17.77</td>\n",
       "      <td>5.0</td>\n",
       "      <td>0.0</td>\n",
       "      <td>11.0</td>\n",
       "      <td>...</td>\n",
       "      <td>0</td>\n",
       "      <td>0</td>\n",
       "      <td>0</td>\n",
       "      <td>0</td>\n",
       "      <td>0</td>\n",
       "      <td>0</td>\n",
       "      <td>0</td>\n",
       "      <td>0</td>\n",
       "      <td>0</td>\n",
       "      <td>0</td>\n",
       "    </tr>\n",
       "    <tr>\n",
       "      <th>91</th>\n",
       "      <td>28000.0</td>\n",
       "      <td>36</td>\n",
       "      <td>17.86</td>\n",
       "      <td>1010.31</td>\n",
       "      <td>5.0</td>\n",
       "      <td>99789.0</td>\n",
       "      <td>19.69</td>\n",
       "      <td>14.0</td>\n",
       "      <td>0.0</td>\n",
       "      <td>20.0</td>\n",
       "      <td>...</td>\n",
       "      <td>0</td>\n",
       "      <td>0</td>\n",
       "      <td>0</td>\n",
       "      <td>0</td>\n",
       "      <td>0</td>\n",
       "      <td>0</td>\n",
       "      <td>0</td>\n",
       "      <td>0</td>\n",
       "      <td>0</td>\n",
       "      <td>0</td>\n",
       "    </tr>\n",
       "    <tr>\n",
       "      <th>98</th>\n",
       "      <td>15000.0</td>\n",
       "      <td>36</td>\n",
       "      <td>6.99</td>\n",
       "      <td>463.09</td>\n",
       "      <td>5.0</td>\n",
       "      <td>108150.0</td>\n",
       "      <td>25.61</td>\n",
       "      <td>13.0</td>\n",
       "      <td>0.0</td>\n",
       "      <td>23.0</td>\n",
       "      <td>...</td>\n",
       "      <td>0</td>\n",
       "      <td>0</td>\n",
       "      <td>0</td>\n",
       "      <td>0</td>\n",
       "      <td>0</td>\n",
       "      <td>0</td>\n",
       "      <td>0</td>\n",
       "      <td>0</td>\n",
       "      <td>0</td>\n",
       "      <td>0</td>\n",
       "    </tr>\n",
       "    <tr>\n",
       "      <th>99</th>\n",
       "      <td>5000.0</td>\n",
       "      <td>36</td>\n",
       "      <td>11.44</td>\n",
       "      <td>164.74</td>\n",
       "      <td>10.0</td>\n",
       "      <td>33000.0</td>\n",
       "      <td>21.20</td>\n",
       "      <td>7.0</td>\n",
       "      <td>1.0</td>\n",
       "      <td>25.0</td>\n",
       "      <td>...</td>\n",
       "      <td>0</td>\n",
       "      <td>0</td>\n",
       "      <td>0</td>\n",
       "      <td>0</td>\n",
       "      <td>0</td>\n",
       "      <td>0</td>\n",
       "      <td>0</td>\n",
       "      <td>0</td>\n",
       "      <td>0</td>\n",
       "      <td>0</td>\n",
       "    </tr>\n",
       "    <tr>\n",
       "      <th>100</th>\n",
       "      <td>6000.0</td>\n",
       "      <td>36</td>\n",
       "      <td>11.99</td>\n",
       "      <td>199.26</td>\n",
       "      <td>5.0</td>\n",
       "      <td>32500.0</td>\n",
       "      <td>28.06</td>\n",
       "      <td>9.0</td>\n",
       "      <td>0.0</td>\n",
       "      <td>13.0</td>\n",
       "      <td>...</td>\n",
       "      <td>0</td>\n",
       "      <td>0</td>\n",
       "      <td>0</td>\n",
       "      <td>0</td>\n",
       "      <td>0</td>\n",
       "      <td>0</td>\n",
       "      <td>0</td>\n",
       "      <td>1</td>\n",
       "      <td>0</td>\n",
       "      <td>0</td>\n",
       "    </tr>\n",
       "    <tr>\n",
       "      <th>101</th>\n",
       "      <td>19000.0</td>\n",
       "      <td>36</td>\n",
       "      <td>9.49</td>\n",
       "      <td>608.54</td>\n",
       "      <td>5.0</td>\n",
       "      <td>75000.0</td>\n",
       "      <td>20.39</td>\n",
       "      <td>10.0</td>\n",
       "      <td>0.0</td>\n",
       "      <td>28.0</td>\n",
       "      <td>...</td>\n",
       "      <td>0</td>\n",
       "      <td>0</td>\n",
       "      <td>0</td>\n",
       "      <td>0</td>\n",
       "      <td>0</td>\n",
       "      <td>0</td>\n",
       "      <td>0</td>\n",
       "      <td>0</td>\n",
       "      <td>0</td>\n",
       "      <td>0</td>\n",
       "    </tr>\n",
       "    <tr>\n",
       "      <th>104</th>\n",
       "      <td>18000.0</td>\n",
       "      <td>36</td>\n",
       "      <td>11.44</td>\n",
       "      <td>593.06</td>\n",
       "      <td>3.0</td>\n",
       "      <td>109000.0</td>\n",
       "      <td>22.07</td>\n",
       "      <td>15.0</td>\n",
       "      <td>0.0</td>\n",
       "      <td>51.0</td>\n",
       "      <td>...</td>\n",
       "      <td>0</td>\n",
       "      <td>0</td>\n",
       "      <td>0</td>\n",
       "      <td>0</td>\n",
       "      <td>0</td>\n",
       "      <td>0</td>\n",
       "      <td>0</td>\n",
       "      <td>0</td>\n",
       "      <td>0</td>\n",
       "      <td>0</td>\n",
       "    </tr>\n",
       "    <tr>\n",
       "      <th>105</th>\n",
       "      <td>6000.0</td>\n",
       "      <td>36</td>\n",
       "      <td>12.39</td>\n",
       "      <td>200.41</td>\n",
       "      <td>4.0</td>\n",
       "      <td>26000.0</td>\n",
       "      <td>28.81</td>\n",
       "      <td>12.0</td>\n",
       "      <td>0.0</td>\n",
       "      <td>24.0</td>\n",
       "      <td>...</td>\n",
       "      <td>0</td>\n",
       "      <td>0</td>\n",
       "      <td>0</td>\n",
       "      <td>0</td>\n",
       "      <td>0</td>\n",
       "      <td>0</td>\n",
       "      <td>0</td>\n",
       "      <td>0</td>\n",
       "      <td>0</td>\n",
       "      <td>0</td>\n",
       "    </tr>\n",
       "    <tr>\n",
       "      <th>112</th>\n",
       "      <td>8000.0</td>\n",
       "      <td>36</td>\n",
       "      <td>12.39</td>\n",
       "      <td>267.21</td>\n",
       "      <td>9.0</td>\n",
       "      <td>45000.0</td>\n",
       "      <td>26.75</td>\n",
       "      <td>8.0</td>\n",
       "      <td>0.0</td>\n",
       "      <td>18.0</td>\n",
       "      <td>...</td>\n",
       "      <td>0</td>\n",
       "      <td>0</td>\n",
       "      <td>0</td>\n",
       "      <td>0</td>\n",
       "      <td>0</td>\n",
       "      <td>0</td>\n",
       "      <td>0</td>\n",
       "      <td>0</td>\n",
       "      <td>0</td>\n",
       "      <td>0</td>\n",
       "    </tr>\n",
       "    <tr>\n",
       "      <th>...</th>\n",
       "      <td>...</td>\n",
       "      <td>...</td>\n",
       "      <td>...</td>\n",
       "      <td>...</td>\n",
       "      <td>...</td>\n",
       "      <td>...</td>\n",
       "      <td>...</td>\n",
       "      <td>...</td>\n",
       "      <td>...</td>\n",
       "      <td>...</td>\n",
       "      <td>...</td>\n",
       "      <td>...</td>\n",
       "      <td>...</td>\n",
       "      <td>...</td>\n",
       "      <td>...</td>\n",
       "      <td>...</td>\n",
       "      <td>...</td>\n",
       "      <td>...</td>\n",
       "      <td>...</td>\n",
       "      <td>...</td>\n",
       "      <td>...</td>\n",
       "    </tr>\n",
       "    <tr>\n",
       "      <th>1646751</th>\n",
       "      <td>19700.0</td>\n",
       "      <td>36</td>\n",
       "      <td>9.76</td>\n",
       "      <td>633.45</td>\n",
       "      <td>4.0</td>\n",
       "      <td>73746.0</td>\n",
       "      <td>13.03</td>\n",
       "      <td>8.0</td>\n",
       "      <td>1.0</td>\n",
       "      <td>14.0</td>\n",
       "      <td>...</td>\n",
       "      <td>0</td>\n",
       "      <td>0</td>\n",
       "      <td>0</td>\n",
       "      <td>0</td>\n",
       "      <td>0</td>\n",
       "      <td>0</td>\n",
       "      <td>0</td>\n",
       "      <td>0</td>\n",
       "      <td>0</td>\n",
       "      <td>0</td>\n",
       "    </tr>\n",
       "    <tr>\n",
       "      <th>1646754</th>\n",
       "      <td>24700.0</td>\n",
       "      <td>60</td>\n",
       "      <td>18.99</td>\n",
       "      <td>640.60</td>\n",
       "      <td>10.0</td>\n",
       "      <td>55000.0</td>\n",
       "      <td>11.43</td>\n",
       "      <td>11.0</td>\n",
       "      <td>0.0</td>\n",
       "      <td>18.0</td>\n",
       "      <td>...</td>\n",
       "      <td>0</td>\n",
       "      <td>0</td>\n",
       "      <td>0</td>\n",
       "      <td>0</td>\n",
       "      <td>0</td>\n",
       "      <td>0</td>\n",
       "      <td>0</td>\n",
       "      <td>0</td>\n",
       "      <td>0</td>\n",
       "      <td>0</td>\n",
       "    </tr>\n",
       "    <tr>\n",
       "      <th>1646755</th>\n",
       "      <td>15000.0</td>\n",
       "      <td>36</td>\n",
       "      <td>10.64</td>\n",
       "      <td>488.53</td>\n",
       "      <td>10.0</td>\n",
       "      <td>42000.0</td>\n",
       "      <td>19.86</td>\n",
       "      <td>5.0</td>\n",
       "      <td>0.0</td>\n",
       "      <td>7.0</td>\n",
       "      <td>...</td>\n",
       "      <td>0</td>\n",
       "      <td>0</td>\n",
       "      <td>0</td>\n",
       "      <td>0</td>\n",
       "      <td>0</td>\n",
       "      <td>0</td>\n",
       "      <td>0</td>\n",
       "      <td>0</td>\n",
       "      <td>0</td>\n",
       "      <td>0</td>\n",
       "    </tr>\n",
       "    <tr>\n",
       "      <th>1646761</th>\n",
       "      <td>7625.0</td>\n",
       "      <td>36</td>\n",
       "      <td>9.76</td>\n",
       "      <td>245.18</td>\n",
       "      <td>10.0</td>\n",
       "      <td>75000.0</td>\n",
       "      <td>18.24</td>\n",
       "      <td>12.0</td>\n",
       "      <td>0.0</td>\n",
       "      <td>27.0</td>\n",
       "      <td>...</td>\n",
       "      <td>0</td>\n",
       "      <td>0</td>\n",
       "      <td>0</td>\n",
       "      <td>0</td>\n",
       "      <td>0</td>\n",
       "      <td>0</td>\n",
       "      <td>0</td>\n",
       "      <td>0</td>\n",
       "      <td>0</td>\n",
       "      <td>0</td>\n",
       "    </tr>\n",
       "    <tr>\n",
       "      <th>1646763</th>\n",
       "      <td>10975.0</td>\n",
       "      <td>60</td>\n",
       "      <td>18.20</td>\n",
       "      <td>279.89</td>\n",
       "      <td>3.0</td>\n",
       "      <td>45600.0</td>\n",
       "      <td>20.31</td>\n",
       "      <td>21.0</td>\n",
       "      <td>0.0</td>\n",
       "      <td>24.0</td>\n",
       "      <td>...</td>\n",
       "      <td>0</td>\n",
       "      <td>0</td>\n",
       "      <td>0</td>\n",
       "      <td>0</td>\n",
       "      <td>0</td>\n",
       "      <td>0</td>\n",
       "      <td>0</td>\n",
       "      <td>0</td>\n",
       "      <td>0</td>\n",
       "      <td>0</td>\n",
       "    </tr>\n",
       "    <tr>\n",
       "      <th>1646765</th>\n",
       "      <td>7000.0</td>\n",
       "      <td>36</td>\n",
       "      <td>14.48</td>\n",
       "      <td>240.88</td>\n",
       "      <td>0.0</td>\n",
       "      <td>70000.0</td>\n",
       "      <td>25.37</td>\n",
       "      <td>7.0</td>\n",
       "      <td>0.0</td>\n",
       "      <td>12.0</td>\n",
       "      <td>...</td>\n",
       "      <td>0</td>\n",
       "      <td>0</td>\n",
       "      <td>0</td>\n",
       "      <td>0</td>\n",
       "      <td>0</td>\n",
       "      <td>0</td>\n",
       "      <td>0</td>\n",
       "      <td>0</td>\n",
       "      <td>0</td>\n",
       "      <td>0</td>\n",
       "    </tr>\n",
       "    <tr>\n",
       "      <th>1646766</th>\n",
       "      <td>15000.0</td>\n",
       "      <td>36</td>\n",
       "      <td>7.89</td>\n",
       "      <td>469.29</td>\n",
       "      <td>0.0</td>\n",
       "      <td>36000.0</td>\n",
       "      <td>23.17</td>\n",
       "      <td>11.0</td>\n",
       "      <td>0.0</td>\n",
       "      <td>20.0</td>\n",
       "      <td>...</td>\n",
       "      <td>0</td>\n",
       "      <td>0</td>\n",
       "      <td>0</td>\n",
       "      <td>0</td>\n",
       "      <td>0</td>\n",
       "      <td>0</td>\n",
       "      <td>0</td>\n",
       "      <td>0</td>\n",
       "      <td>0</td>\n",
       "      <td>0</td>\n",
       "    </tr>\n",
       "    <tr>\n",
       "      <th>1646767</th>\n",
       "      <td>22000.0</td>\n",
       "      <td>60</td>\n",
       "      <td>13.18</td>\n",
       "      <td>502.60</td>\n",
       "      <td>0.0</td>\n",
       "      <td>51371.0</td>\n",
       "      <td>28.81</td>\n",
       "      <td>12.0</td>\n",
       "      <td>0.0</td>\n",
       "      <td>21.0</td>\n",
       "      <td>...</td>\n",
       "      <td>0</td>\n",
       "      <td>0</td>\n",
       "      <td>0</td>\n",
       "      <td>0</td>\n",
       "      <td>0</td>\n",
       "      <td>0</td>\n",
       "      <td>0</td>\n",
       "      <td>0</td>\n",
       "      <td>0</td>\n",
       "      <td>0</td>\n",
       "    </tr>\n",
       "    <tr>\n",
       "      <th>1646768</th>\n",
       "      <td>5200.0</td>\n",
       "      <td>36</td>\n",
       "      <td>16.55</td>\n",
       "      <td>184.24</td>\n",
       "      <td>1.0</td>\n",
       "      <td>38000.0</td>\n",
       "      <td>5.43</td>\n",
       "      <td>6.0</td>\n",
       "      <td>0.0</td>\n",
       "      <td>12.0</td>\n",
       "      <td>...</td>\n",
       "      <td>0</td>\n",
       "      <td>0</td>\n",
       "      <td>0</td>\n",
       "      <td>0</td>\n",
       "      <td>0</td>\n",
       "      <td>0</td>\n",
       "      <td>0</td>\n",
       "      <td>0</td>\n",
       "      <td>0</td>\n",
       "      <td>0</td>\n",
       "    </tr>\n",
       "    <tr>\n",
       "      <th>1646769</th>\n",
       "      <td>15000.0</td>\n",
       "      <td>36</td>\n",
       "      <td>7.89</td>\n",
       "      <td>469.29</td>\n",
       "      <td>1.0</td>\n",
       "      <td>36000.0</td>\n",
       "      <td>14.20</td>\n",
       "      <td>9.0</td>\n",
       "      <td>0.0</td>\n",
       "      <td>14.0</td>\n",
       "      <td>...</td>\n",
       "      <td>0</td>\n",
       "      <td>0</td>\n",
       "      <td>0</td>\n",
       "      <td>0</td>\n",
       "      <td>0</td>\n",
       "      <td>0</td>\n",
       "      <td>0</td>\n",
       "      <td>0</td>\n",
       "      <td>0</td>\n",
       "      <td>0</td>\n",
       "    </tr>\n",
       "    <tr>\n",
       "      <th>1646770</th>\n",
       "      <td>15000.0</td>\n",
       "      <td>36</td>\n",
       "      <td>6.89</td>\n",
       "      <td>462.41</td>\n",
       "      <td>10.0</td>\n",
       "      <td>125000.0</td>\n",
       "      <td>11.99</td>\n",
       "      <td>7.0</td>\n",
       "      <td>0.0</td>\n",
       "      <td>27.0</td>\n",
       "      <td>...</td>\n",
       "      <td>0</td>\n",
       "      <td>0</td>\n",
       "      <td>0</td>\n",
       "      <td>0</td>\n",
       "      <td>0</td>\n",
       "      <td>0</td>\n",
       "      <td>0</td>\n",
       "      <td>0</td>\n",
       "      <td>0</td>\n",
       "      <td>0</td>\n",
       "    </tr>\n",
       "    <tr>\n",
       "      <th>1646772</th>\n",
       "      <td>10000.0</td>\n",
       "      <td>36</td>\n",
       "      <td>11.22</td>\n",
       "      <td>328.43</td>\n",
       "      <td>3.0</td>\n",
       "      <td>20800.0</td>\n",
       "      <td>16.96</td>\n",
       "      <td>14.0</td>\n",
       "      <td>0.0</td>\n",
       "      <td>25.0</td>\n",
       "      <td>...</td>\n",
       "      <td>0</td>\n",
       "      <td>0</td>\n",
       "      <td>0</td>\n",
       "      <td>0</td>\n",
       "      <td>0</td>\n",
       "      <td>0</td>\n",
       "      <td>0</td>\n",
       "      <td>0</td>\n",
       "      <td>0</td>\n",
       "      <td>0</td>\n",
       "    </tr>\n",
       "    <tr>\n",
       "      <th>1646773</th>\n",
       "      <td>11000.0</td>\n",
       "      <td>36</td>\n",
       "      <td>9.17</td>\n",
       "      <td>350.67</td>\n",
       "      <td>8.0</td>\n",
       "      <td>71000.0</td>\n",
       "      <td>7.35</td>\n",
       "      <td>8.0</td>\n",
       "      <td>1.0</td>\n",
       "      <td>19.0</td>\n",
       "      <td>...</td>\n",
       "      <td>0</td>\n",
       "      <td>0</td>\n",
       "      <td>0</td>\n",
       "      <td>0</td>\n",
       "      <td>0</td>\n",
       "      <td>0</td>\n",
       "      <td>0</td>\n",
       "      <td>0</td>\n",
       "      <td>0</td>\n",
       "      <td>0</td>\n",
       "    </tr>\n",
       "    <tr>\n",
       "      <th>1646774</th>\n",
       "      <td>6000.0</td>\n",
       "      <td>36</td>\n",
       "      <td>11.99</td>\n",
       "      <td>199.26</td>\n",
       "      <td>0.0</td>\n",
       "      <td>15000.0</td>\n",
       "      <td>16.08</td>\n",
       "      <td>7.0</td>\n",
       "      <td>0.0</td>\n",
       "      <td>7.0</td>\n",
       "      <td>...</td>\n",
       "      <td>0</td>\n",
       "      <td>0</td>\n",
       "      <td>0</td>\n",
       "      <td>0</td>\n",
       "      <td>0</td>\n",
       "      <td>0</td>\n",
       "      <td>0</td>\n",
       "      <td>0</td>\n",
       "      <td>0</td>\n",
       "      <td>0</td>\n",
       "    </tr>\n",
       "    <tr>\n",
       "      <th>1646775</th>\n",
       "      <td>4500.0</td>\n",
       "      <td>36</td>\n",
       "      <td>9.76</td>\n",
       "      <td>144.70</td>\n",
       "      <td>9.0</td>\n",
       "      <td>79000.0</td>\n",
       "      <td>20.10</td>\n",
       "      <td>12.0</td>\n",
       "      <td>0.0</td>\n",
       "      <td>14.0</td>\n",
       "      <td>...</td>\n",
       "      <td>0</td>\n",
       "      <td>0</td>\n",
       "      <td>0</td>\n",
       "      <td>0</td>\n",
       "      <td>0</td>\n",
       "      <td>0</td>\n",
       "      <td>0</td>\n",
       "      <td>0</td>\n",
       "      <td>0</td>\n",
       "      <td>0</td>\n",
       "    </tr>\n",
       "    <tr>\n",
       "      <th>1646776</th>\n",
       "      <td>7500.0</td>\n",
       "      <td>36</td>\n",
       "      <td>9.76</td>\n",
       "      <td>241.16</td>\n",
       "      <td>3.0</td>\n",
       "      <td>48000.0</td>\n",
       "      <td>9.18</td>\n",
       "      <td>10.0</td>\n",
       "      <td>0.0</td>\n",
       "      <td>14.0</td>\n",
       "      <td>...</td>\n",
       "      <td>0</td>\n",
       "      <td>0</td>\n",
       "      <td>0</td>\n",
       "      <td>0</td>\n",
       "      <td>0</td>\n",
       "      <td>0</td>\n",
       "      <td>0</td>\n",
       "      <td>0</td>\n",
       "      <td>0</td>\n",
       "      <td>0</td>\n",
       "    </tr>\n",
       "    <tr>\n",
       "      <th>1646777</th>\n",
       "      <td>16800.0</td>\n",
       "      <td>36</td>\n",
       "      <td>7.26</td>\n",
       "      <td>520.74</td>\n",
       "      <td>0.0</td>\n",
       "      <td>62000.0</td>\n",
       "      <td>23.40</td>\n",
       "      <td>7.0</td>\n",
       "      <td>0.0</td>\n",
       "      <td>9.0</td>\n",
       "      <td>...</td>\n",
       "      <td>0</td>\n",
       "      <td>0</td>\n",
       "      <td>0</td>\n",
       "      <td>0</td>\n",
       "      <td>0</td>\n",
       "      <td>0</td>\n",
       "      <td>0</td>\n",
       "      <td>0</td>\n",
       "      <td>0</td>\n",
       "      <td>0</td>\n",
       "    </tr>\n",
       "    <tr>\n",
       "      <th>1646778</th>\n",
       "      <td>34000.0</td>\n",
       "      <td>36</td>\n",
       "      <td>9.76</td>\n",
       "      <td>1093.26</td>\n",
       "      <td>10.0</td>\n",
       "      <td>179000.0</td>\n",
       "      <td>27.93</td>\n",
       "      <td>14.0</td>\n",
       "      <td>0.0</td>\n",
       "      <td>42.0</td>\n",
       "      <td>...</td>\n",
       "      <td>0</td>\n",
       "      <td>0</td>\n",
       "      <td>0</td>\n",
       "      <td>0</td>\n",
       "      <td>0</td>\n",
       "      <td>0</td>\n",
       "      <td>0</td>\n",
       "      <td>0</td>\n",
       "      <td>0</td>\n",
       "      <td>0</td>\n",
       "    </tr>\n",
       "    <tr>\n",
       "      <th>1646779</th>\n",
       "      <td>8500.0</td>\n",
       "      <td>36</td>\n",
       "      <td>13.18</td>\n",
       "      <td>287.14</td>\n",
       "      <td>10.0</td>\n",
       "      <td>180000.0</td>\n",
       "      <td>4.00</td>\n",
       "      <td>20.0</td>\n",
       "      <td>6.0</td>\n",
       "      <td>33.0</td>\n",
       "      <td>...</td>\n",
       "      <td>0</td>\n",
       "      <td>0</td>\n",
       "      <td>0</td>\n",
       "      <td>0</td>\n",
       "      <td>0</td>\n",
       "      <td>0</td>\n",
       "      <td>0</td>\n",
       "      <td>0</td>\n",
       "      <td>0</td>\n",
       "      <td>0</td>\n",
       "    </tr>\n",
       "    <tr>\n",
       "      <th>1646782</th>\n",
       "      <td>12600.0</td>\n",
       "      <td>60</td>\n",
       "      <td>18.99</td>\n",
       "      <td>326.79</td>\n",
       "      <td>8.0</td>\n",
       "      <td>35000.0</td>\n",
       "      <td>35.97</td>\n",
       "      <td>9.0</td>\n",
       "      <td>0.0</td>\n",
       "      <td>14.0</td>\n",
       "      <td>...</td>\n",
       "      <td>0</td>\n",
       "      <td>0</td>\n",
       "      <td>0</td>\n",
       "      <td>0</td>\n",
       "      <td>0</td>\n",
       "      <td>0</td>\n",
       "      <td>0</td>\n",
       "      <td>0</td>\n",
       "      <td>0</td>\n",
       "      <td>0</td>\n",
       "    </tr>\n",
       "    <tr>\n",
       "      <th>1646783</th>\n",
       "      <td>12000.0</td>\n",
       "      <td>36</td>\n",
       "      <td>9.76</td>\n",
       "      <td>385.86</td>\n",
       "      <td>10.0</td>\n",
       "      <td>61500.0</td>\n",
       "      <td>12.00</td>\n",
       "      <td>13.0</td>\n",
       "      <td>0.0</td>\n",
       "      <td>21.0</td>\n",
       "      <td>...</td>\n",
       "      <td>0</td>\n",
       "      <td>0</td>\n",
       "      <td>0</td>\n",
       "      <td>1</td>\n",
       "      <td>0</td>\n",
       "      <td>0</td>\n",
       "      <td>0</td>\n",
       "      <td>0</td>\n",
       "      <td>0</td>\n",
       "      <td>0</td>\n",
       "    </tr>\n",
       "    <tr>\n",
       "      <th>1646784</th>\n",
       "      <td>5000.0</td>\n",
       "      <td>36</td>\n",
       "      <td>13.18</td>\n",
       "      <td>168.91</td>\n",
       "      <td>4.0</td>\n",
       "      <td>42000.0</td>\n",
       "      <td>6.08</td>\n",
       "      <td>17.0</td>\n",
       "      <td>0.0</td>\n",
       "      <td>18.0</td>\n",
       "      <td>...</td>\n",
       "      <td>0</td>\n",
       "      <td>0</td>\n",
       "      <td>0</td>\n",
       "      <td>0</td>\n",
       "      <td>0</td>\n",
       "      <td>0</td>\n",
       "      <td>0</td>\n",
       "      <td>0</td>\n",
       "      <td>0</td>\n",
       "      <td>0</td>\n",
       "    </tr>\n",
       "    <tr>\n",
       "      <th>1646786</th>\n",
       "      <td>12950.0</td>\n",
       "      <td>36</td>\n",
       "      <td>15.41</td>\n",
       "      <td>451.53</td>\n",
       "      <td>4.0</td>\n",
       "      <td>36000.0</td>\n",
       "      <td>38.57</td>\n",
       "      <td>11.0</td>\n",
       "      <td>0.0</td>\n",
       "      <td>22.0</td>\n",
       "      <td>...</td>\n",
       "      <td>0</td>\n",
       "      <td>0</td>\n",
       "      <td>0</td>\n",
       "      <td>0</td>\n",
       "      <td>0</td>\n",
       "      <td>0</td>\n",
       "      <td>0</td>\n",
       "      <td>0</td>\n",
       "      <td>0</td>\n",
       "      <td>0</td>\n",
       "    </tr>\n",
       "    <tr>\n",
       "      <th>1646787</th>\n",
       "      <td>24000.0</td>\n",
       "      <td>36</td>\n",
       "      <td>5.32</td>\n",
       "      <td>722.76</td>\n",
       "      <td>2.0</td>\n",
       "      <td>100000.0</td>\n",
       "      <td>19.27</td>\n",
       "      <td>10.0</td>\n",
       "      <td>0.0</td>\n",
       "      <td>24.0</td>\n",
       "      <td>...</td>\n",
       "      <td>0</td>\n",
       "      <td>0</td>\n",
       "      <td>0</td>\n",
       "      <td>0</td>\n",
       "      <td>0</td>\n",
       "      <td>0</td>\n",
       "      <td>0</td>\n",
       "      <td>0</td>\n",
       "      <td>0</td>\n",
       "      <td>0</td>\n",
       "    </tr>\n",
       "    <tr>\n",
       "      <th>1646788</th>\n",
       "      <td>21175.0</td>\n",
       "      <td>60</td>\n",
       "      <td>19.99</td>\n",
       "      <td>560.90</td>\n",
       "      <td>0.0</td>\n",
       "      <td>56000.0</td>\n",
       "      <td>31.12</td>\n",
       "      <td>9.0</td>\n",
       "      <td>0.0</td>\n",
       "      <td>13.0</td>\n",
       "      <td>...</td>\n",
       "      <td>0</td>\n",
       "      <td>1</td>\n",
       "      <td>0</td>\n",
       "      <td>0</td>\n",
       "      <td>0</td>\n",
       "      <td>0</td>\n",
       "      <td>0</td>\n",
       "      <td>0</td>\n",
       "      <td>0</td>\n",
       "      <td>0</td>\n",
       "    </tr>\n",
       "    <tr>\n",
       "      <th>1646793</th>\n",
       "      <td>5000.0</td>\n",
       "      <td>36</td>\n",
       "      <td>9.17</td>\n",
       "      <td>159.40</td>\n",
       "      <td>0.0</td>\n",
       "      <td>33000.0</td>\n",
       "      <td>28.95</td>\n",
       "      <td>9.0</td>\n",
       "      <td>0.0</td>\n",
       "      <td>12.0</td>\n",
       "      <td>...</td>\n",
       "      <td>0</td>\n",
       "      <td>0</td>\n",
       "      <td>0</td>\n",
       "      <td>0</td>\n",
       "      <td>0</td>\n",
       "      <td>0</td>\n",
       "      <td>0</td>\n",
       "      <td>0</td>\n",
       "      <td>0</td>\n",
       "      <td>0</td>\n",
       "    </tr>\n",
       "    <tr>\n",
       "      <th>1646794</th>\n",
       "      <td>6000.0</td>\n",
       "      <td>36</td>\n",
       "      <td>7.89</td>\n",
       "      <td>187.72</td>\n",
       "      <td>0.0</td>\n",
       "      <td>38000.0</td>\n",
       "      <td>12.35</td>\n",
       "      <td>10.0</td>\n",
       "      <td>0.0</td>\n",
       "      <td>14.0</td>\n",
       "      <td>...</td>\n",
       "      <td>0</td>\n",
       "      <td>0</td>\n",
       "      <td>0</td>\n",
       "      <td>0</td>\n",
       "      <td>0</td>\n",
       "      <td>0</td>\n",
       "      <td>0</td>\n",
       "      <td>0</td>\n",
       "      <td>0</td>\n",
       "      <td>0</td>\n",
       "    </tr>\n",
       "    <tr>\n",
       "      <th>1646795</th>\n",
       "      <td>6000.0</td>\n",
       "      <td>36</td>\n",
       "      <td>9.17</td>\n",
       "      <td>191.28</td>\n",
       "      <td>0.0</td>\n",
       "      <td>32640.0</td>\n",
       "      <td>22.76</td>\n",
       "      <td>9.0</td>\n",
       "      <td>1.0</td>\n",
       "      <td>17.0</td>\n",
       "      <td>...</td>\n",
       "      <td>0</td>\n",
       "      <td>0</td>\n",
       "      <td>0</td>\n",
       "      <td>0</td>\n",
       "      <td>0</td>\n",
       "      <td>0</td>\n",
       "      <td>0</td>\n",
       "      <td>0</td>\n",
       "      <td>0</td>\n",
       "      <td>0</td>\n",
       "    </tr>\n",
       "    <tr>\n",
       "      <th>1646797</th>\n",
       "      <td>34050.0</td>\n",
       "      <td>36</td>\n",
       "      <td>15.41</td>\n",
       "      <td>1187.21</td>\n",
       "      <td>10.0</td>\n",
       "      <td>87800.0</td>\n",
       "      <td>12.10</td>\n",
       "      <td>14.0</td>\n",
       "      <td>0.0</td>\n",
       "      <td>21.0</td>\n",
       "      <td>...</td>\n",
       "      <td>0</td>\n",
       "      <td>0</td>\n",
       "      <td>0</td>\n",
       "      <td>0</td>\n",
       "      <td>0</td>\n",
       "      <td>0</td>\n",
       "      <td>0</td>\n",
       "      <td>0</td>\n",
       "      <td>0</td>\n",
       "      <td>0</td>\n",
       "    </tr>\n",
       "    <tr>\n",
       "      <th>1646798</th>\n",
       "      <td>5000.0</td>\n",
       "      <td>36</td>\n",
       "      <td>11.22</td>\n",
       "      <td>164.22</td>\n",
       "      <td>7.0</td>\n",
       "      <td>65000.0</td>\n",
       "      <td>3.10</td>\n",
       "      <td>6.0</td>\n",
       "      <td>1.0</td>\n",
       "      <td>8.0</td>\n",
       "      <td>...</td>\n",
       "      <td>0</td>\n",
       "      <td>0</td>\n",
       "      <td>0</td>\n",
       "      <td>1</td>\n",
       "      <td>0</td>\n",
       "      <td>0</td>\n",
       "      <td>0</td>\n",
       "      <td>0</td>\n",
       "      <td>0</td>\n",
       "      <td>0</td>\n",
       "    </tr>\n",
       "  </tbody>\n",
       "</table>\n",
       "<p>788950 rows × 113 columns</p>\n",
       "</div>"
      ],
      "text/plain": [
       "         loan_amnt term  int_rate  installment  emp_length  annual_inc    dti  \\\n",
       "3          12800.0   60     17.14       319.08        10.0    125000.0   8.31   \n",
       "13         21075.0   60     21.99       581.95        10.0     55000.0  29.50   \n",
       "19         13550.0   60     19.99       358.92         5.0     40000.0  16.23   \n",
       "20          7200.0   36     12.39       240.49         5.0     84000.0  18.79   \n",
       "21         14000.0   36     10.49       454.97        10.0     42000.0  35.68   \n",
       "30         15000.0   60     20.99       405.72         3.0     48000.0  17.53   \n",
       "35         11175.0   36     19.99       415.25         7.0     31240.0  15.02   \n",
       "39         28000.0   60     15.59       674.83         3.0     90000.0  14.67   \n",
       "40         11000.0   36     12.99       370.59        10.0     60000.0  34.10   \n",
       "43          5000.0   36     13.66       170.07        10.0     54797.0  11.05   \n",
       "44          1500.0   36     14.31        51.50        10.0     53800.0  15.93   \n",
       "45         20000.0   60     14.31       468.59         0.0     84000.0  12.83   \n",
       "48         15000.0   60     11.99       333.60         3.0     40000.0  24.36   \n",
       "51         16000.0   60     17.14       398.85         1.0     40000.0  25.96   \n",
       "56          1000.0   36     11.99        33.21        10.0     45000.0  29.55   \n",
       "60         20975.0   60     12.39       470.73        10.0     46800.0  20.79   \n",
       "62         32800.0   60     12.39       736.10        10.0    133995.0   9.21   \n",
       "67          9000.0   36     16.49       318.60         1.0     32000.0  23.78   \n",
       "70         10000.0   36     10.49       324.98        10.0    117000.0  25.65   \n",
       "75         24000.0   60     13.66       554.22         8.0     60000.0  33.62   \n",
       "79         21000.0   36     12.99       707.48         3.0     75000.0   5.68   \n",
       "81         13375.0   60     18.54       343.58        10.0     41000.0  17.77   \n",
       "91         28000.0   36     17.86      1010.31         5.0     99789.0  19.69   \n",
       "98         15000.0   36      6.99       463.09         5.0    108150.0  25.61   \n",
       "99          5000.0   36     11.44       164.74        10.0     33000.0  21.20   \n",
       "100         6000.0   36     11.99       199.26         5.0     32500.0  28.06   \n",
       "101        19000.0   36      9.49       608.54         5.0     75000.0  20.39   \n",
       "104        18000.0   36     11.44       593.06         3.0    109000.0  22.07   \n",
       "105         6000.0   36     12.39       200.41         4.0     26000.0  28.81   \n",
       "112         8000.0   36     12.39       267.21         9.0     45000.0  26.75   \n",
       "...            ...  ...       ...          ...         ...         ...    ...   \n",
       "1646751    19700.0   36      9.76       633.45         4.0     73746.0  13.03   \n",
       "1646754    24700.0   60     18.99       640.60        10.0     55000.0  11.43   \n",
       "1646755    15000.0   36     10.64       488.53        10.0     42000.0  19.86   \n",
       "1646761     7625.0   36      9.76       245.18        10.0     75000.0  18.24   \n",
       "1646763    10975.0   60     18.20       279.89         3.0     45600.0  20.31   \n",
       "1646765     7000.0   36     14.48       240.88         0.0     70000.0  25.37   \n",
       "1646766    15000.0   36      7.89       469.29         0.0     36000.0  23.17   \n",
       "1646767    22000.0   60     13.18       502.60         0.0     51371.0  28.81   \n",
       "1646768     5200.0   36     16.55       184.24         1.0     38000.0   5.43   \n",
       "1646769    15000.0   36      7.89       469.29         1.0     36000.0  14.20   \n",
       "1646770    15000.0   36      6.89       462.41        10.0    125000.0  11.99   \n",
       "1646772    10000.0   36     11.22       328.43         3.0     20800.0  16.96   \n",
       "1646773    11000.0   36      9.17       350.67         8.0     71000.0   7.35   \n",
       "1646774     6000.0   36     11.99       199.26         0.0     15000.0  16.08   \n",
       "1646775     4500.0   36      9.76       144.70         9.0     79000.0  20.10   \n",
       "1646776     7500.0   36      9.76       241.16         3.0     48000.0   9.18   \n",
       "1646777    16800.0   36      7.26       520.74         0.0     62000.0  23.40   \n",
       "1646778    34000.0   36      9.76      1093.26        10.0    179000.0  27.93   \n",
       "1646779     8500.0   36     13.18       287.14        10.0    180000.0   4.00   \n",
       "1646782    12600.0   60     18.99       326.79         8.0     35000.0  35.97   \n",
       "1646783    12000.0   36      9.76       385.86        10.0     61500.0  12.00   \n",
       "1646784     5000.0   36     13.18       168.91         4.0     42000.0   6.08   \n",
       "1646786    12950.0   36     15.41       451.53         4.0     36000.0  38.57   \n",
       "1646787    24000.0   36      5.32       722.76         2.0    100000.0  19.27   \n",
       "1646788    21175.0   60     19.99       560.90         0.0     56000.0  31.12   \n",
       "1646793     5000.0   36      9.17       159.40         0.0     33000.0  28.95   \n",
       "1646794     6000.0   36      7.89       187.72         0.0     38000.0  12.35   \n",
       "1646795     6000.0   36      9.17       191.28         0.0     32640.0  22.76   \n",
       "1646797    34050.0   36     15.41      1187.21        10.0     87800.0  12.10   \n",
       "1646798     5000.0   36     11.22       164.22         7.0     65000.0   3.10   \n",
       "\n",
       "         open_acc  pub_rec  total_acc  ...  addr_state_TN  addr_state_TX  \\\n",
       "3             8.0      0.0       13.0  ...              0              0   \n",
       "13           14.0      0.0       21.0  ...              0              0   \n",
       "19            8.0      0.0       20.0  ...              0              0   \n",
       "20           11.0      0.0       17.0  ...              0              1   \n",
       "21           13.0      0.0       21.0  ...              0              1   \n",
       "30            8.0      0.0       13.0  ...              0              1   \n",
       "35            9.0      0.0       23.0  ...              0              0   \n",
       "39           25.0      0.0       49.0  ...              0              0   \n",
       "40           11.0      0.0       24.0  ...              0              0   \n",
       "43            7.0      1.0       22.0  ...              0              0   \n",
       "44            4.0      0.0        6.0  ...              0              0   \n",
       "45           15.0      0.0       19.0  ...              0              0   \n",
       "48            7.0      0.0       11.0  ...              0              0   \n",
       "51            9.0      0.0       27.0  ...              0              0   \n",
       "56           14.0      0.0       22.0  ...              0              0   \n",
       "60            4.0      0.0       50.0  ...              0              0   \n",
       "62           10.0      0.0       30.0  ...              0              0   \n",
       "67            8.0      0.0       15.0  ...              0              0   \n",
       "70           11.0      0.0       36.0  ...              0              0   \n",
       "75           27.0      0.0       59.0  ...              0              0   \n",
       "79            8.0      0.0       28.0  ...              0              0   \n",
       "81            5.0      0.0       11.0  ...              0              0   \n",
       "91           14.0      0.0       20.0  ...              0              0   \n",
       "98           13.0      0.0       23.0  ...              0              0   \n",
       "99            7.0      1.0       25.0  ...              0              0   \n",
       "100           9.0      0.0       13.0  ...              0              0   \n",
       "101          10.0      0.0       28.0  ...              0              0   \n",
       "104          15.0      0.0       51.0  ...              0              0   \n",
       "105          12.0      0.0       24.0  ...              0              0   \n",
       "112           8.0      0.0       18.0  ...              0              0   \n",
       "...           ...      ...        ...  ...            ...            ...   \n",
       "1646751       8.0      1.0       14.0  ...              0              0   \n",
       "1646754      11.0      0.0       18.0  ...              0              0   \n",
       "1646755       5.0      0.0        7.0  ...              0              0   \n",
       "1646761      12.0      0.0       27.0  ...              0              0   \n",
       "1646763      21.0      0.0       24.0  ...              0              0   \n",
       "1646765       7.0      0.0       12.0  ...              0              0   \n",
       "1646766      11.0      0.0       20.0  ...              0              0   \n",
       "1646767      12.0      0.0       21.0  ...              0              0   \n",
       "1646768       6.0      0.0       12.0  ...              0              0   \n",
       "1646769       9.0      0.0       14.0  ...              0              0   \n",
       "1646770       7.0      0.0       27.0  ...              0              0   \n",
       "1646772      14.0      0.0       25.0  ...              0              0   \n",
       "1646773       8.0      1.0       19.0  ...              0              0   \n",
       "1646774       7.0      0.0        7.0  ...              0              0   \n",
       "1646775      12.0      0.0       14.0  ...              0              0   \n",
       "1646776      10.0      0.0       14.0  ...              0              0   \n",
       "1646777       7.0      0.0        9.0  ...              0              0   \n",
       "1646778      14.0      0.0       42.0  ...              0              0   \n",
       "1646779      20.0      6.0       33.0  ...              0              0   \n",
       "1646782       9.0      0.0       14.0  ...              0              0   \n",
       "1646783      13.0      0.0       21.0  ...              0              0   \n",
       "1646784      17.0      0.0       18.0  ...              0              0   \n",
       "1646786      11.0      0.0       22.0  ...              0              0   \n",
       "1646787      10.0      0.0       24.0  ...              0              0   \n",
       "1646788       9.0      0.0       13.0  ...              0              1   \n",
       "1646793       9.0      0.0       12.0  ...              0              0   \n",
       "1646794      10.0      0.0       14.0  ...              0              0   \n",
       "1646795       9.0      1.0       17.0  ...              0              0   \n",
       "1646797      14.0      0.0       21.0  ...              0              0   \n",
       "1646798       6.0      1.0        8.0  ...              0              0   \n",
       "\n",
       "         addr_state_UT  addr_state_VA  addr_state_VT  addr_state_WA  \\\n",
       "3                    0              0              0              0   \n",
       "13                   0              0              0              0   \n",
       "19                   0              0              0              0   \n",
       "20                   0              0              0              0   \n",
       "21                   0              0              0              0   \n",
       "30                   0              0              0              0   \n",
       "35                   0              0              0              0   \n",
       "39                   0              0              0              0   \n",
       "40                   0              0              0              0   \n",
       "43                   0              0              0              0   \n",
       "44                   0              0              0              0   \n",
       "45                   0              0              0              0   \n",
       "48                   0              0              0              0   \n",
       "51                   0              0              0              0   \n",
       "56                   0              0              0              0   \n",
       "60                   0              0              0              0   \n",
       "62                   0              0              0              0   \n",
       "67                   0              0              0              0   \n",
       "70                   0              0              0              0   \n",
       "75                   0              0              0              0   \n",
       "79                   0              0              0              0   \n",
       "81                   0              0              0              0   \n",
       "91                   0              0              0              0   \n",
       "98                   0              0              0              0   \n",
       "99                   0              0              0              0   \n",
       "100                  0              0              0              0   \n",
       "101                  0              0              0              0   \n",
       "104                  0              0              0              0   \n",
       "105                  0              0              0              0   \n",
       "112                  0              0              0              0   \n",
       "...                ...            ...            ...            ...   \n",
       "1646751              0              0              0              0   \n",
       "1646754              0              0              0              0   \n",
       "1646755              0              0              0              0   \n",
       "1646761              0              0              0              0   \n",
       "1646763              0              0              0              0   \n",
       "1646765              0              0              0              0   \n",
       "1646766              0              0              0              0   \n",
       "1646767              0              0              0              0   \n",
       "1646768              0              0              0              0   \n",
       "1646769              0              0              0              0   \n",
       "1646770              0              0              0              0   \n",
       "1646772              0              0              0              0   \n",
       "1646773              0              0              0              0   \n",
       "1646774              0              0              0              0   \n",
       "1646775              0              0              0              0   \n",
       "1646776              0              0              0              0   \n",
       "1646777              0              0              0              0   \n",
       "1646778              0              0              0              0   \n",
       "1646779              0              0              0              0   \n",
       "1646782              0              0              0              0   \n",
       "1646783              0              1              0              0   \n",
       "1646784              0              0              0              0   \n",
       "1646786              0              0              0              0   \n",
       "1646787              0              0              0              0   \n",
       "1646788              0              0              0              0   \n",
       "1646793              0              0              0              0   \n",
       "1646794              0              0              0              0   \n",
       "1646795              0              0              0              0   \n",
       "1646797              0              0              0              0   \n",
       "1646798              0              1              0              0   \n",
       "\n",
       "         addr_state_WI  addr_state_WV  addr_state_WY  \\\n",
       "3                    0              0              0   \n",
       "13                   0              0              0   \n",
       "19                   0              0              0   \n",
       "20                   0              0              0   \n",
       "21                   0              0              0   \n",
       "30                   0              0              0   \n",
       "35                   0              0              0   \n",
       "39                   0              0              0   \n",
       "40                   0              0              0   \n",
       "43                   0              0              0   \n",
       "44                   0              0              0   \n",
       "45                   0              0              0   \n",
       "48                   0              0              0   \n",
       "51                   0              0              0   \n",
       "56                   0              0              0   \n",
       "60                   0              0              0   \n",
       "62                   0              0              0   \n",
       "67                   0              0              0   \n",
       "70                   0              0              0   \n",
       "75                   0              0              0   \n",
       "79                   0              0              0   \n",
       "81                   0              0              0   \n",
       "91                   0              0              0   \n",
       "98                   0              0              0   \n",
       "99                   0              0              0   \n",
       "100                  0              1              0   \n",
       "101                  0              0              0   \n",
       "104                  0              0              0   \n",
       "105                  0              0              0   \n",
       "112                  0              0              0   \n",
       "...                ...            ...            ...   \n",
       "1646751              0              0              0   \n",
       "1646754              0              0              0   \n",
       "1646755              0              0              0   \n",
       "1646761              0              0              0   \n",
       "1646763              0              0              0   \n",
       "1646765              0              0              0   \n",
       "1646766              0              0              0   \n",
       "1646767              0              0              0   \n",
       "1646768              0              0              0   \n",
       "1646769              0              0              0   \n",
       "1646770              0              0              0   \n",
       "1646772              0              0              0   \n",
       "1646773              0              0              0   \n",
       "1646774              0              0              0   \n",
       "1646775              0              0              0   \n",
       "1646776              0              0              0   \n",
       "1646777              0              0              0   \n",
       "1646778              0              0              0   \n",
       "1646779              0              0              0   \n",
       "1646782              0              0              0   \n",
       "1646783              0              0              0   \n",
       "1646784              0              0              0   \n",
       "1646786              0              0              0   \n",
       "1646787              0              0              0   \n",
       "1646788              0              0              0   \n",
       "1646793              0              0              0   \n",
       "1646794              0              0              0   \n",
       "1646795              0              0              0   \n",
       "1646797              0              0              0   \n",
       "1646798              0              0              0   \n",
       "\n",
       "         application_type_Joint App  \n",
       "3                                 0  \n",
       "13                                0  \n",
       "19                                0  \n",
       "20                                0  \n",
       "21                                0  \n",
       "30                                0  \n",
       "35                                0  \n",
       "39                                0  \n",
       "40                                0  \n",
       "43                                0  \n",
       "44                                0  \n",
       "45                                0  \n",
       "48                                0  \n",
       "51                                0  \n",
       "56                                0  \n",
       "60                                0  \n",
       "62                                0  \n",
       "67                                0  \n",
       "70                                0  \n",
       "75                                0  \n",
       "79                                0  \n",
       "81                                0  \n",
       "91                                0  \n",
       "98                                0  \n",
       "99                                0  \n",
       "100                               0  \n",
       "101                               0  \n",
       "104                               0  \n",
       "105                               0  \n",
       "112                               0  \n",
       "...                             ...  \n",
       "1646751                           0  \n",
       "1646754                           0  \n",
       "1646755                           0  \n",
       "1646761                           0  \n",
       "1646763                           0  \n",
       "1646765                           0  \n",
       "1646766                           0  \n",
       "1646767                           0  \n",
       "1646768                           0  \n",
       "1646769                           0  \n",
       "1646770                           0  \n",
       "1646772                           0  \n",
       "1646773                           0  \n",
       "1646774                           0  \n",
       "1646775                           0  \n",
       "1646776                           0  \n",
       "1646777                           0  \n",
       "1646778                           0  \n",
       "1646779                           0  \n",
       "1646782                           0  \n",
       "1646783                           0  \n",
       "1646784                           0  \n",
       "1646786                           0  \n",
       "1646787                           0  \n",
       "1646788                           0  \n",
       "1646793                           0  \n",
       "1646794                           0  \n",
       "1646795                           0  \n",
       "1646797                           0  \n",
       "1646798                           0  \n",
       "\n",
       "[788950 rows x 113 columns]"
      ]
     },
     "execution_count": 155,
     "metadata": {},
     "output_type": "execute_result"
    }
   ],
   "source": [
    "current_data1"
   ]
  },
  {
   "cell_type": "code",
   "execution_count": 156,
   "metadata": {},
   "outputs": [],
   "source": [
    "current_data1.fillna(method='ffill',inplace=True)"
   ]
  },
  {
   "cell_type": "code",
   "execution_count": 157,
   "metadata": {},
   "outputs": [
    {
     "data": {
      "text/plain": [
       "788950"
      ]
     },
     "execution_count": 157,
     "metadata": {},
     "output_type": "execute_result"
    }
   ],
   "source": [
    "current_data1['NA']=0\n",
    "current_data1['NA'].count()"
   ]
  },
  {
   "cell_type": "code",
   "execution_count": 158,
   "metadata": {},
   "outputs": [],
   "source": [
    "#current_data1_x=current_data1.loc[:559203,:]\n",
    "current_data1_x=current_data1.loc[:,:]\n",
    "curr_count=list(current_data1_x.shape)\n",
    "curr_t=curr_count[0]"
   ]
  },
  {
   "cell_type": "code",
   "execution_count": 159,
   "metadata": {},
   "outputs": [
    {
     "data": {
      "text/plain": [
       "array([1, 1, 1, ..., 1, 1, 1], dtype=uint8)"
      ]
     },
     "execution_count": 159,
     "metadata": {},
     "output_type": "execute_result"
    }
   ],
   "source": [
    "y_pred1 = dtc.predict(current_data1_x)\n",
    "y_pred1"
   ]
  },
  {
   "cell_type": "code",
   "execution_count": 160,
   "metadata": {},
   "outputs": [],
   "source": [
    "Final_dataframe = data\n"
   ]
  },
  {
   "cell_type": "code",
   "execution_count": null,
   "metadata": {},
   "outputs": [],
   "source": []
  },
  {
   "cell_type": "code",
   "execution_count": 161,
   "metadata": {},
   "outputs": [
    {
     "name": "stderr",
     "output_type": "stream",
     "text": [
      "C:\\Users\\admin\\Anaconda3\\lib\\site-packages\\ipykernel_launcher.py:1: SettingWithCopyWarning: \n",
      "A value is trying to be set on a copy of a slice from a DataFrame.\n",
      "Try using .loc[row_indexer,col_indexer] = value instead\n",
      "\n",
      "See the caveats in the documentation: http://pandas.pydata.org/pandas-docs/stable/indexing.html#indexing-view-versus-copy\n",
      "  \"\"\"Entry point for launching an IPython kernel.\n"
     ]
    }
   ],
   "source": [
    "current_data['prediction'] = y_pred1"
   ]
  },
  {
   "cell_type": "code",
   "execution_count": 162,
   "metadata": {},
   "outputs": [],
   "source": [
    "final = current_data.loc[:,['id','loan_amnt', 'term', 'int_rate', 'installment', 'sub_grade',\n",
    "       'emp_length', 'home_ownership', 'annual_inc', 'loan_status', 'purpose',\n",
    "       'addr_state', 'dti', 'open_acc', 'pub_rec', 'total_acc',\n",
    "       'application_type', 'mort_acc', 'pub_rec_bankruptcies', 'fico_score','prediction']]"
   ]
  },
  {
   "cell_type": "code",
   "execution_count": 163,
   "metadata": {},
   "outputs": [],
   "source": [
    "final_charge = final[final['prediction']==0]"
   ]
  },
  {
   "cell_type": "code",
   "execution_count": 164,
   "metadata": {},
   "outputs": [
    {
     "data": {
      "text/plain": [
       "181618"
      ]
     },
     "execution_count": 164,
     "metadata": {},
     "output_type": "execute_result"
    }
   ],
   "source": [
    "curr_c=list(final_charge.shape)\n",
    "curr_c=curr_c[0]\n",
    "curr_c"
   ]
  },
  {
   "cell_type": "code",
   "execution_count": 165,
   "metadata": {},
   "outputs": [],
   "source": [
    "final_paid = final[final['prediction']==1]"
   ]
  },
  {
   "cell_type": "code",
   "execution_count": 166,
   "metadata": {},
   "outputs": [
    {
     "data": {
      "text/plain": [
       "607332"
      ]
     },
     "execution_count": 166,
     "metadata": {},
     "output_type": "execute_result"
    }
   ],
   "source": [
    "curr_p=list(final_paid.shape)\n",
    "curr_p=curr_p[0]\n",
    "curr_p"
   ]
  },
  {
   "cell_type": "code",
   "execution_count": 167,
   "metadata": {},
   "outputs": [
    {
     "data": {
      "image/png": "[encoded data removed]",
      "text/plain": [
       "<Figure size 576x720 with 1 Axes>"
      ]
     },
     "metadata": {},
     "output_type": "display_data"
    }
   ],
   "source": [
    "value=[curr_p,curr_c]\n",
    "\n",
    "fig1, ax1 = plt.subplots(figsize=(8,10))\n",
    "\n",
    "ax1.pie(value,labels=['Fully Paid','Charged Off'],autopct='%1.2f%%',\n",
    "        shadow=True, startangle=60)\n",
    "\n",
    "plt.show()\n",
    "#curr_t"
   ]
  },
  {
   "cell_type": "code",
   "execution_count": null,
   "metadata": {},
   "outputs": [],
   "source": []
  }
 ],
 "metadata": {
  "kernelspec": {
   "display_name": "Python 3",
   "language": "python",
   "name": "python3"
  },
  "language_info": {
   "codemirror_mode": {
    "name": "ipython",
    "version": 3
   },
   "file_extension": ".py",
   "mimetype": "text/x-python",
   "name": "python",
   "nbconvert_exporter": "python",
   "pygments_lexer": "ipython3",
   "version": "3.7.3"
  }
 },
 "nbformat": 4,
 "nbformat_minor": 2
}
